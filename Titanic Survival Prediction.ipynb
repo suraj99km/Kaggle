{
 "cells": [
  {
   "cell_type": "markdown",
   "metadata": {},
   "source": [
    "# Titanic Survival Prediction"
   ]
  },
  {
   "cell_type": "markdown",
   "metadata": {},
   "source": [
    "## Loading the Data"
   ]
  },
  {
   "cell_type": "code",
   "execution_count": 1,
   "metadata": {},
   "outputs": [],
   "source": [
    "import pandas as pd"
   ]
  },
  {
   "cell_type": "code",
   "execution_count": 2,
   "metadata": {},
   "outputs": [],
   "source": [
    "#Let's see the training set\n",
    "train = pd.read_csv('train.csv')"
   ]
  },
  {
   "cell_type": "code",
   "execution_count": 3,
   "metadata": {},
   "outputs": [
    {
     "data": {
      "text/html": [
       "<div>\n",
       "<style scoped>\n",
       "    .dataframe tbody tr th:only-of-type {\n",
       "        vertical-align: middle;\n",
       "    }\n",
       "\n",
       "    .dataframe tbody tr th {\n",
       "        vertical-align: top;\n",
       "    }\n",
       "\n",
       "    .dataframe thead th {\n",
       "        text-align: right;\n",
       "    }\n",
       "</style>\n",
       "<table border=\"1\" class=\"dataframe\">\n",
       "  <thead>\n",
       "    <tr style=\"text-align: right;\">\n",
       "      <th></th>\n",
       "      <th>PassengerId</th>\n",
       "      <th>Survived</th>\n",
       "      <th>Pclass</th>\n",
       "      <th>Name</th>\n",
       "      <th>Sex</th>\n",
       "      <th>Age</th>\n",
       "      <th>SibSp</th>\n",
       "      <th>Parch</th>\n",
       "      <th>Ticket</th>\n",
       "      <th>Fare</th>\n",
       "      <th>Cabin</th>\n",
       "      <th>Embarked</th>\n",
       "    </tr>\n",
       "  </thead>\n",
       "  <tbody>\n",
       "    <tr>\n",
       "      <th>0</th>\n",
       "      <td>1</td>\n",
       "      <td>0</td>\n",
       "      <td>3</td>\n",
       "      <td>Braund, Mr. Owen Harris</td>\n",
       "      <td>male</td>\n",
       "      <td>22.0</td>\n",
       "      <td>1</td>\n",
       "      <td>0</td>\n",
       "      <td>A/5 21171</td>\n",
       "      <td>7.2500</td>\n",
       "      <td>NaN</td>\n",
       "      <td>S</td>\n",
       "    </tr>\n",
       "    <tr>\n",
       "      <th>1</th>\n",
       "      <td>2</td>\n",
       "      <td>1</td>\n",
       "      <td>1</td>\n",
       "      <td>Cumings, Mrs. John Bradley (Florence Briggs Th...</td>\n",
       "      <td>female</td>\n",
       "      <td>38.0</td>\n",
       "      <td>1</td>\n",
       "      <td>0</td>\n",
       "      <td>PC 17599</td>\n",
       "      <td>71.2833</td>\n",
       "      <td>C85</td>\n",
       "      <td>C</td>\n",
       "    </tr>\n",
       "    <tr>\n",
       "      <th>2</th>\n",
       "      <td>3</td>\n",
       "      <td>1</td>\n",
       "      <td>3</td>\n",
       "      <td>Heikkinen, Miss. Laina</td>\n",
       "      <td>female</td>\n",
       "      <td>26.0</td>\n",
       "      <td>0</td>\n",
       "      <td>0</td>\n",
       "      <td>STON/O2. 3101282</td>\n",
       "      <td>7.9250</td>\n",
       "      <td>NaN</td>\n",
       "      <td>S</td>\n",
       "    </tr>\n",
       "    <tr>\n",
       "      <th>3</th>\n",
       "      <td>4</td>\n",
       "      <td>1</td>\n",
       "      <td>1</td>\n",
       "      <td>Futrelle, Mrs. Jacques Heath (Lily May Peel)</td>\n",
       "      <td>female</td>\n",
       "      <td>35.0</td>\n",
       "      <td>1</td>\n",
       "      <td>0</td>\n",
       "      <td>113803</td>\n",
       "      <td>53.1000</td>\n",
       "      <td>C123</td>\n",
       "      <td>S</td>\n",
       "    </tr>\n",
       "    <tr>\n",
       "      <th>4</th>\n",
       "      <td>5</td>\n",
       "      <td>0</td>\n",
       "      <td>3</td>\n",
       "      <td>Allen, Mr. William Henry</td>\n",
       "      <td>male</td>\n",
       "      <td>35.0</td>\n",
       "      <td>0</td>\n",
       "      <td>0</td>\n",
       "      <td>373450</td>\n",
       "      <td>8.0500</td>\n",
       "      <td>NaN</td>\n",
       "      <td>S</td>\n",
       "    </tr>\n",
       "    <tr>\n",
       "      <th>...</th>\n",
       "      <td>...</td>\n",
       "      <td>...</td>\n",
       "      <td>...</td>\n",
       "      <td>...</td>\n",
       "      <td>...</td>\n",
       "      <td>...</td>\n",
       "      <td>...</td>\n",
       "      <td>...</td>\n",
       "      <td>...</td>\n",
       "      <td>...</td>\n",
       "      <td>...</td>\n",
       "      <td>...</td>\n",
       "    </tr>\n",
       "    <tr>\n",
       "      <th>886</th>\n",
       "      <td>887</td>\n",
       "      <td>0</td>\n",
       "      <td>2</td>\n",
       "      <td>Montvila, Rev. Juozas</td>\n",
       "      <td>male</td>\n",
       "      <td>27.0</td>\n",
       "      <td>0</td>\n",
       "      <td>0</td>\n",
       "      <td>211536</td>\n",
       "      <td>13.0000</td>\n",
       "      <td>NaN</td>\n",
       "      <td>S</td>\n",
       "    </tr>\n",
       "    <tr>\n",
       "      <th>887</th>\n",
       "      <td>888</td>\n",
       "      <td>1</td>\n",
       "      <td>1</td>\n",
       "      <td>Graham, Miss. Margaret Edith</td>\n",
       "      <td>female</td>\n",
       "      <td>19.0</td>\n",
       "      <td>0</td>\n",
       "      <td>0</td>\n",
       "      <td>112053</td>\n",
       "      <td>30.0000</td>\n",
       "      <td>B42</td>\n",
       "      <td>S</td>\n",
       "    </tr>\n",
       "    <tr>\n",
       "      <th>888</th>\n",
       "      <td>889</td>\n",
       "      <td>0</td>\n",
       "      <td>3</td>\n",
       "      <td>Johnston, Miss. Catherine Helen \"Carrie\"</td>\n",
       "      <td>female</td>\n",
       "      <td>NaN</td>\n",
       "      <td>1</td>\n",
       "      <td>2</td>\n",
       "      <td>W./C. 6607</td>\n",
       "      <td>23.4500</td>\n",
       "      <td>NaN</td>\n",
       "      <td>S</td>\n",
       "    </tr>\n",
       "    <tr>\n",
       "      <th>889</th>\n",
       "      <td>890</td>\n",
       "      <td>1</td>\n",
       "      <td>1</td>\n",
       "      <td>Behr, Mr. Karl Howell</td>\n",
       "      <td>male</td>\n",
       "      <td>26.0</td>\n",
       "      <td>0</td>\n",
       "      <td>0</td>\n",
       "      <td>111369</td>\n",
       "      <td>30.0000</td>\n",
       "      <td>C148</td>\n",
       "      <td>C</td>\n",
       "    </tr>\n",
       "    <tr>\n",
       "      <th>890</th>\n",
       "      <td>891</td>\n",
       "      <td>0</td>\n",
       "      <td>3</td>\n",
       "      <td>Dooley, Mr. Patrick</td>\n",
       "      <td>male</td>\n",
       "      <td>32.0</td>\n",
       "      <td>0</td>\n",
       "      <td>0</td>\n",
       "      <td>370376</td>\n",
       "      <td>7.7500</td>\n",
       "      <td>NaN</td>\n",
       "      <td>Q</td>\n",
       "    </tr>\n",
       "  </tbody>\n",
       "</table>\n",
       "<p>891 rows × 12 columns</p>\n",
       "</div>"
      ],
      "text/plain": [
       "     PassengerId  Survived  Pclass  \\\n",
       "0              1         0       3   \n",
       "1              2         1       1   \n",
       "2              3         1       3   \n",
       "3              4         1       1   \n",
       "4              5         0       3   \n",
       "..           ...       ...     ...   \n",
       "886          887         0       2   \n",
       "887          888         1       1   \n",
       "888          889         0       3   \n",
       "889          890         1       1   \n",
       "890          891         0       3   \n",
       "\n",
       "                                                  Name     Sex   Age  SibSp  \\\n",
       "0                              Braund, Mr. Owen Harris    male  22.0      1   \n",
       "1    Cumings, Mrs. John Bradley (Florence Briggs Th...  female  38.0      1   \n",
       "2                               Heikkinen, Miss. Laina  female  26.0      0   \n",
       "3         Futrelle, Mrs. Jacques Heath (Lily May Peel)  female  35.0      1   \n",
       "4                             Allen, Mr. William Henry    male  35.0      0   \n",
       "..                                                 ...     ...   ...    ...   \n",
       "886                              Montvila, Rev. Juozas    male  27.0      0   \n",
       "887                       Graham, Miss. Margaret Edith  female  19.0      0   \n",
       "888           Johnston, Miss. Catherine Helen \"Carrie\"  female   NaN      1   \n",
       "889                              Behr, Mr. Karl Howell    male  26.0      0   \n",
       "890                                Dooley, Mr. Patrick    male  32.0      0   \n",
       "\n",
       "     Parch            Ticket     Fare Cabin Embarked  \n",
       "0        0         A/5 21171   7.2500   NaN        S  \n",
       "1        0          PC 17599  71.2833   C85        C  \n",
       "2        0  STON/O2. 3101282   7.9250   NaN        S  \n",
       "3        0            113803  53.1000  C123        S  \n",
       "4        0            373450   8.0500   NaN        S  \n",
       "..     ...               ...      ...   ...      ...  \n",
       "886      0            211536  13.0000   NaN        S  \n",
       "887      0            112053  30.0000   B42        S  \n",
       "888      2        W./C. 6607  23.4500   NaN        S  \n",
       "889      0            111369  30.0000  C148        C  \n",
       "890      0            370376   7.7500   NaN        Q  \n",
       "\n",
       "[891 rows x 12 columns]"
      ]
     },
     "execution_count": 3,
     "metadata": {},
     "output_type": "execute_result"
    }
   ],
   "source": [
    "train"
   ]
  },
  {
   "cell_type": "markdown",
   "metadata": {},
   "source": [
    "The attributes have the following meaning:\n",
    "\n",
    "- **Survived**: that's the target, 0 means the passenger did not survive, while 1 means he/she survived.\n",
    "- **Pclass**: passenger class.\n",
    "- __Name, Sex, Age__: self-explanatory\n",
    "- __SibSp__: how many siblings & spouses of the passenger aboard the Titanic.\n",
    "- __Parch__: how many children & parents of the passenger aboard the Titanic.\n",
    "- __Ticket__: ticket id\n",
    "- __Fare__: price paid (in pounds)\n",
    "- __Cabin__: passenger's cabin number\n",
    "- __Embarked__: where the passenger embarked the Titanic"
   ]
  },
  {
   "cell_type": "code",
   "execution_count": 4,
   "metadata": {},
   "outputs": [],
   "source": [
    "X_train = train.drop(['Survived'], axis = 1)"
   ]
  },
  {
   "cell_type": "code",
   "execution_count": 5,
   "metadata": {},
   "outputs": [],
   "source": [
    "y_train = train['Survived']"
   ]
  },
  {
   "cell_type": "code",
   "execution_count": 6,
   "metadata": {},
   "outputs": [],
   "source": [
    "X_test = pd.read_csv('test.csv')"
   ]
  },
  {
   "cell_type": "markdown",
   "metadata": {},
   "source": [
    "## Understanding the Data"
   ]
  },
  {
   "cell_type": "code",
   "execution_count": 7,
   "metadata": {},
   "outputs": [
    {
     "name": "stdout",
     "output_type": "stream",
     "text": [
      "<class 'pandas.core.frame.DataFrame'>\n",
      "RangeIndex: 891 entries, 0 to 890\n",
      "Data columns (total 12 columns):\n",
      " #   Column       Non-Null Count  Dtype  \n",
      "---  ------       --------------  -----  \n",
      " 0   PassengerId  891 non-null    int64  \n",
      " 1   Survived     891 non-null    int64  \n",
      " 2   Pclass       891 non-null    int64  \n",
      " 3   Name         891 non-null    object \n",
      " 4   Sex          891 non-null    object \n",
      " 5   Age          714 non-null    float64\n",
      " 6   SibSp        891 non-null    int64  \n",
      " 7   Parch        891 non-null    int64  \n",
      " 8   Ticket       891 non-null    object \n",
      " 9   Fare         891 non-null    float64\n",
      " 10  Cabin        204 non-null    object \n",
      " 11  Embarked     889 non-null    object \n",
      "dtypes: float64(2), int64(5), object(5)\n",
      "memory usage: 83.7+ KB\n"
     ]
    }
   ],
   "source": [
    "train.info()"
   ]
  },
  {
   "cell_type": "markdown",
   "metadata": {},
   "source": [
    "__Age, Cabin and Embarked__ have missing values, we need to take care of them.\n",
    "\n",
    "We can use median strategy imputer on age and for embarked the most frequent one. But Cabin has so much missing data over 77%, so it's better to drop it.\n",
    "\n",
    "Let's understand the categorical values in the data."
   ]
  },
  {
   "cell_type": "code",
   "execution_count": 8,
   "metadata": {},
   "outputs": [
    {
     "data": {
      "text/plain": [
       "male      577\n",
       "female    314\n",
       "Name: Sex, dtype: int64"
      ]
     },
     "execution_count": 8,
     "metadata": {},
     "output_type": "execute_result"
    }
   ],
   "source": [
    "X_train['Sex'].value_counts()"
   ]
  },
  {
   "cell_type": "code",
   "execution_count": 9,
   "metadata": {},
   "outputs": [
    {
     "data": {
      "text/plain": [
       "347082      7\n",
       "CA. 2343    7\n",
       "1601        7\n",
       "CA 2144     6\n",
       "347088      6\n",
       "           ..\n",
       "A/5 3540    1\n",
       "2686        1\n",
       "113028      1\n",
       "368323      1\n",
       "2926        1\n",
       "Name: Ticket, Length: 681, dtype: int64"
      ]
     },
     "execution_count": 9,
     "metadata": {},
     "output_type": "execute_result"
    }
   ],
   "source": [
    "X_train['Ticket'].value_counts()"
   ]
  },
  {
   "cell_type": "markdown",
   "metadata": {},
   "source": [
    "So many categories!!"
   ]
  },
  {
   "cell_type": "code",
   "execution_count": 10,
   "metadata": {},
   "outputs": [
    {
     "data": {
      "text/plain": [
       "B96 B98        4\n",
       "C23 C25 C27    4\n",
       "G6             4\n",
       "F33            3\n",
       "D              3\n",
       "              ..\n",
       "B30            1\n",
       "D49            1\n",
       "C45            1\n",
       "E49            1\n",
       "B38            1\n",
       "Name: Cabin, Length: 147, dtype: int64"
      ]
     },
     "execution_count": 10,
     "metadata": {},
     "output_type": "execute_result"
    }
   ],
   "source": [
    "X_train['Cabin'].value_counts()"
   ]
  },
  {
   "cell_type": "markdown",
   "metadata": {},
   "source": [
    "Again, so many categories!!"
   ]
  },
  {
   "cell_type": "code",
   "execution_count": 11,
   "metadata": {},
   "outputs": [
    {
     "data": {
      "text/plain": [
       "S    644\n",
       "C    168\n",
       "Q     77\n",
       "Name: Embarked, dtype: int64"
      ]
     },
     "execution_count": 11,
     "metadata": {},
     "output_type": "execute_result"
    }
   ],
   "source": [
    "X_train['Embarked'].value_counts()"
   ]
  },
  {
   "cell_type": "markdown",
   "metadata": {},
   "source": [
    "__Port of Embarkation__: C = Cherbourg, Q = Queenstown, S = Southampton"
   ]
  },
  {
   "cell_type": "code",
   "execution_count": 12,
   "metadata": {},
   "outputs": [
    {
     "data": {
      "text/plain": [
       "3    491\n",
       "1    216\n",
       "2    184\n",
       "Name: Pclass, dtype: int64"
      ]
     },
     "execution_count": 12,
     "metadata": {},
     "output_type": "execute_result"
    }
   ],
   "source": [
    "X_train['Pclass'].value_counts()"
   ]
  },
  {
   "cell_type": "code",
   "execution_count": 13,
   "metadata": {},
   "outputs": [
    {
     "data": {
      "text/plain": [
       "0    608\n",
       "1    209\n",
       "2     28\n",
       "4     18\n",
       "3     16\n",
       "8      7\n",
       "5      5\n",
       "Name: SibSp, dtype: int64"
      ]
     },
     "execution_count": 13,
     "metadata": {},
     "output_type": "execute_result"
    }
   ],
   "source": [
    "X_train['SibSp'].value_counts()"
   ]
  },
  {
   "cell_type": "code",
   "execution_count": 14,
   "metadata": {},
   "outputs": [
    {
     "data": {
      "text/plain": [
       "0    678\n",
       "1    118\n",
       "2     80\n",
       "5      5\n",
       "3      5\n",
       "4      4\n",
       "6      1\n",
       "Name: Parch, dtype: int64"
      ]
     },
     "execution_count": 14,
     "metadata": {},
     "output_type": "execute_result"
    }
   ],
   "source": [
    "X_train['Parch'].value_counts()"
   ]
  },
  {
   "cell_type": "markdown",
   "metadata": {},
   "source": [
    "__Ticket Class__: 1 = 1st, 2 = 2nd, 3 = 3rd"
   ]
  },
  {
   "cell_type": "code",
   "execution_count": 15,
   "metadata": {},
   "outputs": [
    {
     "data": {
      "text/html": [
       "<div>\n",
       "<style scoped>\n",
       "    .dataframe tbody tr th:only-of-type {\n",
       "        vertical-align: middle;\n",
       "    }\n",
       "\n",
       "    .dataframe tbody tr th {\n",
       "        vertical-align: top;\n",
       "    }\n",
       "\n",
       "    .dataframe thead th {\n",
       "        text-align: right;\n",
       "    }\n",
       "</style>\n",
       "<table border=\"1\" class=\"dataframe\">\n",
       "  <thead>\n",
       "    <tr style=\"text-align: right;\">\n",
       "      <th></th>\n",
       "      <th>PassengerId</th>\n",
       "      <th>Survived</th>\n",
       "      <th>Pclass</th>\n",
       "      <th>Age</th>\n",
       "      <th>SibSp</th>\n",
       "      <th>Parch</th>\n",
       "      <th>Fare</th>\n",
       "    </tr>\n",
       "  </thead>\n",
       "  <tbody>\n",
       "    <tr>\n",
       "      <th>count</th>\n",
       "      <td>891.000000</td>\n",
       "      <td>891.000000</td>\n",
       "      <td>891.000000</td>\n",
       "      <td>714.000000</td>\n",
       "      <td>891.000000</td>\n",
       "      <td>891.000000</td>\n",
       "      <td>891.000000</td>\n",
       "    </tr>\n",
       "    <tr>\n",
       "      <th>mean</th>\n",
       "      <td>446.000000</td>\n",
       "      <td>0.383838</td>\n",
       "      <td>2.308642</td>\n",
       "      <td>29.699118</td>\n",
       "      <td>0.523008</td>\n",
       "      <td>0.381594</td>\n",
       "      <td>32.204208</td>\n",
       "    </tr>\n",
       "    <tr>\n",
       "      <th>std</th>\n",
       "      <td>257.353842</td>\n",
       "      <td>0.486592</td>\n",
       "      <td>0.836071</td>\n",
       "      <td>14.526497</td>\n",
       "      <td>1.102743</td>\n",
       "      <td>0.806057</td>\n",
       "      <td>49.693429</td>\n",
       "    </tr>\n",
       "    <tr>\n",
       "      <th>min</th>\n",
       "      <td>1.000000</td>\n",
       "      <td>0.000000</td>\n",
       "      <td>1.000000</td>\n",
       "      <td>0.420000</td>\n",
       "      <td>0.000000</td>\n",
       "      <td>0.000000</td>\n",
       "      <td>0.000000</td>\n",
       "    </tr>\n",
       "    <tr>\n",
       "      <th>25%</th>\n",
       "      <td>223.500000</td>\n",
       "      <td>0.000000</td>\n",
       "      <td>2.000000</td>\n",
       "      <td>20.125000</td>\n",
       "      <td>0.000000</td>\n",
       "      <td>0.000000</td>\n",
       "      <td>7.910400</td>\n",
       "    </tr>\n",
       "    <tr>\n",
       "      <th>50%</th>\n",
       "      <td>446.000000</td>\n",
       "      <td>0.000000</td>\n",
       "      <td>3.000000</td>\n",
       "      <td>28.000000</td>\n",
       "      <td>0.000000</td>\n",
       "      <td>0.000000</td>\n",
       "      <td>14.454200</td>\n",
       "    </tr>\n",
       "    <tr>\n",
       "      <th>75%</th>\n",
       "      <td>668.500000</td>\n",
       "      <td>1.000000</td>\n",
       "      <td>3.000000</td>\n",
       "      <td>38.000000</td>\n",
       "      <td>1.000000</td>\n",
       "      <td>0.000000</td>\n",
       "      <td>31.000000</td>\n",
       "    </tr>\n",
       "    <tr>\n",
       "      <th>max</th>\n",
       "      <td>891.000000</td>\n",
       "      <td>1.000000</td>\n",
       "      <td>3.000000</td>\n",
       "      <td>80.000000</td>\n",
       "      <td>8.000000</td>\n",
       "      <td>6.000000</td>\n",
       "      <td>512.329200</td>\n",
       "    </tr>\n",
       "  </tbody>\n",
       "</table>\n",
       "</div>"
      ],
      "text/plain": [
       "       PassengerId    Survived      Pclass         Age       SibSp  \\\n",
       "count   891.000000  891.000000  891.000000  714.000000  891.000000   \n",
       "mean    446.000000    0.383838    2.308642   29.699118    0.523008   \n",
       "std     257.353842    0.486592    0.836071   14.526497    1.102743   \n",
       "min       1.000000    0.000000    1.000000    0.420000    0.000000   \n",
       "25%     223.500000    0.000000    2.000000   20.125000    0.000000   \n",
       "50%     446.000000    0.000000    3.000000   28.000000    0.000000   \n",
       "75%     668.500000    1.000000    3.000000   38.000000    1.000000   \n",
       "max     891.000000    1.000000    3.000000   80.000000    8.000000   \n",
       "\n",
       "            Parch        Fare  \n",
       "count  891.000000  891.000000  \n",
       "mean     0.381594   32.204208  \n",
       "std      0.806057   49.693429  \n",
       "min      0.000000    0.000000  \n",
       "25%      0.000000    7.910400  \n",
       "50%      0.000000   14.454200  \n",
       "75%      0.000000   31.000000  \n",
       "max      6.000000  512.329200  "
      ]
     },
     "execution_count": 15,
     "metadata": {},
     "output_type": "execute_result"
    }
   ],
   "source": [
    "train.describe()"
   ]
  },
  {
   "cell_type": "markdown",
   "metadata": {},
   "source": [
    "- __PassengerId__ does tell anything interesting.\n",
    "- __Survived__'s mean is 0.38 (approx.) meaning that only 38% survived!\n",
    "- __Pclass__'s mean is around 2.3 meaning majority of the people were middle of lower class. But by looking at the distribution of Pclass we found that 55% of the people belong to lower class while upper and middle class are close in numbers.\n",
    "- __Age__'s mean is around 29 with std deviation around 14.5, min is 0.4 and max is 80. median is 28 and 25% of the people are less than 20 years old, and 75% of the people are less than 38 years old. (We should probably plot a histogram also).\n",
    "- __SibSp__ 52% have siblings/ spouse. max is 8. Could be converted into feature telling if passenger have sibling/spouse or not because 68% of the people don't have them in the ship.\n",
    "- __Parch__ 38% have parents/children. max is 6. Could be converted into feature telling if passenger have sibling/spouse or not because 76% of the people don't have them in the ship.\n",
    "- __Fare__ mean is 32 (approx.). 75% of the people pay 31 or less while max is 512! (A Histogram would be great representation)."
   ]
  },
  {
   "cell_type": "markdown",
   "metadata": {},
   "source": [
    "### Exploring Data through visualizations"
   ]
  },
  {
   "cell_type": "code",
   "execution_count": 16,
   "metadata": {},
   "outputs": [
    {
     "data": {
      "image/png": "[encoded data removed]",
      "text/plain": [
       "<Figure size 1440x1080 with 9 Axes>"
      ]
     },
     "metadata": {
      "needs_background": "light"
     },
     "output_type": "display_data"
    }
   ],
   "source": [
    "%matplotlib inline\n",
    "import matplotlib.pyplot as plt\n",
    "train.hist(bins = 50, figsize= (20,15))\n",
    "plt.show()"
   ]
  },
  {
   "cell_type": "markdown",
   "metadata": {},
   "source": [
    "By observing the plots, I have made few decisions:\n",
    "\n",
    "- We can drop __PassengerId__ from our model as survival does not seem to depend on it by it's consistent patterns which is probably because the bins contain odd numbers which is why either the value is 17.5 or it is 16.5.\n",
    "\n",
    "- __Parch__ categorical attribute will get converted into either have parents or children (1) or not (0).\n",
    "\n",
    "- __SibSp__ categorical attribute will get converted into either have siblings/spouse (1) or not (0).\n",
    "\n",
    "- __Pclass__ we may think of converting this into either lower class or not. But right now, haven't decided."
   ]
  },
  {
   "cell_type": "markdown",
   "metadata": {},
   "source": [
    "## Data Preprocessing\n",
    "\n",
    "Okay, so we have work to do!\n",
    "\n",
    "1. Drop __PassengerId__ and __Cabin__ from the dataset.\n",
    "2. Use One-hot Encoding on __Pclass__.\n",
    "3. Convert __Sex__ into categorical attribute.\n",
    "4. Impute __Age__ with median values.\n",
    "5. Feature scale the __SibSp__ and __Parch__.\n",
    "6. Add a column named __Family__.\n",
    "7. Impute __Embarked__ with most frequent class.\n",
    "8. Drop __Ticket__ and __Name__ for now as they are little more complicated.\n",
    "\n",
    "Let's create our data preprocessing Pipelines!"
   ]
  },
  {
   "cell_type": "code",
   "execution_count": 17,
   "metadata": {},
   "outputs": [],
   "source": [
    "X_train = X_train.drop(['PassengerId','Cabin','Name','Ticket'], axis = 1)"
   ]
  },
  {
   "cell_type": "code",
   "execution_count": 18,
   "metadata": {},
   "outputs": [
    {
     "data": {
      "text/html": [
       "<div>\n",
       "<style scoped>\n",
       "    .dataframe tbody tr th:only-of-type {\n",
       "        vertical-align: middle;\n",
       "    }\n",
       "\n",
       "    .dataframe tbody tr th {\n",
       "        vertical-align: top;\n",
       "    }\n",
       "\n",
       "    .dataframe thead th {\n",
       "        text-align: right;\n",
       "    }\n",
       "</style>\n",
       "<table border=\"1\" class=\"dataframe\">\n",
       "  <thead>\n",
       "    <tr style=\"text-align: right;\">\n",
       "      <th></th>\n",
       "      <th>Pclass</th>\n",
       "      <th>Sex</th>\n",
       "      <th>Age</th>\n",
       "      <th>SibSp</th>\n",
       "      <th>Parch</th>\n",
       "      <th>Fare</th>\n",
       "      <th>Embarked</th>\n",
       "    </tr>\n",
       "  </thead>\n",
       "  <tbody>\n",
       "    <tr>\n",
       "      <th>0</th>\n",
       "      <td>3</td>\n",
       "      <td>male</td>\n",
       "      <td>22.0</td>\n",
       "      <td>1</td>\n",
       "      <td>0</td>\n",
       "      <td>7.2500</td>\n",
       "      <td>S</td>\n",
       "    </tr>\n",
       "    <tr>\n",
       "      <th>1</th>\n",
       "      <td>1</td>\n",
       "      <td>female</td>\n",
       "      <td>38.0</td>\n",
       "      <td>1</td>\n",
       "      <td>0</td>\n",
       "      <td>71.2833</td>\n",
       "      <td>C</td>\n",
       "    </tr>\n",
       "    <tr>\n",
       "      <th>2</th>\n",
       "      <td>3</td>\n",
       "      <td>female</td>\n",
       "      <td>26.0</td>\n",
       "      <td>0</td>\n",
       "      <td>0</td>\n",
       "      <td>7.9250</td>\n",
       "      <td>S</td>\n",
       "    </tr>\n",
       "    <tr>\n",
       "      <th>3</th>\n",
       "      <td>1</td>\n",
       "      <td>female</td>\n",
       "      <td>35.0</td>\n",
       "      <td>1</td>\n",
       "      <td>0</td>\n",
       "      <td>53.1000</td>\n",
       "      <td>S</td>\n",
       "    </tr>\n",
       "    <tr>\n",
       "      <th>4</th>\n",
       "      <td>3</td>\n",
       "      <td>male</td>\n",
       "      <td>35.0</td>\n",
       "      <td>0</td>\n",
       "      <td>0</td>\n",
       "      <td>8.0500</td>\n",
       "      <td>S</td>\n",
       "    </tr>\n",
       "    <tr>\n",
       "      <th>...</th>\n",
       "      <td>...</td>\n",
       "      <td>...</td>\n",
       "      <td>...</td>\n",
       "      <td>...</td>\n",
       "      <td>...</td>\n",
       "      <td>...</td>\n",
       "      <td>...</td>\n",
       "    </tr>\n",
       "    <tr>\n",
       "      <th>886</th>\n",
       "      <td>2</td>\n",
       "      <td>male</td>\n",
       "      <td>27.0</td>\n",
       "      <td>0</td>\n",
       "      <td>0</td>\n",
       "      <td>13.0000</td>\n",
       "      <td>S</td>\n",
       "    </tr>\n",
       "    <tr>\n",
       "      <th>887</th>\n",
       "      <td>1</td>\n",
       "      <td>female</td>\n",
       "      <td>19.0</td>\n",
       "      <td>0</td>\n",
       "      <td>0</td>\n",
       "      <td>30.0000</td>\n",
       "      <td>S</td>\n",
       "    </tr>\n",
       "    <tr>\n",
       "      <th>888</th>\n",
       "      <td>3</td>\n",
       "      <td>female</td>\n",
       "      <td>NaN</td>\n",
       "      <td>1</td>\n",
       "      <td>2</td>\n",
       "      <td>23.4500</td>\n",
       "      <td>S</td>\n",
       "    </tr>\n",
       "    <tr>\n",
       "      <th>889</th>\n",
       "      <td>1</td>\n",
       "      <td>male</td>\n",
       "      <td>26.0</td>\n",
       "      <td>0</td>\n",
       "      <td>0</td>\n",
       "      <td>30.0000</td>\n",
       "      <td>C</td>\n",
       "    </tr>\n",
       "    <tr>\n",
       "      <th>890</th>\n",
       "      <td>3</td>\n",
       "      <td>male</td>\n",
       "      <td>32.0</td>\n",
       "      <td>0</td>\n",
       "      <td>0</td>\n",
       "      <td>7.7500</td>\n",
       "      <td>Q</td>\n",
       "    </tr>\n",
       "  </tbody>\n",
       "</table>\n",
       "<p>891 rows × 7 columns</p>\n",
       "</div>"
      ],
      "text/plain": [
       "     Pclass     Sex   Age  SibSp  Parch     Fare Embarked\n",
       "0         3    male  22.0      1      0   7.2500        S\n",
       "1         1  female  38.0      1      0  71.2833        C\n",
       "2         3  female  26.0      0      0   7.9250        S\n",
       "3         1  female  35.0      1      0  53.1000        S\n",
       "4         3    male  35.0      0      0   8.0500        S\n",
       "..      ...     ...   ...    ...    ...      ...      ...\n",
       "886       2    male  27.0      0      0  13.0000        S\n",
       "887       1  female  19.0      0      0  30.0000        S\n",
       "888       3  female   NaN      1      2  23.4500        S\n",
       "889       1    male  26.0      0      0  30.0000        C\n",
       "890       3    male  32.0      0      0   7.7500        Q\n",
       "\n",
       "[891 rows x 7 columns]"
      ]
     },
     "execution_count": 18,
     "metadata": {},
     "output_type": "execute_result"
    }
   ],
   "source": [
    "X_train"
   ]
  },
  {
   "cell_type": "code",
   "execution_count": 19,
   "metadata": {},
   "outputs": [],
   "source": [
    "X_train['Family'] = X_train['SibSp']+X_train['Parch']+1\n",
    "X_test['Family'] = X_test['SibSp']+X_test['Parch']+1"
   ]
  },
  {
   "cell_type": "code",
   "execution_count": 20,
   "metadata": {},
   "outputs": [],
   "source": [
    "from sklearn.base import BaseEstimator, TransformerMixin"
   ]
  },
  {
   "cell_type": "markdown",
   "metadata": {},
   "source": [
    "Don't worry about different libraries, best way to understand their usage is to go through their documentation, so I recommend you to keep the Scikit-Learn documentation handy."
   ]
  },
  {
   "cell_type": "markdown",
   "metadata": {},
   "source": [
    "Let's create a dataframe selector which we can use while apply some specific preprocessing steps on only the selected data attributes."
   ]
  },
  {
   "cell_type": "code",
   "execution_count": 21,
   "metadata": {},
   "outputs": [],
   "source": [
    "class DataFrameSelector(BaseEstimator, TransformerMixin):\n",
    "    def __init__(self, attribute_names):\n",
    "        self.attribute_names = attribute_names\n",
    "    def fit(self, X, y=None):\n",
    "        return self\n",
    "    def transform(self, X):\n",
    "        return X[self.attribute_names]"
   ]
  },
  {
   "cell_type": "markdown",
   "metadata": {},
   "source": [
    "Another way to do this same thing will be to specify initially which are the numerical and categorical columns."
   ]
  },
  {
   "cell_type": "code",
   "execution_count": 22,
   "metadata": {},
   "outputs": [],
   "source": [
    "categorical_columns = ['Pclass', 'Embarked']\n",
    "bincat_columns = ['SibSp', 'Sex', 'Parch']\n",
    "numerical_columns = ['Age', 'Fare']"
   ]
  },
  {
   "cell_type": "markdown",
   "metadata": {},
   "source": [
    "But one disadvantage is that if we run the transformation over categorical_columns, then all the columns will get that processing, which in some cases we would not want to do, but still they are useful, so we'll keep them."
   ]
  },
  {
   "cell_type": "code",
   "execution_count": 23,
   "metadata": {},
   "outputs": [],
   "source": [
    "class binary_cat(BaseEstimator, TransformerMixin):\n",
    "    \"\"\"\n",
    "    It converts the SibSp, Parch and Sex attributes into binary categories\n",
    "    \"\"\"\n",
    "    def fit(self, X,y=None):\n",
    "        return self\n",
    "    def transform(self, X):\n",
    "        X.loc[X.SibSp > 0, 'SibSp'] = 1\n",
    "        X.loc[X.Parch > 0, 'Parch'] = 1\n",
    "        X['Sex'].replace(['male','female'], [1,0],inplace=True)\n",
    "        return X[bincat_columns]"
   ]
  },
  {
   "cell_type": "code",
   "execution_count": 24,
   "metadata": {},
   "outputs": [],
   "source": [
    "bin_cat = binary_cat()"
   ]
  },
  {
   "cell_type": "code",
   "execution_count": 25,
   "metadata": {},
   "outputs": [
    {
     "data": {
      "text/plain": [
       "Pclass        int64\n",
       "Sex          object\n",
       "Age         float64\n",
       "SibSp         int64\n",
       "Parch         int64\n",
       "Fare        float64\n",
       "Embarked     object\n",
       "Family        int64\n",
       "dtype: object"
      ]
     },
     "execution_count": 25,
     "metadata": {},
     "output_type": "execute_result"
    }
   ],
   "source": [
    "X_train.dtypes"
   ]
  },
  {
   "cell_type": "markdown",
   "metadata": {},
   "source": [
    "### Processing Numerical Attributes"
   ]
  },
  {
   "cell_type": "code",
   "execution_count": 26,
   "metadata": {},
   "outputs": [],
   "source": [
    "from sklearn.pipeline import Pipeline\n",
    "from sklearn.impute import SimpleImputer\n",
    "from sklearn.preprocessing import StandardScaler\n",
    "\n",
    "num_pipeline = Pipeline([\n",
    "        (\"select_numeric\", DataFrameSelector([\"Age\", \"Fare\",\"Family\"])),\n",
    "        (\"imputer\", SimpleImputer(strategy=\"median\")),\n",
    "        ('std_scaler', StandardScaler())\n",
    "    ])"
   ]
  },
  {
   "cell_type": "code",
   "execution_count": 27,
   "metadata": {},
   "outputs": [
    {
     "data": {
      "text/plain": [
       "array([[-0.56573646, -0.50244517,  0.05915988],\n",
       "       [ 0.66386103,  0.78684529,  0.05915988],\n",
       "       [-0.25833709, -0.48885426, -0.56097483],\n",
       "       ...,\n",
       "       [-0.1046374 , -0.17626324,  1.29942929],\n",
       "       [-0.25833709, -0.04438104, -0.56097483],\n",
       "       [ 0.20276197, -0.49237783, -0.56097483]])"
      ]
     },
     "execution_count": 27,
     "metadata": {},
     "output_type": "execute_result"
    }
   ],
   "source": [
    "num_pipeline.fit_transform(X_train)"
   ]
  },
  {
   "cell_type": "markdown",
   "metadata": {},
   "source": [
    "### Processing Categorical Attributes"
   ]
  },
  {
   "cell_type": "code",
   "execution_count": 28,
   "metadata": {},
   "outputs": [],
   "source": [
    "from sklearn.preprocessing import OneHotEncoder\n",
    "\n",
    "categorical_encoder = OneHotEncoder(handle_unknown='ignore')"
   ]
  },
  {
   "cell_type": "code",
   "execution_count": 29,
   "metadata": {},
   "outputs": [],
   "source": [
    "class MostFrequentImputer(BaseEstimator, TransformerMixin):\n",
    "    def fit(self, X, y=None):\n",
    "        self.most_frequent_ = pd.Series([X[c].value_counts().index[0] for c in X],\n",
    "                                        index=X.columns)\n",
    "        return self\n",
    "    def transform(self, X, y=None):\n",
    "        return X.fillna(self.most_frequent_)"
   ]
  },
  {
   "cell_type": "code",
   "execution_count": 30,
   "metadata": {},
   "outputs": [],
   "source": [
    "cat_pipeline = Pipeline([\n",
    "        (\"select_cat\", DataFrameSelector([\"Pclass\", \"Embarked\"])),\n",
    "        (\"imputer\", MostFrequentImputer()),\n",
    "        (\"cat_encoder\", OneHotEncoder(sparse=False)),\n",
    "    ])"
   ]
  },
  {
   "cell_type": "code",
   "execution_count": 31,
   "metadata": {},
   "outputs": [
    {
     "data": {
      "text/plain": [
       "array([[0., 0., 1., 0., 0., 1.],\n",
       "       [1., 0., 0., 1., 0., 0.],\n",
       "       [0., 0., 1., 0., 0., 1.],\n",
       "       ...,\n",
       "       [0., 0., 1., 0., 0., 1.],\n",
       "       [1., 0., 0., 1., 0., 0.],\n",
       "       [0., 0., 1., 0., 1., 0.]])"
      ]
     },
     "execution_count": 31,
     "metadata": {},
     "output_type": "execute_result"
    }
   ],
   "source": [
    "cat_pipeline.fit_transform(X_train)"
   ]
  },
  {
   "cell_type": "markdown",
   "metadata": {},
   "source": [
    "### Combining all the processed columns"
   ]
  },
  {
   "cell_type": "code",
   "execution_count": 32,
   "metadata": {},
   "outputs": [],
   "source": [
    "from sklearn.pipeline import FeatureUnion\n",
    "preprocess_pipeline = FeatureUnion(transformer_list=[\n",
    "        (\"num_pipeline\", num_pipeline),\n",
    "        (\"cat_pipeline\", cat_pipeline),\n",
    "        (\"bincat\", bin_cat)\n",
    "    ])"
   ]
  },
  {
   "cell_type": "code",
   "execution_count": 33,
   "metadata": {
    "scrolled": true
   },
   "outputs": [
    {
     "data": {
      "text/plain": [
       "array([[-0.56573646, -0.50244517,  0.05915988, ...,  1.        ,\n",
       "         1.        ,  0.        ],\n",
       "       [ 0.66386103,  0.78684529,  0.05915988, ...,  1.        ,\n",
       "         0.        ,  0.        ],\n",
       "       [-0.25833709, -0.48885426, -0.56097483, ...,  0.        ,\n",
       "         0.        ,  0.        ],\n",
       "       ...,\n",
       "       [-0.1046374 , -0.17626324,  1.29942929, ...,  1.        ,\n",
       "         0.        ,  1.        ],\n",
       "       [-0.25833709, -0.04438104, -0.56097483, ...,  0.        ,\n",
       "         1.        ,  0.        ],\n",
       "       [ 0.20276197, -0.49237783, -0.56097483, ...,  0.        ,\n",
       "         1.        ,  0.        ]])"
      ]
     },
     "execution_count": 33,
     "metadata": {},
     "output_type": "execute_result"
    }
   ],
   "source": [
    "X_train = preprocess_pipeline.fit_transform(X_train)\n",
    "X_train"
   ]
  },
  {
   "cell_type": "code",
   "execution_count": 34,
   "metadata": {},
   "outputs": [
    {
     "data": {
      "text/plain": [
       "array([-0.56573646, -0.50244517,  0.05915988,  0.        ,  0.        ,\n",
       "        1.        ,  0.        ,  0.        ,  1.        ,  1.        ,\n",
       "        1.        ,  0.        ])"
      ]
     },
     "execution_count": 34,
     "metadata": {},
     "output_type": "execute_result"
    }
   ],
   "source": [
    "X_train[0]"
   ]
  },
  {
   "cell_type": "code",
   "execution_count": 35,
   "metadata": {},
   "outputs": [
    {
     "data": {
      "text/plain": [
       "0      0\n",
       "1      1\n",
       "2      1\n",
       "3      1\n",
       "4      0\n",
       "      ..\n",
       "886    0\n",
       "887    1\n",
       "888    0\n",
       "889    1\n",
       "890    0\n",
       "Name: Survived, Length: 891, dtype: int64"
      ]
     },
     "execution_count": 35,
     "metadata": {},
     "output_type": "execute_result"
    }
   ],
   "source": [
    "y_train"
   ]
  },
  {
   "cell_type": "markdown",
   "metadata": {},
   "source": [
    "## Applying a Machine Learning Model on our processed data\n",
    "\n",
    "Let's try a simple Logistic Regression model, which I think is great binary classifier using sigmoid function to classify. Simple and effective!"
   ]
  },
  {
   "cell_type": "code",
   "execution_count": 36,
   "metadata": {},
   "outputs": [],
   "source": [
    "from sklearn.model_selection import train_test_split"
   ]
  },
  {
   "cell_type": "code",
   "execution_count": 74,
   "metadata": {},
   "outputs": [],
   "source": [
    "xtrain, X_val, ytrain, y_val = train_test_split(X_train, y_train, test_size=0.2, random_state=42, stratify = y_train)"
   ]
  },
  {
   "cell_type": "code",
   "execution_count": 38,
   "metadata": {},
   "outputs": [],
   "source": [
    "from sklearn.linear_model import LogisticRegression"
   ]
  },
  {
   "cell_type": "code",
   "execution_count": 75,
   "metadata": {},
   "outputs": [
    {
     "data": {
      "text/plain": [
       "LogisticRegression(C=1.0, class_weight=None, dual=False, fit_intercept=True,\n",
       "                   intercept_scaling=1, l1_ratio=None, max_iter=300,\n",
       "                   multi_class='auto', n_jobs=None, penalty='l2',\n",
       "                   random_state=None, solver='lbfgs', tol=0.0001, verbose=0,\n",
       "                   warm_start=False)"
      ]
     },
     "execution_count": 75,
     "metadata": {},
     "output_type": "execute_result"
    }
   ],
   "source": [
    "log_clf = LogisticRegression(max_iter = 300)\n",
    "\n",
    "log_clf.fit(xtrain, ytrain)"
   ]
  },
  {
   "cell_type": "code",
   "execution_count": 76,
   "metadata": {},
   "outputs": [],
   "source": [
    "y_pred = log_clf.predict(X_val)"
   ]
  },
  {
   "cell_type": "code",
   "execution_count": 77,
   "metadata": {},
   "outputs": [],
   "source": [
    "from sklearn.metrics import accuracy_score"
   ]
  },
  {
   "cell_type": "code",
   "execution_count": 78,
   "metadata": {
    "scrolled": true
   },
   "outputs": [
    {
     "data": {
      "text/plain": [
       "0.8100558659217877"
      ]
     },
     "execution_count": 78,
     "metadata": {},
     "output_type": "execute_result"
    }
   ],
   "source": [
    "accuracy_score(y_val, y_pred)"
   ]
  },
  {
   "cell_type": "markdown",
   "metadata": {},
   "source": [
    "Using a validation set for evaluation gets us 80.4% accuracy.\n",
    "\n",
    "Now, using sklearn k-fold cross validation method for evaluation."
   ]
  },
  {
   "cell_type": "code",
   "execution_count": 79,
   "metadata": {
    "scrolled": true
   },
   "outputs": [
    {
     "data": {
      "text/plain": [
       "LogisticRegression(C=1.0, class_weight=None, dual=False, fit_intercept=True,\n",
       "                   intercept_scaling=1, l1_ratio=None, max_iter=300,\n",
       "                   multi_class='auto', n_jobs=None, penalty='l2',\n",
       "                   random_state=None, solver='lbfgs', tol=0.0001, verbose=0,\n",
       "                   warm_start=False)"
      ]
     },
     "execution_count": 79,
     "metadata": {},
     "output_type": "execute_result"
    }
   ],
   "source": [
    "log_clf = LogisticRegression(max_iter = 300)\n",
    "\n",
    "log_clf.fit(X_train,y_train)"
   ]
  },
  {
   "cell_type": "code",
   "execution_count": 80,
   "metadata": {},
   "outputs": [
    {
     "data": {
      "text/plain": [
       "0.8013857677902623"
      ]
     },
     "execution_count": 80,
     "metadata": {},
     "output_type": "execute_result"
    }
   ],
   "source": [
    "from sklearn.model_selection import cross_val_score\n",
    "\n",
    "svm_scores = cross_val_score(log_clf, X_train, y_train, cv=10)\n",
    "svm_scores.mean()"
   ]
  },
  {
   "cell_type": "markdown",
   "metadata": {},
   "source": [
    "We are getting 80.13% accuracy, Can we do better?\n",
    "\n",
    "Yes, we can try out different values of parameters in our model to see which one gives best result on our data."
   ]
  },
  {
   "cell_type": "markdown",
   "metadata": {},
   "source": [
    "### GridSearchCV"
   ]
  },
  {
   "cell_type": "code",
   "execution_count": 81,
   "metadata": {},
   "outputs": [],
   "source": [
    "from sklearn.model_selection import GridSearchCV\n",
    "from sklearn.model_selection import RepeatedStratifiedKFold"
   ]
  },
  {
   "cell_type": "code",
   "execution_count": 82,
   "metadata": {},
   "outputs": [],
   "source": [
    "cv = RepeatedStratifiedKFold(n_splits=3, n_repeats=3, random_state=1)"
   ]
  },
  {
   "cell_type": "code",
   "execution_count": 83,
   "metadata": {},
   "outputs": [],
   "source": [
    "param_grid = [\n",
    "    {'max_iter':[0.7,0.8,0.9,1],\n",
    "    'C':[0.1,0.2,0.3,0.4],\n",
    "    'solver':['newton-cg', 'liblinear'],\n",
    "    'class_weight': [None],\n",
    "    'n_jobs': [-1, 1]}\n",
    "]"
   ]
  },
  {
   "cell_type": "code",
   "execution_count": 84,
   "metadata": {},
   "outputs": [
    {
     "name": "stdout",
     "output_type": "stream",
     "text": [
      "Fitting 9 folds for each of 64 candidates, totalling 576 fits\n",
      "[CV] C=0.1, class_weight=None, max_iter=0.7, n_jobs=-1, solver=newton-cg \n"
     ]
    },
    {
     "name": "stderr",
     "output_type": "stream",
     "text": [
      "[Parallel(n_jobs=1)]: Using backend SequentialBackend with 1 concurrent workers.\n"
     ]
    },
    {
     "name": "stdout",
     "output_type": "stream",
     "text": [
      "[CV]  C=0.1, class_weight=None, max_iter=0.7, n_jobs=-1, solver=newton-cg, score=0.717, total=   1.5s\n",
      "[CV] C=0.1, class_weight=None, max_iter=0.7, n_jobs=-1, solver=newton-cg \n"
     ]
    },
    {
     "name": "stderr",
     "output_type": "stream",
     "text": [
      "[Parallel(n_jobs=1)]: Done   1 out of   1 | elapsed:    1.4s remaining:    0.0s\n"
     ]
    },
    {
     "name": "stdout",
     "output_type": "stream",
     "text": [
      "[CV]  C=0.1, class_weight=None, max_iter=0.7, n_jobs=-1, solver=newton-cg, score=0.751, total=   0.7s\n",
      "[CV] C=0.1, class_weight=None, max_iter=0.7, n_jobs=-1, solver=newton-cg \n"
     ]
    },
    {
     "name": "stderr",
     "output_type": "stream",
     "text": [
      "[Parallel(n_jobs=1)]: Done   2 out of   2 | elapsed:    2.1s remaining:    0.0s\n"
     ]
    },
    {
     "name": "stdout",
     "output_type": "stream",
     "text": [
      "[CV]  C=0.1, class_weight=None, max_iter=0.7, n_jobs=-1, solver=newton-cg, score=0.657, total=   0.7s\n",
      "[CV] C=0.1, class_weight=None, max_iter=0.7, n_jobs=-1, solver=newton-cg \n",
      "[CV]  C=0.1, class_weight=None, max_iter=0.7, n_jobs=-1, solver=newton-cg, score=0.734, total=   0.7s\n",
      "[CV] C=0.1, class_weight=None, max_iter=0.7, n_jobs=-1, solver=newton-cg \n",
      "[CV]  C=0.1, class_weight=None, max_iter=0.7, n_jobs=-1, solver=newton-cg, score=0.798, total=   0.0s\n",
      "[CV] C=0.1, class_weight=None, max_iter=0.7, n_jobs=-1, solver=newton-cg \n",
      "[CV]  C=0.1, class_weight=None, max_iter=0.7, n_jobs=-1, solver=newton-cg, score=0.673, total=   0.0s\n",
      "[CV] C=0.1, class_weight=None, max_iter=0.7, n_jobs=-1, solver=newton-cg \n",
      "[CV]  C=0.1, class_weight=None, max_iter=0.7, n_jobs=-1, solver=newton-cg, score=0.731, total=   0.0s\n",
      "[CV] C=0.1, class_weight=None, max_iter=0.7, n_jobs=-1, solver=newton-cg \n",
      "[CV]  C=0.1, class_weight=None, max_iter=0.7, n_jobs=-1, solver=newton-cg, score=0.764, total=   0.0s\n",
      "[CV] C=0.1, class_weight=None, max_iter=0.7, n_jobs=-1, solver=newton-cg \n",
      "[CV]  C=0.1, class_weight=None, max_iter=0.7, n_jobs=-1, solver=newton-cg, score=0.791, total=   0.0s\n",
      "[CV] C=0.1, class_weight=None, max_iter=0.7, n_jobs=-1, solver=liblinear \n",
      "[CV]  C=0.1, class_weight=None, max_iter=0.7, n_jobs=-1, solver=liblinear, score=0.616, total=   0.0s\n",
      "[CV] C=0.1, class_weight=None, max_iter=0.7, n_jobs=-1, solver=liblinear \n",
      "[CV]  C=0.1, class_weight=None, max_iter=0.7, n_jobs=-1, solver=liblinear, score=0.616, total=   0.0s\n",
      "[CV] C=0.1, class_weight=None, max_iter=0.7, n_jobs=-1, solver=liblinear \n",
      "[CV]  C=0.1, class_weight=None, max_iter=0.7, n_jobs=-1, solver=liblinear, score=0.616, total=   0.0s\n",
      "[CV] C=0.1, class_weight=None, max_iter=0.7, n_jobs=-1, solver=liblinear \n",
      "[CV]  C=0.1, class_weight=None, max_iter=0.7, n_jobs=-1, solver=liblinear, score=0.616, total=   0.0s\n",
      "[CV] C=0.1, class_weight=None, max_iter=0.7, n_jobs=-1, solver=liblinear \n",
      "[CV]  C=0.1, class_weight=None, max_iter=0.7, n_jobs=-1, solver=liblinear, score=0.616, total=   0.0s\n",
      "[CV] C=0.1, class_weight=None, max_iter=0.7, n_jobs=-1, solver=liblinear \n",
      "[CV]  C=0.1, class_weight=None, max_iter=0.7, n_jobs=-1, solver=liblinear, score=0.616, total=   0.0s\n",
      "[CV] C=0.1, class_weight=None, max_iter=0.7, n_jobs=-1, solver=liblinear \n",
      "[CV]  C=0.1, class_weight=None, max_iter=0.7, n_jobs=-1, solver=liblinear, score=0.616, total=   0.0s\n",
      "[CV] C=0.1, class_weight=None, max_iter=0.7, n_jobs=-1, solver=liblinear \n",
      "[CV]  C=0.1, class_weight=None, max_iter=0.7, n_jobs=-1, solver=liblinear, score=0.616, total=   0.0s\n",
      "[CV] C=0.1, class_weight=None, max_iter=0.7, n_jobs=-1, solver=liblinear \n",
      "[CV]  C=0.1, class_weight=None, max_iter=0.7, n_jobs=-1, solver=liblinear, score=0.616, total=   0.0s\n",
      "[CV] C=0.1, class_weight=None, max_iter=0.7, n_jobs=1, solver=newton-cg \n",
      "[CV]  C=0.1, class_weight=None, max_iter=0.7, n_jobs=1, solver=newton-cg, score=0.717, total=   0.0s\n",
      "[CV] C=0.1, class_weight=None, max_iter=0.7, n_jobs=1, solver=newton-cg \n",
      "[CV]  C=0.1, class_weight=None, max_iter=0.7, n_jobs=1, solver=newton-cg, score=0.751, total=   0.0s\n",
      "[CV] C=0.1, class_weight=None, max_iter=0.7, n_jobs=1, solver=newton-cg \n",
      "[CV]  C=0.1, class_weight=None, max_iter=0.7, n_jobs=1, solver=newton-cg, score=0.657, total=   0.0s\n",
      "[CV] C=0.1, class_weight=None, max_iter=0.7, n_jobs=1, solver=newton-cg \n",
      "[CV]  C=0.1, class_weight=None, max_iter=0.7, n_jobs=1, solver=newton-cg, score=0.734, total=   0.0s\n",
      "[CV] C=0.1, class_weight=None, max_iter=0.7, n_jobs=1, solver=newton-cg \n",
      "[CV]  C=0.1, class_weight=None, max_iter=0.7, n_jobs=1, solver=newton-cg, score=0.798, total=   0.0s\n",
      "[CV] C=0.1, class_weight=None, max_iter=0.7, n_jobs=1, solver=newton-cg \n",
      "[CV]  C=0.1, class_weight=None, max_iter=0.7, n_jobs=1, solver=newton-cg, score=0.673, total=   0.0s\n",
      "[CV] C=0.1, class_weight=None, max_iter=0.7, n_jobs=1, solver=newton-cg \n",
      "[CV]  C=0.1, class_weight=None, max_iter=0.7, n_jobs=1, solver=newton-cg, score=0.731, total=   0.0s\n",
      "[CV] C=0.1, class_weight=None, max_iter=0.7, n_jobs=1, solver=newton-cg \n",
      "[CV]  C=0.1, class_weight=None, max_iter=0.7, n_jobs=1, solver=newton-cg, score=0.764, total=   0.0s\n",
      "[CV] C=0.1, class_weight=None, max_iter=0.7, n_jobs=1, solver=newton-cg \n",
      "[CV]  C=0.1, class_weight=None, max_iter=0.7, n_jobs=1, solver=newton-cg, score=0.791, total=   0.0s\n",
      "[CV] C=0.1, class_weight=None, max_iter=0.7, n_jobs=1, solver=liblinear \n",
      "[CV]  C=0.1, class_weight=None, max_iter=0.7, n_jobs=1, solver=liblinear, score=0.616, total=   0.0s\n",
      "[CV] C=0.1, class_weight=None, max_iter=0.7, n_jobs=1, solver=liblinear \n",
      "[CV]  C=0.1, class_weight=None, max_iter=0.7, n_jobs=1, solver=liblinear, score=0.616, total=   0.0s\n",
      "[CV] C=0.1, class_weight=None, max_iter=0.7, n_jobs=1, solver=liblinear \n",
      "[CV]  C=0.1, class_weight=None, max_iter=0.7, n_jobs=1, solver=liblinear, score=0.616, total=   0.0s\n",
      "[CV] C=0.1, class_weight=None, max_iter=0.7, n_jobs=1, solver=liblinear \n",
      "[CV]  C=0.1, class_weight=None, max_iter=0.7, n_jobs=1, solver=liblinear, score=0.616, total=   0.0s\n",
      "[CV] C=0.1, class_weight=None, max_iter=0.7, n_jobs=1, solver=liblinear \n",
      "[CV]  C=0.1, class_weight=None, max_iter=0.7, n_jobs=1, solver=liblinear, score=0.616, total=   0.0s\n",
      "[CV] C=0.1, class_weight=None, max_iter=0.7, n_jobs=1, solver=liblinear \n",
      "[CV]  C=0.1, class_weight=None, max_iter=0.7, n_jobs=1, solver=liblinear, score=0.616, total=   0.0s\n",
      "[CV] C=0.1, class_weight=None, max_iter=0.7, n_jobs=1, solver=liblinear \n",
      "[CV]  C=0.1, class_weight=None, max_iter=0.7, n_jobs=1, solver=liblinear, score=0.616, total=   0.0s\n",
      "[CV] C=0.1, class_weight=None, max_iter=0.7, n_jobs=1, solver=liblinear \n",
      "[CV]  C=0.1, class_weight=None, max_iter=0.7, n_jobs=1, solver=liblinear, score=0.616, total=   0.0s\n",
      "[CV] C=0.1, class_weight=None, max_iter=0.7, n_jobs=1, solver=liblinear \n",
      "[CV]  C=0.1, class_weight=None, max_iter=0.7, n_jobs=1, solver=liblinear, score=0.616, total=   0.0s\n",
      "[CV] C=0.1, class_weight=None, max_iter=0.8, n_jobs=-1, solver=newton-cg \n",
      "[CV]  C=0.1, class_weight=None, max_iter=0.8, n_jobs=-1, solver=newton-cg, score=0.717, total=   0.0s\n",
      "[CV] C=0.1, class_weight=None, max_iter=0.8, n_jobs=-1, solver=newton-cg \n",
      "[CV]  C=0.1, class_weight=None, max_iter=0.8, n_jobs=-1, solver=newton-cg, score=0.751, total=   0.0s\n",
      "[CV] C=0.1, class_weight=None, max_iter=0.8, n_jobs=-1, solver=newton-cg \n",
      "[CV]  C=0.1, class_weight=None, max_iter=0.8, n_jobs=-1, solver=newton-cg, score=0.657, total=   0.0s"
     ]
    },
    {
     "name": "stderr",
     "output_type": "stream",
     "text": [
      "C:\\ProgramData\\Anaconda3\\lib\\site-packages\\sklearn\\linear_model\\_logistic.py:1539: UserWarning: 'n_jobs' > 1 does not have any effect when 'solver' is set to 'liblinear'. Got 'n_jobs' = 4.\n",
      "  \" = {}.\".format(effective_n_jobs(self.n_jobs)))\n",
      "C:\\ProgramData\\Anaconda3\\lib\\site-packages\\sklearn\\linear_model\\_logistic.py:1539: UserWarning: 'n_jobs' > 1 does not have any effect when 'solver' is set to 'liblinear'. Got 'n_jobs' = 4.\n",
      "  \" = {}.\".format(effective_n_jobs(self.n_jobs)))\n",
      "C:\\ProgramData\\Anaconda3\\lib\\site-packages\\sklearn\\linear_model\\_logistic.py:1539: UserWarning: 'n_jobs' > 1 does not have any effect when 'solver' is set to 'liblinear'. Got 'n_jobs' = 4.\n",
      "  \" = {}.\".format(effective_n_jobs(self.n_jobs)))\n",
      "C:\\ProgramData\\Anaconda3\\lib\\site-packages\\sklearn\\linear_model\\_logistic.py:1539: UserWarning: 'n_jobs' > 1 does not have any effect when 'solver' is set to 'liblinear'. Got 'n_jobs' = 4.\n",
      "  \" = {}.\".format(effective_n_jobs(self.n_jobs)))\n",
      "C:\\ProgramData\\Anaconda3\\lib\\site-packages\\sklearn\\linear_model\\_logistic.py:1539: UserWarning: 'n_jobs' > 1 does not have any effect when 'solver' is set to 'liblinear'. Got 'n_jobs' = 4.\n",
      "  \" = {}.\".format(effective_n_jobs(self.n_jobs)))\n",
      "C:\\ProgramData\\Anaconda3\\lib\\site-packages\\sklearn\\linear_model\\_logistic.py:1539: UserWarning: 'n_jobs' > 1 does not have any effect when 'solver' is set to 'liblinear'. Got 'n_jobs' = 4.\n",
      "  \" = {}.\".format(effective_n_jobs(self.n_jobs)))\n",
      "C:\\ProgramData\\Anaconda3\\lib\\site-packages\\sklearn\\linear_model\\_logistic.py:1539: UserWarning: 'n_jobs' > 1 does not have any effect when 'solver' is set to 'liblinear'. Got 'n_jobs' = 4.\n",
      "  \" = {}.\".format(effective_n_jobs(self.n_jobs)))\n",
      "C:\\ProgramData\\Anaconda3\\lib\\site-packages\\sklearn\\linear_model\\_logistic.py:1539: UserWarning: 'n_jobs' > 1 does not have any effect when 'solver' is set to 'liblinear'. Got 'n_jobs' = 4.\n",
      "  \" = {}.\".format(effective_n_jobs(self.n_jobs)))\n",
      "C:\\ProgramData\\Anaconda3\\lib\\site-packages\\sklearn\\linear_model\\_logistic.py:1539: UserWarning: 'n_jobs' > 1 does not have any effect when 'solver' is set to 'liblinear'. Got 'n_jobs' = 4.\n",
      "  \" = {}.\".format(effective_n_jobs(self.n_jobs)))\n",
      "C:\\ProgramData\\Anaconda3\\lib\\site-packages\\sklearn\\utils\\optimize.py:212: ConvergenceWarning: newton-cg failed to converge. Increase the number of iterations.\n",
      "  \"number of iterations.\", ConvergenceWarning)\n",
      "C:\\ProgramData\\Anaconda3\\lib\\site-packages\\sklearn\\utils\\optimize.py:212: ConvergenceWarning: newton-cg failed to converge. Increase the number of iterations.\n",
      "  \"number of iterations.\", ConvergenceWarning)\n",
      "C:\\ProgramData\\Anaconda3\\lib\\site-packages\\sklearn\\utils\\optimize.py:212: ConvergenceWarning: newton-cg failed to converge. Increase the number of iterations.\n",
      "  \"number of iterations.\", ConvergenceWarning)\n",
      "C:\\ProgramData\\Anaconda3\\lib\\site-packages\\sklearn\\utils\\optimize.py:212: ConvergenceWarning: newton-cg failed to converge. Increase the number of iterations.\n",
      "  \"number of iterations.\", ConvergenceWarning)\n",
      "C:\\ProgramData\\Anaconda3\\lib\\site-packages\\sklearn\\utils\\optimize.py:212: ConvergenceWarning: newton-cg failed to converge. Increase the number of iterations.\n",
      "  \"number of iterations.\", ConvergenceWarning)\n",
      "C:\\ProgramData\\Anaconda3\\lib\\site-packages\\sklearn\\utils\\optimize.py:212: ConvergenceWarning: newton-cg failed to converge. Increase the number of iterations.\n",
      "  \"number of iterations.\", ConvergenceWarning)\n",
      "C:\\ProgramData\\Anaconda3\\lib\\site-packages\\sklearn\\utils\\optimize.py:212: ConvergenceWarning: newton-cg failed to converge. Increase the number of iterations.\n",
      "  \"number of iterations.\", ConvergenceWarning)\n",
      "C:\\ProgramData\\Anaconda3\\lib\\site-packages\\sklearn\\utils\\optimize.py:212: ConvergenceWarning: newton-cg failed to converge. Increase the number of iterations.\n",
      "  \"number of iterations.\", ConvergenceWarning)\n",
      "C:\\ProgramData\\Anaconda3\\lib\\site-packages\\sklearn\\utils\\optimize.py:212: ConvergenceWarning: newton-cg failed to converge. Increase the number of iterations.\n",
      "  \"number of iterations.\", ConvergenceWarning)\n"
     ]
    },
    {
     "name": "stdout",
     "output_type": "stream",
     "text": [
      "\n",
      "[CV] C=0.1, class_weight=None, max_iter=0.8, n_jobs=-1, solver=newton-cg \n",
      "[CV]  C=0.1, class_weight=None, max_iter=0.8, n_jobs=-1, solver=newton-cg, score=0.734, total=   0.0s\n",
      "[CV] C=0.1, class_weight=None, max_iter=0.8, n_jobs=-1, solver=newton-cg \n",
      "[CV]  C=0.1, class_weight=None, max_iter=0.8, n_jobs=-1, solver=newton-cg, score=0.798, total=   0.0s\n",
      "[CV] C=0.1, class_weight=None, max_iter=0.8, n_jobs=-1, solver=newton-cg \n",
      "[CV]  C=0.1, class_weight=None, max_iter=0.8, n_jobs=-1, solver=newton-cg, score=0.673, total=   0.0s\n",
      "[CV] C=0.1, class_weight=None, max_iter=0.8, n_jobs=-1, solver=newton-cg \n",
      "[CV]  C=0.1, class_weight=None, max_iter=0.8, n_jobs=-1, solver=newton-cg, score=0.731, total=   0.0s\n",
      "[CV] C=0.1, class_weight=None, max_iter=0.8, n_jobs=-1, solver=newton-cg \n",
      "[CV]  C=0.1, class_weight=None, max_iter=0.8, n_jobs=-1, solver=newton-cg, score=0.764, total=   0.0s\n",
      "[CV] C=0.1, class_weight=None, max_iter=0.8, n_jobs=-1, solver=newton-cg \n",
      "[CV]  C=0.1, class_weight=None, max_iter=0.8, n_jobs=-1, solver=newton-cg, score=0.791, total=   0.0s\n",
      "[CV] C=0.1, class_weight=None, max_iter=0.8, n_jobs=-1, solver=liblinear \n",
      "[CV]  C=0.1, class_weight=None, max_iter=0.8, n_jobs=-1, solver=liblinear, score=0.616, total=   0.0s\n",
      "[CV] C=0.1, class_weight=None, max_iter=0.8, n_jobs=-1, solver=liblinear \n",
      "[CV]  C=0.1, class_weight=None, max_iter=0.8, n_jobs=-1, solver=liblinear, score=0.616, total=   0.0s\n",
      "[CV] C=0.1, class_weight=None, max_iter=0.8, n_jobs=-1, solver=liblinear \n",
      "[CV]  C=0.1, class_weight=None, max_iter=0.8, n_jobs=-1, solver=liblinear, score=0.616, total=   0.0s\n",
      "[CV] C=0.1, class_weight=None, max_iter=0.8, n_jobs=-1, solver=liblinear \n",
      "[CV]  C=0.1, class_weight=None, max_iter=0.8, n_jobs=-1, solver=liblinear, score=0.616, total=   0.0s\n",
      "[CV] C=0.1, class_weight=None, max_iter=0.8, n_jobs=-1, solver=liblinear \n",
      "[CV]  C=0.1, class_weight=None, max_iter=0.8, n_jobs=-1, solver=liblinear, score=0.616, total=   0.0s\n",
      "[CV] C=0.1, class_weight=None, max_iter=0.8, n_jobs=-1, solver=liblinear \n",
      "[CV]  C=0.1, class_weight=None, max_iter=0.8, n_jobs=-1, solver=liblinear, score=0.616, total=   0.0s\n",
      "[CV] C=0.1, class_weight=None, max_iter=0.8, n_jobs=-1, solver=liblinear \n",
      "[CV]  C=0.1, class_weight=None, max_iter=0.8, n_jobs=-1, solver=liblinear, score=0.616, total=   0.0s\n",
      "[CV] C=0.1, class_weight=None, max_iter=0.8, n_jobs=-1, solver=liblinear \n",
      "[CV]  C=0.1, class_weight=None, max_iter=0.8, n_jobs=-1, solver=liblinear, score=0.616, total=   0.0s\n",
      "[CV] C=0.1, class_weight=None, max_iter=0.8, n_jobs=-1, solver=liblinear \n",
      "[CV]  C=0.1, class_weight=None, max_iter=0.8, n_jobs=-1, solver=liblinear, score=0.616, total=   0.0s\n",
      "[CV] C=0.1, class_weight=None, max_iter=0.8, n_jobs=1, solver=newton-cg \n",
      "[CV]  C=0.1, class_weight=None, max_iter=0.8, n_jobs=1, solver=newton-cg, score=0.717, total=   0.0s\n",
      "[CV] C=0.1, class_weight=None, max_iter=0.8, n_jobs=1, solver=newton-cg \n",
      "[CV]  C=0.1, class_weight=None, max_iter=0.8, n_jobs=1, solver=newton-cg, score=0.751, total=   0.0s\n",
      "[CV] C=0.1, class_weight=None, max_iter=0.8, n_jobs=1, solver=newton-cg \n",
      "[CV]  C=0.1, class_weight=None, max_iter=0.8, n_jobs=1, solver=newton-cg, score=0.657, total=   0.0s\n",
      "[CV] C=0.1, class_weight=None, max_iter=0.8, n_jobs=1, solver=newton-cg \n",
      "[CV]  C=0.1, class_weight=None, max_iter=0.8, n_jobs=1, solver=newton-cg, score=0.734, total=   0.0s\n",
      "[CV] C=0.1, class_weight=None, max_iter=0.8, n_jobs=1, solver=newton-cg \n",
      "[CV]  C=0.1, class_weight=None, max_iter=0.8, n_jobs=1, solver=newton-cg, score=0.798, total=   0.0s\n",
      "[CV] C=0.1, class_weight=None, max_iter=0.8, n_jobs=1, solver=newton-cg \n",
      "[CV]  C=0.1, class_weight=None, max_iter=0.8, n_jobs=1, solver=newton-cg, score=0.673, total=   0.0s\n",
      "[CV] C=0.1, class_weight=None, max_iter=0.8, n_jobs=1, solver=newton-cg \n",
      "[CV]  C=0.1, class_weight=None, max_iter=0.8, n_jobs=1, solver=newton-cg, score=0.731, total=   0.0s\n",
      "[CV] C=0.1, class_weight=None, max_iter=0.8, n_jobs=1, solver=newton-cg \n",
      "[CV]  C=0.1, class_weight=None, max_iter=0.8, n_jobs=1, solver=newton-cg, score=0.764, total=   0.0s\n",
      "[CV] C=0.1, class_weight=None, max_iter=0.8, n_jobs=1, solver=newton-cg \n",
      "[CV]  C=0.1, class_weight=None, max_iter=0.8, n_jobs=1, solver=newton-cg, score=0.791, total=   0.0s\n",
      "[CV] C=0.1, class_weight=None, max_iter=0.8, n_jobs=1, solver=liblinear \n",
      "[CV]  C=0.1, class_weight=None, max_iter=0.8, n_jobs=1, solver=liblinear, score=0.616, total=   0.0s\n",
      "[CV] C=0.1, class_weight=None, max_iter=0.8, n_jobs=1, solver=liblinear \n",
      "[CV]  C=0.1, class_weight=None, max_iter=0.8, n_jobs=1, solver=liblinear, score=0.616, total=   0.0s\n",
      "[CV] C=0.1, class_weight=None, max_iter=0.8, n_jobs=1, solver=liblinear \n",
      "[CV]  C=0.1, class_weight=None, max_iter=0.8, n_jobs=1, solver=liblinear, score=0.616, total=   0.0s\n",
      "[CV] C=0.1, class_weight=None, max_iter=0.8, n_jobs=1, solver=liblinear \n",
      "[CV]  C=0.1, class_weight=None, max_iter=0.8, n_jobs=1, solver=liblinear, score=0.616, total=   0.0s\n",
      "[CV] C=0.1, class_weight=None, max_iter=0.8, n_jobs=1, solver=liblinear \n",
      "[CV]  C=0.1, class_weight=None, max_iter=0.8, n_jobs=1, solver=liblinear, score=0.616, total=   0.0s\n",
      "[CV] C=0.1, class_weight=None, max_iter=0.8, n_jobs=1, solver=liblinear \n",
      "[CV]  C=0.1, class_weight=None, max_iter=0.8, n_jobs=1, solver=liblinear, score=0.616, total=   0.0s\n",
      "[CV] C=0.1, class_weight=None, max_iter=0.8, n_jobs=1, solver=liblinear \n",
      "[CV]  C=0.1, class_weight=None, max_iter=0.8, n_jobs=1, solver=liblinear, score=0.616, total=   0.0s\n",
      "[CV] C=0.1, class_weight=None, max_iter=0.8, n_jobs=1, solver=liblinear \n",
      "[CV]  C=0.1, class_weight=None, max_iter=0.8, n_jobs=1, solver=liblinear, score=0.616, total=   0.0s"
     ]
    },
    {
     "name": "stderr",
     "output_type": "stream",
     "text": [
      "C:\\ProgramData\\Anaconda3\\lib\\site-packages\\sklearn\\linear_model\\_logistic.py:1539: UserWarning: 'n_jobs' > 1 does not have any effect when 'solver' is set to 'liblinear'. Got 'n_jobs' = 4.\n",
      "  \" = {}.\".format(effective_n_jobs(self.n_jobs)))\n",
      "C:\\ProgramData\\Anaconda3\\lib\\site-packages\\sklearn\\linear_model\\_logistic.py:1539: UserWarning: 'n_jobs' > 1 does not have any effect when 'solver' is set to 'liblinear'. Got 'n_jobs' = 4.\n",
      "  \" = {}.\".format(effective_n_jobs(self.n_jobs)))\n",
      "C:\\ProgramData\\Anaconda3\\lib\\site-packages\\sklearn\\linear_model\\_logistic.py:1539: UserWarning: 'n_jobs' > 1 does not have any effect when 'solver' is set to 'liblinear'. Got 'n_jobs' = 4.\n",
      "  \" = {}.\".format(effective_n_jobs(self.n_jobs)))\n",
      "C:\\ProgramData\\Anaconda3\\lib\\site-packages\\sklearn\\linear_model\\_logistic.py:1539: UserWarning: 'n_jobs' > 1 does not have any effect when 'solver' is set to 'liblinear'. Got 'n_jobs' = 4.\n",
      "  \" = {}.\".format(effective_n_jobs(self.n_jobs)))\n",
      "C:\\ProgramData\\Anaconda3\\lib\\site-packages\\sklearn\\linear_model\\_logistic.py:1539: UserWarning: 'n_jobs' > 1 does not have any effect when 'solver' is set to 'liblinear'. Got 'n_jobs' = 4.\n",
      "  \" = {}.\".format(effective_n_jobs(self.n_jobs)))\n",
      "C:\\ProgramData\\Anaconda3\\lib\\site-packages\\sklearn\\linear_model\\_logistic.py:1539: UserWarning: 'n_jobs' > 1 does not have any effect when 'solver' is set to 'liblinear'. Got 'n_jobs' = 4.\n",
      "  \" = {}.\".format(effective_n_jobs(self.n_jobs)))\n",
      "C:\\ProgramData\\Anaconda3\\lib\\site-packages\\sklearn\\linear_model\\_logistic.py:1539: UserWarning: 'n_jobs' > 1 does not have any effect when 'solver' is set to 'liblinear'. Got 'n_jobs' = 4.\n",
      "  \" = {}.\".format(effective_n_jobs(self.n_jobs)))\n",
      "C:\\ProgramData\\Anaconda3\\lib\\site-packages\\sklearn\\linear_model\\_logistic.py:1539: UserWarning: 'n_jobs' > 1 does not have any effect when 'solver' is set to 'liblinear'. Got 'n_jobs' = 4.\n",
      "  \" = {}.\".format(effective_n_jobs(self.n_jobs)))\n",
      "C:\\ProgramData\\Anaconda3\\lib\\site-packages\\sklearn\\linear_model\\_logistic.py:1539: UserWarning: 'n_jobs' > 1 does not have any effect when 'solver' is set to 'liblinear'. Got 'n_jobs' = 4.\n",
      "  \" = {}.\".format(effective_n_jobs(self.n_jobs)))\n",
      "C:\\ProgramData\\Anaconda3\\lib\\site-packages\\sklearn\\utils\\optimize.py:212: ConvergenceWarning: newton-cg failed to converge. Increase the number of iterations.\n",
      "  \"number of iterations.\", ConvergenceWarning)\n",
      "C:\\ProgramData\\Anaconda3\\lib\\site-packages\\sklearn\\utils\\optimize.py:212: ConvergenceWarning: newton-cg failed to converge. Increase the number of iterations.\n",
      "  \"number of iterations.\", ConvergenceWarning)\n",
      "C:\\ProgramData\\Anaconda3\\lib\\site-packages\\sklearn\\utils\\optimize.py:212: ConvergenceWarning: newton-cg failed to converge. Increase the number of iterations.\n",
      "  \"number of iterations.\", ConvergenceWarning)\n",
      "C:\\ProgramData\\Anaconda3\\lib\\site-packages\\sklearn\\utils\\optimize.py:212: ConvergenceWarning: newton-cg failed to converge. Increase the number of iterations.\n",
      "  \"number of iterations.\", ConvergenceWarning)\n",
      "C:\\ProgramData\\Anaconda3\\lib\\site-packages\\sklearn\\utils\\optimize.py:212: ConvergenceWarning: newton-cg failed to converge. Increase the number of iterations.\n",
      "  \"number of iterations.\", ConvergenceWarning)\n",
      "C:\\ProgramData\\Anaconda3\\lib\\site-packages\\sklearn\\utils\\optimize.py:212: ConvergenceWarning: newton-cg failed to converge. Increase the number of iterations.\n",
      "  \"number of iterations.\", ConvergenceWarning)\n",
      "C:\\ProgramData\\Anaconda3\\lib\\site-packages\\sklearn\\utils\\optimize.py:212: ConvergenceWarning: newton-cg failed to converge. Increase the number of iterations.\n",
      "  \"number of iterations.\", ConvergenceWarning)\n",
      "C:\\ProgramData\\Anaconda3\\lib\\site-packages\\sklearn\\utils\\optimize.py:212: ConvergenceWarning: newton-cg failed to converge. Increase the number of iterations.\n",
      "  \"number of iterations.\", ConvergenceWarning)\n",
      "C:\\ProgramData\\Anaconda3\\lib\\site-packages\\sklearn\\utils\\optimize.py:212: ConvergenceWarning: newton-cg failed to converge. Increase the number of iterations.\n",
      "  \"number of iterations.\", ConvergenceWarning)\n"
     ]
    },
    {
     "name": "stdout",
     "output_type": "stream",
     "text": [
      "\n",
      "[CV] C=0.1, class_weight=None, max_iter=0.8, n_jobs=1, solver=liblinear \n",
      "[CV]  C=0.1, class_weight=None, max_iter=0.8, n_jobs=1, solver=liblinear, score=0.616, total=   0.0s\n",
      "[CV] C=0.1, class_weight=None, max_iter=0.9, n_jobs=-1, solver=newton-cg \n",
      "[CV]  C=0.1, class_weight=None, max_iter=0.9, n_jobs=-1, solver=newton-cg, score=0.717, total=   0.0s\n",
      "[CV] C=0.1, class_weight=None, max_iter=0.9, n_jobs=-1, solver=newton-cg \n",
      "[CV]  C=0.1, class_weight=None, max_iter=0.9, n_jobs=-1, solver=newton-cg, score=0.751, total=   0.0s\n",
      "[CV] C=0.1, class_weight=None, max_iter=0.9, n_jobs=-1, solver=newton-cg \n",
      "[CV]  C=0.1, class_weight=None, max_iter=0.9, n_jobs=-1, solver=newton-cg, score=0.657, total=   0.0s\n",
      "[CV] C=0.1, class_weight=None, max_iter=0.9, n_jobs=-1, solver=newton-cg \n",
      "[CV]  C=0.1, class_weight=None, max_iter=0.9, n_jobs=-1, solver=newton-cg, score=0.734, total=   0.0s\n",
      "[CV] C=0.1, class_weight=None, max_iter=0.9, n_jobs=-1, solver=newton-cg \n",
      "[CV]  C=0.1, class_weight=None, max_iter=0.9, n_jobs=-1, solver=newton-cg, score=0.798, total=   0.0s\n",
      "[CV] C=0.1, class_weight=None, max_iter=0.9, n_jobs=-1, solver=newton-cg \n",
      "[CV]  C=0.1, class_weight=None, max_iter=0.9, n_jobs=-1, solver=newton-cg, score=0.673, total=   0.0s\n",
      "[CV] C=0.1, class_weight=None, max_iter=0.9, n_jobs=-1, solver=newton-cg \n",
      "[CV]  C=0.1, class_weight=None, max_iter=0.9, n_jobs=-1, solver=newton-cg, score=0.731, total=   0.0s\n",
      "[CV] C=0.1, class_weight=None, max_iter=0.9, n_jobs=-1, solver=newton-cg \n",
      "[CV]  C=0.1, class_weight=None, max_iter=0.9, n_jobs=-1, solver=newton-cg, score=0.764, total=   0.0s\n",
      "[CV] C=0.1, class_weight=None, max_iter=0.9, n_jobs=-1, solver=newton-cg \n",
      "[CV]  C=0.1, class_weight=None, max_iter=0.9, n_jobs=-1, solver=newton-cg, score=0.791, total=   0.0s\n",
      "[CV] C=0.1, class_weight=None, max_iter=0.9, n_jobs=-1, solver=liblinear \n",
      "[CV]  C=0.1, class_weight=None, max_iter=0.9, n_jobs=-1, solver=liblinear, score=0.616, total=   0.0s\n",
      "[CV] C=0.1, class_weight=None, max_iter=0.9, n_jobs=-1, solver=liblinear \n",
      "[CV]  C=0.1, class_weight=None, max_iter=0.9, n_jobs=-1, solver=liblinear, score=0.616, total=   0.0s\n",
      "[CV] C=0.1, class_weight=None, max_iter=0.9, n_jobs=-1, solver=liblinear \n",
      "[CV]  C=0.1, class_weight=None, max_iter=0.9, n_jobs=-1, solver=liblinear, score=0.616, total=   0.0s\n",
      "[CV] C=0.1, class_weight=None, max_iter=0.9, n_jobs=-1, solver=liblinear \n",
      "[CV]  C=0.1, class_weight=None, max_iter=0.9, n_jobs=-1, solver=liblinear, score=0.616, total=   0.0s\n",
      "[CV] C=0.1, class_weight=None, max_iter=0.9, n_jobs=-1, solver=liblinear \n",
      "[CV]  C=0.1, class_weight=None, max_iter=0.9, n_jobs=-1, solver=liblinear, score=0.616, total=   0.0s\n",
      "[CV] C=0.1, class_weight=None, max_iter=0.9, n_jobs=-1, solver=liblinear \n",
      "[CV]  C=0.1, class_weight=None, max_iter=0.9, n_jobs=-1, solver=liblinear, score=0.616, total=   0.0s\n",
      "[CV] C=0.1, class_weight=None, max_iter=0.9, n_jobs=-1, solver=liblinear \n",
      "[CV]  C=0.1, class_weight=None, max_iter=0.9, n_jobs=-1, solver=liblinear, score=0.616, total=   0.0s\n",
      "[CV] C=0.1, class_weight=None, max_iter=0.9, n_jobs=-1, solver=liblinear \n",
      "[CV]  C=0.1, class_weight=None, max_iter=0.9, n_jobs=-1, solver=liblinear, score=0.616, total=   0.0s\n",
      "[CV] C=0.1, class_weight=None, max_iter=0.9, n_jobs=-1, solver=liblinear \n",
      "[CV]  C=0.1, class_weight=None, max_iter=0.9, n_jobs=-1, solver=liblinear, score=0.616, total=   0.0s\n",
      "[CV] C=0.1, class_weight=None, max_iter=0.9, n_jobs=1, solver=newton-cg \n",
      "[CV]  C=0.1, class_weight=None, max_iter=0.9, n_jobs=1, solver=newton-cg, score=0.717, total=   0.0s\n",
      "[CV] C=0.1, class_weight=None, max_iter=0.9, n_jobs=1, solver=newton-cg \n",
      "[CV]  C=0.1, class_weight=None, max_iter=0.9, n_jobs=1, solver=newton-cg, score=0.751, total=   0.0s\n",
      "[CV] C=0.1, class_weight=None, max_iter=0.9, n_jobs=1, solver=newton-cg \n",
      "[CV]  C=0.1, class_weight=None, max_iter=0.9, n_jobs=1, solver=newton-cg, score=0.657, total=   0.0s\n",
      "[CV] C=0.1, class_weight=None, max_iter=0.9, n_jobs=1, solver=newton-cg \n",
      "[CV]  C=0.1, class_weight=None, max_iter=0.9, n_jobs=1, solver=newton-cg, score=0.734, total=   0.0s\n",
      "[CV] C=0.1, class_weight=None, max_iter=0.9, n_jobs=1, solver=newton-cg \n",
      "[CV]  C=0.1, class_weight=None, max_iter=0.9, n_jobs=1, solver=newton-cg, score=0.798, total=   0.0s\n",
      "[CV] C=0.1, class_weight=None, max_iter=0.9, n_jobs=1, solver=newton-cg \n",
      "[CV]  C=0.1, class_weight=None, max_iter=0.9, n_jobs=1, solver=newton-cg, score=0.673, total=   0.0s\n",
      "[CV] C=0.1, class_weight=None, max_iter=0.9, n_jobs=1, solver=newton-cg \n",
      "[CV]  C=0.1, class_weight=None, max_iter=0.9, n_jobs=1, solver=newton-cg, score=0.731, total=   0.0s\n",
      "[CV] C=0.1, class_weight=None, max_iter=0.9, n_jobs=1, solver=newton-cg \n",
      "[CV]  C=0.1, class_weight=None, max_iter=0.9, n_jobs=1, solver=newton-cg, score=0.764, total=   0.0s\n",
      "[CV] C=0.1, class_weight=None, max_iter=0.9, n_jobs=1, solver=newton-cg \n",
      "[CV]  C=0.1, class_weight=None, max_iter=0.9, n_jobs=1, solver=newton-cg, score=0.791, total=   0.0s\n",
      "[CV] C=0.1, class_weight=None, max_iter=0.9, n_jobs=1, solver=liblinear \n",
      "[CV]  C=0.1, class_weight=None, max_iter=0.9, n_jobs=1, solver=liblinear, score=0.616, total=   0.0s\n",
      "[CV] C=0.1, class_weight=None, max_iter=0.9, n_jobs=1, solver=liblinear \n",
      "[CV]  C=0.1, class_weight=None, max_iter=0.9, n_jobs=1, solver=liblinear, score=0.616, total=   0.0s\n",
      "[CV] C=0.1, class_weight=None, max_iter=0.9, n_jobs=1, solver=liblinear \n",
      "[CV]  C=0.1, class_weight=None, max_iter=0.9, n_jobs=1, solver=liblinear, score=0.616, total=   0.0s"
     ]
    },
    {
     "name": "stderr",
     "output_type": "stream",
     "text": [
      "C:\\ProgramData\\Anaconda3\\lib\\site-packages\\sklearn\\linear_model\\_logistic.py:1539: UserWarning: 'n_jobs' > 1 does not have any effect when 'solver' is set to 'liblinear'. Got 'n_jobs' = 4.\n",
      "  \" = {}.\".format(effective_n_jobs(self.n_jobs)))\n",
      "C:\\ProgramData\\Anaconda3\\lib\\site-packages\\sklearn\\linear_model\\_logistic.py:1539: UserWarning: 'n_jobs' > 1 does not have any effect when 'solver' is set to 'liblinear'. Got 'n_jobs' = 4.\n",
      "  \" = {}.\".format(effective_n_jobs(self.n_jobs)))\n",
      "C:\\ProgramData\\Anaconda3\\lib\\site-packages\\sklearn\\linear_model\\_logistic.py:1539: UserWarning: 'n_jobs' > 1 does not have any effect when 'solver' is set to 'liblinear'. Got 'n_jobs' = 4.\n",
      "  \" = {}.\".format(effective_n_jobs(self.n_jobs)))\n",
      "C:\\ProgramData\\Anaconda3\\lib\\site-packages\\sklearn\\linear_model\\_logistic.py:1539: UserWarning: 'n_jobs' > 1 does not have any effect when 'solver' is set to 'liblinear'. Got 'n_jobs' = 4.\n",
      "  \" = {}.\".format(effective_n_jobs(self.n_jobs)))\n",
      "C:\\ProgramData\\Anaconda3\\lib\\site-packages\\sklearn\\linear_model\\_logistic.py:1539: UserWarning: 'n_jobs' > 1 does not have any effect when 'solver' is set to 'liblinear'. Got 'n_jobs' = 4.\n",
      "  \" = {}.\".format(effective_n_jobs(self.n_jobs)))\n",
      "C:\\ProgramData\\Anaconda3\\lib\\site-packages\\sklearn\\linear_model\\_logistic.py:1539: UserWarning: 'n_jobs' > 1 does not have any effect when 'solver' is set to 'liblinear'. Got 'n_jobs' = 4.\n",
      "  \" = {}.\".format(effective_n_jobs(self.n_jobs)))\n",
      "C:\\ProgramData\\Anaconda3\\lib\\site-packages\\sklearn\\linear_model\\_logistic.py:1539: UserWarning: 'n_jobs' > 1 does not have any effect when 'solver' is set to 'liblinear'. Got 'n_jobs' = 4.\n",
      "  \" = {}.\".format(effective_n_jobs(self.n_jobs)))\n",
      "C:\\ProgramData\\Anaconda3\\lib\\site-packages\\sklearn\\linear_model\\_logistic.py:1539: UserWarning: 'n_jobs' > 1 does not have any effect when 'solver' is set to 'liblinear'. Got 'n_jobs' = 4.\n",
      "  \" = {}.\".format(effective_n_jobs(self.n_jobs)))\n",
      "C:\\ProgramData\\Anaconda3\\lib\\site-packages\\sklearn\\linear_model\\_logistic.py:1539: UserWarning: 'n_jobs' > 1 does not have any effect when 'solver' is set to 'liblinear'. Got 'n_jobs' = 4.\n",
      "  \" = {}.\".format(effective_n_jobs(self.n_jobs)))\n",
      "C:\\ProgramData\\Anaconda3\\lib\\site-packages\\sklearn\\utils\\optimize.py:212: ConvergenceWarning: newton-cg failed to converge. Increase the number of iterations.\n",
      "  \"number of iterations.\", ConvergenceWarning)\n",
      "C:\\ProgramData\\Anaconda3\\lib\\site-packages\\sklearn\\utils\\optimize.py:212: ConvergenceWarning: newton-cg failed to converge. Increase the number of iterations.\n",
      "  \"number of iterations.\", ConvergenceWarning)\n",
      "C:\\ProgramData\\Anaconda3\\lib\\site-packages\\sklearn\\utils\\optimize.py:212: ConvergenceWarning: newton-cg failed to converge. Increase the number of iterations.\n",
      "  \"number of iterations.\", ConvergenceWarning)\n",
      "C:\\ProgramData\\Anaconda3\\lib\\site-packages\\sklearn\\utils\\optimize.py:212: ConvergenceWarning: newton-cg failed to converge. Increase the number of iterations.\n",
      "  \"number of iterations.\", ConvergenceWarning)\n",
      "C:\\ProgramData\\Anaconda3\\lib\\site-packages\\sklearn\\utils\\optimize.py:212: ConvergenceWarning: newton-cg failed to converge. Increase the number of iterations.\n",
      "  \"number of iterations.\", ConvergenceWarning)\n",
      "C:\\ProgramData\\Anaconda3\\lib\\site-packages\\sklearn\\utils\\optimize.py:212: ConvergenceWarning: newton-cg failed to converge. Increase the number of iterations.\n",
      "  \"number of iterations.\", ConvergenceWarning)\n",
      "C:\\ProgramData\\Anaconda3\\lib\\site-packages\\sklearn\\utils\\optimize.py:212: ConvergenceWarning: newton-cg failed to converge. Increase the number of iterations.\n",
      "  \"number of iterations.\", ConvergenceWarning)\n",
      "C:\\ProgramData\\Anaconda3\\lib\\site-packages\\sklearn\\utils\\optimize.py:212: ConvergenceWarning: newton-cg failed to converge. Increase the number of iterations.\n",
      "  \"number of iterations.\", ConvergenceWarning)\n",
      "C:\\ProgramData\\Anaconda3\\lib\\site-packages\\sklearn\\utils\\optimize.py:212: ConvergenceWarning: newton-cg failed to converge. Increase the number of iterations.\n",
      "  \"number of iterations.\", ConvergenceWarning)\n"
     ]
    },
    {
     "name": "stdout",
     "output_type": "stream",
     "text": [
      "\n",
      "[CV] C=0.1, class_weight=None, max_iter=0.9, n_jobs=1, solver=liblinear \n",
      "[CV]  C=0.1, class_weight=None, max_iter=0.9, n_jobs=1, solver=liblinear, score=0.616, total=   0.0s\n",
      "[CV] C=0.1, class_weight=None, max_iter=0.9, n_jobs=1, solver=liblinear \n",
      "[CV]  C=0.1, class_weight=None, max_iter=0.9, n_jobs=1, solver=liblinear, score=0.616, total=   0.0s\n",
      "[CV] C=0.1, class_weight=None, max_iter=0.9, n_jobs=1, solver=liblinear \n",
      "[CV]  C=0.1, class_weight=None, max_iter=0.9, n_jobs=1, solver=liblinear, score=0.616, total=   0.0s\n",
      "[CV] C=0.1, class_weight=None, max_iter=0.9, n_jobs=1, solver=liblinear \n",
      "[CV]  C=0.1, class_weight=None, max_iter=0.9, n_jobs=1, solver=liblinear, score=0.616, total=   0.0s\n",
      "[CV] C=0.1, class_weight=None, max_iter=0.9, n_jobs=1, solver=liblinear \n",
      "[CV]  C=0.1, class_weight=None, max_iter=0.9, n_jobs=1, solver=liblinear, score=0.616, total=   0.0s\n",
      "[CV] C=0.1, class_weight=None, max_iter=0.9, n_jobs=1, solver=liblinear \n",
      "[CV]  C=0.1, class_weight=None, max_iter=0.9, n_jobs=1, solver=liblinear, score=0.616, total=   0.0s\n",
      "[CV] C=0.1, class_weight=None, max_iter=1, n_jobs=-1, solver=newton-cg \n",
      "[CV]  C=0.1, class_weight=None, max_iter=1, n_jobs=-1, solver=newton-cg, score=0.717, total=   0.0s\n",
      "[CV] C=0.1, class_weight=None, max_iter=1, n_jobs=-1, solver=newton-cg \n",
      "[CV]  C=0.1, class_weight=None, max_iter=1, n_jobs=-1, solver=newton-cg, score=0.751, total=   0.0s\n",
      "[CV] C=0.1, class_weight=None, max_iter=1, n_jobs=-1, solver=newton-cg \n",
      "[CV]  C=0.1, class_weight=None, max_iter=1, n_jobs=-1, solver=newton-cg, score=0.657, total=   0.0s\n",
      "[CV] C=0.1, class_weight=None, max_iter=1, n_jobs=-1, solver=newton-cg \n",
      "[CV]  C=0.1, class_weight=None, max_iter=1, n_jobs=-1, solver=newton-cg, score=0.734, total=   0.0s\n",
      "[CV] C=0.1, class_weight=None, max_iter=1, n_jobs=-1, solver=newton-cg \n",
      "[CV]  C=0.1, class_weight=None, max_iter=1, n_jobs=-1, solver=newton-cg, score=0.798, total=   0.0s\n",
      "[CV] C=0.1, class_weight=None, max_iter=1, n_jobs=-1, solver=newton-cg \n",
      "[CV]  C=0.1, class_weight=None, max_iter=1, n_jobs=-1, solver=newton-cg, score=0.673, total=   0.0s\n",
      "[CV] C=0.1, class_weight=None, max_iter=1, n_jobs=-1, solver=newton-cg \n",
      "[CV]  C=0.1, class_weight=None, max_iter=1, n_jobs=-1, solver=newton-cg, score=0.731, total=   0.0s\n",
      "[CV] C=0.1, class_weight=None, max_iter=1, n_jobs=-1, solver=newton-cg \n",
      "[CV]  C=0.1, class_weight=None, max_iter=1, n_jobs=-1, solver=newton-cg, score=0.764, total=   0.0s\n",
      "[CV] C=0.1, class_weight=None, max_iter=1, n_jobs=-1, solver=newton-cg \n",
      "[CV]  C=0.1, class_weight=None, max_iter=1, n_jobs=-1, solver=newton-cg, score=0.791, total=   0.0s\n",
      "[CV] C=0.1, class_weight=None, max_iter=1, n_jobs=-1, solver=liblinear \n",
      "[CV]  C=0.1, class_weight=None, max_iter=1, n_jobs=-1, solver=liblinear, score=0.778, total=   0.0s\n",
      "[CV] C=0.1, class_weight=None, max_iter=1, n_jobs=-1, solver=liblinear \n",
      "[CV]  C=0.1, class_weight=None, max_iter=1, n_jobs=-1, solver=liblinear, score=0.795, total=   0.0s\n",
      "[CV] C=0.1, class_weight=None, max_iter=1, n_jobs=-1, solver=liblinear \n",
      "[CV]  C=0.1, class_weight=None, max_iter=1, n_jobs=-1, solver=liblinear, score=0.822, total=   0.0s\n",
      "[CV] C=0.1, class_weight=None, max_iter=1, n_jobs=-1, solver=liblinear \n",
      "[CV]  C=0.1, class_weight=None, max_iter=1, n_jobs=-1, solver=liblinear, score=0.801, total=   0.0s\n",
      "[CV] C=0.1, class_weight=None, max_iter=1, n_jobs=-1, solver=liblinear \n",
      "[CV]  C=0.1, class_weight=None, max_iter=1, n_jobs=-1, solver=liblinear, score=0.815, total=   0.0s\n",
      "[CV] C=0.1, class_weight=None, max_iter=1, n_jobs=-1, solver=liblinear \n",
      "[CV]  C=0.1, class_weight=None, max_iter=1, n_jobs=-1, solver=liblinear, score=0.815, total=   0.0s\n",
      "[CV] C=0.1, class_weight=None, max_iter=1, n_jobs=-1, solver=liblinear \n",
      "[CV]  C=0.1, class_weight=None, max_iter=1, n_jobs=-1, solver=liblinear, score=0.791, total=   0.0s\n",
      "[CV] C=0.1, class_weight=None, max_iter=1, n_jobs=-1, solver=liblinear \n",
      "[CV]  C=0.1, class_weight=None, max_iter=1, n_jobs=-1, solver=liblinear, score=0.808, total=   0.0s\n",
      "[CV] C=0.1, class_weight=None, max_iter=1, n_jobs=-1, solver=liblinear \n",
      "[CV]  C=0.1, class_weight=None, max_iter=1, n_jobs=-1, solver=liblinear, score=0.835, total=   0.0s\n",
      "[CV] C=0.1, class_weight=None, max_iter=1, n_jobs=1, solver=newton-cg \n",
      "[CV]  C=0.1, class_weight=None, max_iter=1, n_jobs=1, solver=newton-cg, score=0.717, total=   0.0s\n",
      "[CV] C=0.1, class_weight=None, max_iter=1, n_jobs=1, solver=newton-cg \n",
      "[CV]  C=0.1, class_weight=None, max_iter=1, n_jobs=1, solver=newton-cg, score=0.751, total=   0.0s\n",
      "[CV] C=0.1, class_weight=None, max_iter=1, n_jobs=1, solver=newton-cg \n",
      "[CV]  C=0.1, class_weight=None, max_iter=1, n_jobs=1, solver=newton-cg, score=0.657, total=   0.0s\n",
      "[CV] C=0.1, class_weight=None, max_iter=1, n_jobs=1, solver=newton-cg \n",
      "[CV]  C=0.1, class_weight=None, max_iter=1, n_jobs=1, solver=newton-cg, score=0.734, total=   0.0s\n",
      "[CV] C=0.1, class_weight=None, max_iter=1, n_jobs=1, solver=newton-cg \n",
      "[CV]  C=0.1, class_weight=None, max_iter=1, n_jobs=1, solver=newton-cg, score=0.798, total=   0.0s\n",
      "[CV] C=0.1, class_weight=None, max_iter=1, n_jobs=1, solver=newton-cg \n",
      "[CV]  C=0.1, class_weight=None, max_iter=1, n_jobs=1, solver=newton-cg, score=0.673, total=   0.0s\n",
      "[CV] C=0.1, class_weight=None, max_iter=1, n_jobs=1, solver=newton-cg \n",
      "[CV]  C=0.1, class_weight=None, max_iter=1, n_jobs=1, solver=newton-cg, score=0.731, total=   0.0s\n",
      "[CV] C=0.1, class_weight=None, max_iter=1, n_jobs=1, solver=newton-cg \n"
     ]
    },
    {
     "name": "stderr",
     "output_type": "stream",
     "text": [
      "C:\\ProgramData\\Anaconda3\\lib\\site-packages\\sklearn\\linear_model\\_logistic.py:1539: UserWarning: 'n_jobs' > 1 does not have any effect when 'solver' is set to 'liblinear'. Got 'n_jobs' = 4.\n",
      "  \" = {}.\".format(effective_n_jobs(self.n_jobs)))\n",
      "C:\\ProgramData\\Anaconda3\\lib\\site-packages\\sklearn\\svm\\_base.py:947: ConvergenceWarning: Liblinear failed to converge, increase the number of iterations.\n",
      "  \"the number of iterations.\", ConvergenceWarning)\n",
      "C:\\ProgramData\\Anaconda3\\lib\\site-packages\\sklearn\\linear_model\\_logistic.py:1539: UserWarning: 'n_jobs' > 1 does not have any effect when 'solver' is set to 'liblinear'. Got 'n_jobs' = 4.\n",
      "  \" = {}.\".format(effective_n_jobs(self.n_jobs)))\n",
      "C:\\ProgramData\\Anaconda3\\lib\\site-packages\\sklearn\\svm\\_base.py:947: ConvergenceWarning: Liblinear failed to converge, increase the number of iterations.\n",
      "  \"the number of iterations.\", ConvergenceWarning)\n",
      "C:\\ProgramData\\Anaconda3\\lib\\site-packages\\sklearn\\linear_model\\_logistic.py:1539: UserWarning: 'n_jobs' > 1 does not have any effect when 'solver' is set to 'liblinear'. Got 'n_jobs' = 4.\n",
      "  \" = {}.\".format(effective_n_jobs(self.n_jobs)))\n",
      "C:\\ProgramData\\Anaconda3\\lib\\site-packages\\sklearn\\svm\\_base.py:947: ConvergenceWarning: Liblinear failed to converge, increase the number of iterations.\n",
      "  \"the number of iterations.\", ConvergenceWarning)\n",
      "C:\\ProgramData\\Anaconda3\\lib\\site-packages\\sklearn\\linear_model\\_logistic.py:1539: UserWarning: 'n_jobs' > 1 does not have any effect when 'solver' is set to 'liblinear'. Got 'n_jobs' = 4.\n",
      "  \" = {}.\".format(effective_n_jobs(self.n_jobs)))\n",
      "C:\\ProgramData\\Anaconda3\\lib\\site-packages\\sklearn\\svm\\_base.py:947: ConvergenceWarning: Liblinear failed to converge, increase the number of iterations.\n",
      "  \"the number of iterations.\", ConvergenceWarning)\n",
      "C:\\ProgramData\\Anaconda3\\lib\\site-packages\\sklearn\\linear_model\\_logistic.py:1539: UserWarning: 'n_jobs' > 1 does not have any effect when 'solver' is set to 'liblinear'. Got 'n_jobs' = 4.\n",
      "  \" = {}.\".format(effective_n_jobs(self.n_jobs)))\n",
      "C:\\ProgramData\\Anaconda3\\lib\\site-packages\\sklearn\\svm\\_base.py:947: ConvergenceWarning: Liblinear failed to converge, increase the number of iterations.\n",
      "  \"the number of iterations.\", ConvergenceWarning)\n",
      "C:\\ProgramData\\Anaconda3\\lib\\site-packages\\sklearn\\linear_model\\_logistic.py:1539: UserWarning: 'n_jobs' > 1 does not have any effect when 'solver' is set to 'liblinear'. Got 'n_jobs' = 4.\n",
      "  \" = {}.\".format(effective_n_jobs(self.n_jobs)))\n",
      "C:\\ProgramData\\Anaconda3\\lib\\site-packages\\sklearn\\svm\\_base.py:947: ConvergenceWarning: Liblinear failed to converge, increase the number of iterations.\n",
      "  \"the number of iterations.\", ConvergenceWarning)\n",
      "C:\\ProgramData\\Anaconda3\\lib\\site-packages\\sklearn\\linear_model\\_logistic.py:1539: UserWarning: 'n_jobs' > 1 does not have any effect when 'solver' is set to 'liblinear'. Got 'n_jobs' = 4.\n",
      "  \" = {}.\".format(effective_n_jobs(self.n_jobs)))\n",
      "C:\\ProgramData\\Anaconda3\\lib\\site-packages\\sklearn\\svm\\_base.py:947: ConvergenceWarning: Liblinear failed to converge, increase the number of iterations.\n",
      "  \"the number of iterations.\", ConvergenceWarning)\n",
      "C:\\ProgramData\\Anaconda3\\lib\\site-packages\\sklearn\\linear_model\\_logistic.py:1539: UserWarning: 'n_jobs' > 1 does not have any effect when 'solver' is set to 'liblinear'. Got 'n_jobs' = 4.\n",
      "  \" = {}.\".format(effective_n_jobs(self.n_jobs)))\n",
      "C:\\ProgramData\\Anaconda3\\lib\\site-packages\\sklearn\\svm\\_base.py:947: ConvergenceWarning: Liblinear failed to converge, increase the number of iterations.\n",
      "  \"the number of iterations.\", ConvergenceWarning)\n",
      "C:\\ProgramData\\Anaconda3\\lib\\site-packages\\sklearn\\linear_model\\_logistic.py:1539: UserWarning: 'n_jobs' > 1 does not have any effect when 'solver' is set to 'liblinear'. Got 'n_jobs' = 4.\n",
      "  \" = {}.\".format(effective_n_jobs(self.n_jobs)))\n",
      "C:\\ProgramData\\Anaconda3\\lib\\site-packages\\sklearn\\svm\\_base.py:947: ConvergenceWarning: Liblinear failed to converge, increase the number of iterations.\n",
      "  \"the number of iterations.\", ConvergenceWarning)\n",
      "C:\\ProgramData\\Anaconda3\\lib\\site-packages\\sklearn\\utils\\optimize.py:212: ConvergenceWarning: newton-cg failed to converge. Increase the number of iterations.\n",
      "  \"number of iterations.\", ConvergenceWarning)\n",
      "C:\\ProgramData\\Anaconda3\\lib\\site-packages\\sklearn\\utils\\optimize.py:212: ConvergenceWarning: newton-cg failed to converge. Increase the number of iterations.\n",
      "  \"number of iterations.\", ConvergenceWarning)\n",
      "C:\\ProgramData\\Anaconda3\\lib\\site-packages\\sklearn\\utils\\optimize.py:212: ConvergenceWarning: newton-cg failed to converge. Increase the number of iterations.\n",
      "  \"number of iterations.\", ConvergenceWarning)\n",
      "C:\\ProgramData\\Anaconda3\\lib\\site-packages\\sklearn\\utils\\optimize.py:212: ConvergenceWarning: newton-cg failed to converge. Increase the number of iterations.\n",
      "  \"number of iterations.\", ConvergenceWarning)\n",
      "C:\\ProgramData\\Anaconda3\\lib\\site-packages\\sklearn\\utils\\optimize.py:212: ConvergenceWarning: newton-cg failed to converge. Increase the number of iterations.\n",
      "  \"number of iterations.\", ConvergenceWarning)\n",
      "C:\\ProgramData\\Anaconda3\\lib\\site-packages\\sklearn\\utils\\optimize.py:212: ConvergenceWarning: newton-cg failed to converge. Increase the number of iterations.\n",
      "  \"number of iterations.\", ConvergenceWarning)\n",
      "C:\\ProgramData\\Anaconda3\\lib\\site-packages\\sklearn\\utils\\optimize.py:212: ConvergenceWarning: newton-cg failed to converge. Increase the number of iterations.\n",
      "  \"number of iterations.\", ConvergenceWarning)\n",
      "C:\\ProgramData\\Anaconda3\\lib\\site-packages\\sklearn\\utils\\optimize.py:212: ConvergenceWarning: newton-cg failed to converge. Increase the number of iterations.\n",
      "  \"number of iterations.\", ConvergenceWarning)\n",
      "C:\\ProgramData\\Anaconda3\\lib\\site-packages\\sklearn\\utils\\optimize.py:212: ConvergenceWarning: newton-cg failed to converge. Increase the number of iterations.\n",
      "  \"number of iterations.\", ConvergenceWarning)\n",
      "C:\\ProgramData\\Anaconda3\\lib\\site-packages\\sklearn\\svm\\_base.py:947: ConvergenceWarning: Liblinear failed to converge, increase the number of iterations.\n",
      "  \"the number of iterations.\", ConvergenceWarning)\n",
      "C:\\ProgramData\\Anaconda3\\lib\\site-packages\\sklearn\\svm\\_base.py:947: ConvergenceWarning: Liblinear failed to converge, increase the number of iterations.\n",
      "  \"the number of iterations.\", ConvergenceWarning)\n",
      "C:\\ProgramData\\Anaconda3\\lib\\site-packages\\sklearn\\svm\\_base.py:947: ConvergenceWarning: Liblinear failed to converge, increase the number of iterations.\n",
      "  \"the number of iterations.\", ConvergenceWarning)\n",
      "C:\\ProgramData\\Anaconda3\\lib\\site-packages\\sklearn\\svm\\_base.py:947: ConvergenceWarning: Liblinear failed to converge, increase the number of iterations.\n",
      "  \"the number of iterations.\", ConvergenceWarning)\n",
      "C:\\ProgramData\\Anaconda3\\lib\\site-packages\\sklearn\\svm\\_base.py:947: ConvergenceWarning: Liblinear failed to converge, increase the number of iterations.\n",
      "  \"the number of iterations.\", ConvergenceWarning)\n",
      "C:\\ProgramData\\Anaconda3\\lib\\site-packages\\sklearn\\svm\\_base.py:947: ConvergenceWarning: Liblinear failed to converge, increase the number of iterations.\n",
      "  \"the number of iterations.\", ConvergenceWarning)\n",
      "C:\\ProgramData\\Anaconda3\\lib\\site-packages\\sklearn\\svm\\_base.py:947: ConvergenceWarning: Liblinear failed to converge, increase the number of iterations.\n",
      "  \"the number of iterations.\", ConvergenceWarning)\n",
      "C:\\ProgramData\\Anaconda3\\lib\\site-packages\\sklearn\\svm\\_base.py:947: ConvergenceWarning: Liblinear failed to converge, increase the number of iterations.\n",
      "  \"the number of iterations.\", ConvergenceWarning)\n",
      "C:\\ProgramData\\Anaconda3\\lib\\site-packages\\sklearn\\svm\\_base.py:947: ConvergenceWarning: Liblinear failed to converge, increase the number of iterations.\n",
      "  \"the number of iterations.\", ConvergenceWarning)\n"
     ]
    },
    {
     "name": "stdout",
     "output_type": "stream",
     "text": [
      "[CV]  C=0.1, class_weight=None, max_iter=1, n_jobs=1, solver=newton-cg, score=0.764, total=   0.0s\n",
      "[CV] C=0.1, class_weight=None, max_iter=1, n_jobs=1, solver=newton-cg \n",
      "[CV]  C=0.1, class_weight=None, max_iter=1, n_jobs=1, solver=newton-cg, score=0.791, total=   0.0s\n",
      "[CV] C=0.1, class_weight=None, max_iter=1, n_jobs=1, solver=liblinear \n",
      "[CV]  C=0.1, class_weight=None, max_iter=1, n_jobs=1, solver=liblinear, score=0.778, total=   0.0s\n",
      "[CV] C=0.1, class_weight=None, max_iter=1, n_jobs=1, solver=liblinear \n",
      "[CV]  C=0.1, class_weight=None, max_iter=1, n_jobs=1, solver=liblinear, score=0.795, total=   0.0s\n",
      "[CV] C=0.1, class_weight=None, max_iter=1, n_jobs=1, solver=liblinear \n",
      "[CV]  C=0.1, class_weight=None, max_iter=1, n_jobs=1, solver=liblinear, score=0.822, total=   0.0s\n",
      "[CV] C=0.1, class_weight=None, max_iter=1, n_jobs=1, solver=liblinear \n",
      "[CV]  C=0.1, class_weight=None, max_iter=1, n_jobs=1, solver=liblinear, score=0.801, total=   0.0s\n",
      "[CV] C=0.1, class_weight=None, max_iter=1, n_jobs=1, solver=liblinear \n",
      "[CV]  C=0.1, class_weight=None, max_iter=1, n_jobs=1, solver=liblinear, score=0.815, total=   0.0s\n",
      "[CV] C=0.1, class_weight=None, max_iter=1, n_jobs=1, solver=liblinear \n",
      "[CV]  C=0.1, class_weight=None, max_iter=1, n_jobs=1, solver=liblinear, score=0.815, total=   0.0s\n",
      "[CV] C=0.1, class_weight=None, max_iter=1, n_jobs=1, solver=liblinear \n",
      "[CV]  C=0.1, class_weight=None, max_iter=1, n_jobs=1, solver=liblinear, score=0.791, total=   0.0s\n",
      "[CV] C=0.1, class_weight=None, max_iter=1, n_jobs=1, solver=liblinear \n",
      "[CV]  C=0.1, class_weight=None, max_iter=1, n_jobs=1, solver=liblinear, score=0.808, total=   0.0s\n",
      "[CV] C=0.1, class_weight=None, max_iter=1, n_jobs=1, solver=liblinear \n",
      "[CV]  C=0.1, class_weight=None, max_iter=1, n_jobs=1, solver=liblinear, score=0.835, total=   0.0s\n",
      "[CV] C=0.2, class_weight=None, max_iter=0.7, n_jobs=-1, solver=newton-cg \n",
      "[CV]  C=0.2, class_weight=None, max_iter=0.7, n_jobs=-1, solver=newton-cg, score=0.714, total=   0.0s\n",
      "[CV] C=0.2, class_weight=None, max_iter=0.7, n_jobs=-1, solver=newton-cg \n",
      "[CV]  C=0.2, class_weight=None, max_iter=0.7, n_jobs=-1, solver=newton-cg, score=0.771, total=   0.0s\n",
      "[CV] C=0.2, class_weight=None, max_iter=0.7, n_jobs=-1, solver=newton-cg \n",
      "[CV]  C=0.2, class_weight=None, max_iter=0.7, n_jobs=-1, solver=newton-cg, score=0.657, total=   0.0s\n",
      "[CV] C=0.2, class_weight=None, max_iter=0.7, n_jobs=-1, solver=newton-cg \n",
      "[CV]  C=0.2, class_weight=None, max_iter=0.7, n_jobs=-1, solver=newton-cg, score=0.734, total=   0.0s\n",
      "[CV] C=0.2, class_weight=None, max_iter=0.7, n_jobs=-1, solver=newton-cg \n",
      "[CV]  C=0.2, class_weight=None, max_iter=0.7, n_jobs=-1, solver=newton-cg, score=0.805, total=   0.0s\n",
      "[CV] C=0.2, class_weight=None, max_iter=0.7, n_jobs=-1, solver=newton-cg \n",
      "[CV]  C=0.2, class_weight=None, max_iter=0.7, n_jobs=-1, solver=newton-cg, score=0.673, total=   0.0s\n",
      "[CV] C=0.2, class_weight=None, max_iter=0.7, n_jobs=-1, solver=newton-cg \n",
      "[CV]  C=0.2, class_weight=None, max_iter=0.7, n_jobs=-1, solver=newton-cg, score=0.731, total=   0.0s\n",
      "[CV] C=0.2, class_weight=None, max_iter=0.7, n_jobs=-1, solver=newton-cg \n",
      "[CV]  C=0.2, class_weight=None, max_iter=0.7, n_jobs=-1, solver=newton-cg, score=0.764, total=   0.0s\n",
      "[CV] C=0.2, class_weight=None, max_iter=0.7, n_jobs=-1, solver=newton-cg \n",
      "[CV]  C=0.2, class_weight=None, max_iter=0.7, n_jobs=-1, solver=newton-cg, score=0.791, total=   0.0s\n",
      "[CV] C=0.2, class_weight=None, max_iter=0.7, n_jobs=-1, solver=liblinear \n",
      "[CV]  C=0.2, class_weight=None, max_iter=0.7, n_jobs=-1, solver=liblinear, score=0.616, total=   0.0s\n",
      "[CV] C=0.2, class_weight=None, max_iter=0.7, n_jobs=-1, solver=liblinear \n",
      "[CV]  C=0.2, class_weight=None, max_iter=0.7, n_jobs=-1, solver=liblinear, score=0.616, total=   0.0s\n",
      "[CV] C=0.2, class_weight=None, max_iter=0.7, n_jobs=-1, solver=liblinear \n",
      "[CV]  C=0.2, class_weight=None, max_iter=0.7, n_jobs=-1, solver=liblinear, score=0.616, total=   0.0s\n",
      "[CV] C=0.2, class_weight=None, max_iter=0.7, n_jobs=-1, solver=liblinear \n"
     ]
    },
    {
     "name": "stderr",
     "output_type": "stream",
     "text": [
      "C:\\ProgramData\\Anaconda3\\lib\\site-packages\\sklearn\\linear_model\\_logistic.py:1539: UserWarning: 'n_jobs' > 1 does not have any effect when 'solver' is set to 'liblinear'. Got 'n_jobs' = 4.\n",
      "  \" = {}.\".format(effective_n_jobs(self.n_jobs)))\n",
      "C:\\ProgramData\\Anaconda3\\lib\\site-packages\\sklearn\\linear_model\\_logistic.py:1539: UserWarning: 'n_jobs' > 1 does not have any effect when 'solver' is set to 'liblinear'. Got 'n_jobs' = 4.\n",
      "  \" = {}.\".format(effective_n_jobs(self.n_jobs)))\n",
      "C:\\ProgramData\\Anaconda3\\lib\\site-packages\\sklearn\\linear_model\\_logistic.py:1539: UserWarning: 'n_jobs' > 1 does not have any effect when 'solver' is set to 'liblinear'. Got 'n_jobs' = 4.\n",
      "  \" = {}.\".format(effective_n_jobs(self.n_jobs)))\n",
      "C:\\ProgramData\\Anaconda3\\lib\\site-packages\\sklearn\\linear_model\\_logistic.py:1539: UserWarning: 'n_jobs' > 1 does not have any effect when 'solver' is set to 'liblinear'. Got 'n_jobs' = 4.\n",
      "  \" = {}.\".format(effective_n_jobs(self.n_jobs)))\n",
      "C:\\ProgramData\\Anaconda3\\lib\\site-packages\\sklearn\\linear_model\\_logistic.py:1539: UserWarning: 'n_jobs' > 1 does not have any effect when 'solver' is set to 'liblinear'. Got 'n_jobs' = 4.\n",
      "  \" = {}.\".format(effective_n_jobs(self.n_jobs)))\n",
      "C:\\ProgramData\\Anaconda3\\lib\\site-packages\\sklearn\\linear_model\\_logistic.py:1539: UserWarning: 'n_jobs' > 1 does not have any effect when 'solver' is set to 'liblinear'. Got 'n_jobs' = 4.\n",
      "  \" = {}.\".format(effective_n_jobs(self.n_jobs)))\n",
      "C:\\ProgramData\\Anaconda3\\lib\\site-packages\\sklearn\\linear_model\\_logistic.py:1539: UserWarning: 'n_jobs' > 1 does not have any effect when 'solver' is set to 'liblinear'. Got 'n_jobs' = 4.\n",
      "  \" = {}.\".format(effective_n_jobs(self.n_jobs)))\n",
      "C:\\ProgramData\\Anaconda3\\lib\\site-packages\\sklearn\\linear_model\\_logistic.py:1539: UserWarning: 'n_jobs' > 1 does not have any effect when 'solver' is set to 'liblinear'. Got 'n_jobs' = 4.\n",
      "  \" = {}.\".format(effective_n_jobs(self.n_jobs)))\n",
      "C:\\ProgramData\\Anaconda3\\lib\\site-packages\\sklearn\\linear_model\\_logistic.py:1539: UserWarning: 'n_jobs' > 1 does not have any effect when 'solver' is set to 'liblinear'. Got 'n_jobs' = 4.\n",
      "  \" = {}.\".format(effective_n_jobs(self.n_jobs)))\n",
      "C:\\ProgramData\\Anaconda3\\lib\\site-packages\\sklearn\\utils\\optimize.py:212: ConvergenceWarning: newton-cg failed to converge. Increase the number of iterations.\n",
      "  \"number of iterations.\", ConvergenceWarning)\n",
      "C:\\ProgramData\\Anaconda3\\lib\\site-packages\\sklearn\\utils\\optimize.py:212: ConvergenceWarning: newton-cg failed to converge. Increase the number of iterations.\n",
      "  \"number of iterations.\", ConvergenceWarning)\n",
      "C:\\ProgramData\\Anaconda3\\lib\\site-packages\\sklearn\\utils\\optimize.py:212: ConvergenceWarning: newton-cg failed to converge. Increase the number of iterations.\n",
      "  \"number of iterations.\", ConvergenceWarning)\n",
      "C:\\ProgramData\\Anaconda3\\lib\\site-packages\\sklearn\\utils\\optimize.py:212: ConvergenceWarning: newton-cg failed to converge. Increase the number of iterations.\n",
      "  \"number of iterations.\", ConvergenceWarning)\n",
      "C:\\ProgramData\\Anaconda3\\lib\\site-packages\\sklearn\\utils\\optimize.py:212: ConvergenceWarning: newton-cg failed to converge. Increase the number of iterations.\n",
      "  \"number of iterations.\", ConvergenceWarning)\n",
      "C:\\ProgramData\\Anaconda3\\lib\\site-packages\\sklearn\\utils\\optimize.py:212: ConvergenceWarning: newton-cg failed to converge. Increase the number of iterations.\n",
      "  \"number of iterations.\", ConvergenceWarning)\n",
      "C:\\ProgramData\\Anaconda3\\lib\\site-packages\\sklearn\\utils\\optimize.py:212: ConvergenceWarning: newton-cg failed to converge. Increase the number of iterations.\n",
      "  \"number of iterations.\", ConvergenceWarning)\n",
      "C:\\ProgramData\\Anaconda3\\lib\\site-packages\\sklearn\\utils\\optimize.py:212: ConvergenceWarning: newton-cg failed to converge. Increase the number of iterations.\n",
      "  \"number of iterations.\", ConvergenceWarning)\n",
      "C:\\ProgramData\\Anaconda3\\lib\\site-packages\\sklearn\\utils\\optimize.py:212: ConvergenceWarning: newton-cg failed to converge. Increase the number of iterations.\n",
      "  \"number of iterations.\", ConvergenceWarning)\n"
     ]
    },
    {
     "name": "stdout",
     "output_type": "stream",
     "text": [
      "[CV]  C=0.2, class_weight=None, max_iter=0.7, n_jobs=-1, solver=liblinear, score=0.616, total=   0.0s\n",
      "[CV] C=0.2, class_weight=None, max_iter=0.7, n_jobs=-1, solver=liblinear \n",
      "[CV]  C=0.2, class_weight=None, max_iter=0.7, n_jobs=-1, solver=liblinear, score=0.616, total=   0.0s\n",
      "[CV] C=0.2, class_weight=None, max_iter=0.7, n_jobs=-1, solver=liblinear \n",
      "[CV]  C=0.2, class_weight=None, max_iter=0.7, n_jobs=-1, solver=liblinear, score=0.616, total=   0.0s\n",
      "[CV] C=0.2, class_weight=None, max_iter=0.7, n_jobs=-1, solver=liblinear \n",
      "[CV]  C=0.2, class_weight=None, max_iter=0.7, n_jobs=-1, solver=liblinear, score=0.616, total=   0.0s\n",
      "[CV] C=0.2, class_weight=None, max_iter=0.7, n_jobs=-1, solver=liblinear \n",
      "[CV]  C=0.2, class_weight=None, max_iter=0.7, n_jobs=-1, solver=liblinear, score=0.616, total=   0.0s\n",
      "[CV] C=0.2, class_weight=None, max_iter=0.7, n_jobs=-1, solver=liblinear \n",
      "[CV]  C=0.2, class_weight=None, max_iter=0.7, n_jobs=-1, solver=liblinear, score=0.616, total=   0.0s\n",
      "[CV] C=0.2, class_weight=None, max_iter=0.7, n_jobs=1, solver=newton-cg \n",
      "[CV]  C=0.2, class_weight=None, max_iter=0.7, n_jobs=1, solver=newton-cg, score=0.714, total=   0.0s\n",
      "[CV] C=0.2, class_weight=None, max_iter=0.7, n_jobs=1, solver=newton-cg \n",
      "[CV]  C=0.2, class_weight=None, max_iter=0.7, n_jobs=1, solver=newton-cg, score=0.771, total=   0.0s\n",
      "[CV] C=0.2, class_weight=None, max_iter=0.7, n_jobs=1, solver=newton-cg \n",
      "[CV]  C=0.2, class_weight=None, max_iter=0.7, n_jobs=1, solver=newton-cg, score=0.657, total=   0.0s\n",
      "[CV] C=0.2, class_weight=None, max_iter=0.7, n_jobs=1, solver=newton-cg \n",
      "[CV]  C=0.2, class_weight=None, max_iter=0.7, n_jobs=1, solver=newton-cg, score=0.734, total=   0.0s\n",
      "[CV] C=0.2, class_weight=None, max_iter=0.7, n_jobs=1, solver=newton-cg \n",
      "[CV]  C=0.2, class_weight=None, max_iter=0.7, n_jobs=1, solver=newton-cg, score=0.805, total=   0.0s\n",
      "[CV] C=0.2, class_weight=None, max_iter=0.7, n_jobs=1, solver=newton-cg \n",
      "[CV]  C=0.2, class_weight=None, max_iter=0.7, n_jobs=1, solver=newton-cg, score=0.673, total=   0.0s\n",
      "[CV] C=0.2, class_weight=None, max_iter=0.7, n_jobs=1, solver=newton-cg \n",
      "[CV]  C=0.2, class_weight=None, max_iter=0.7, n_jobs=1, solver=newton-cg, score=0.731, total=   0.0s\n",
      "[CV] C=0.2, class_weight=None, max_iter=0.7, n_jobs=1, solver=newton-cg \n",
      "[CV]  C=0.2, class_weight=None, max_iter=0.7, n_jobs=1, solver=newton-cg, score=0.764, total=   0.0s\n",
      "[CV] C=0.2, class_weight=None, max_iter=0.7, n_jobs=1, solver=newton-cg \n",
      "[CV]  C=0.2, class_weight=None, max_iter=0.7, n_jobs=1, solver=newton-cg, score=0.791, total=   0.0s\n",
      "[CV] C=0.2, class_weight=None, max_iter=0.7, n_jobs=1, solver=liblinear \n",
      "[CV]  C=0.2, class_weight=None, max_iter=0.7, n_jobs=1, solver=liblinear, score=0.616, total=   0.0s\n",
      "[CV] C=0.2, class_weight=None, max_iter=0.7, n_jobs=1, solver=liblinear \n",
      "[CV]  C=0.2, class_weight=None, max_iter=0.7, n_jobs=1, solver=liblinear, score=0.616, total=   0.0s\n",
      "[CV] C=0.2, class_weight=None, max_iter=0.7, n_jobs=1, solver=liblinear \n",
      "[CV]  C=0.2, class_weight=None, max_iter=0.7, n_jobs=1, solver=liblinear, score=0.616, total=   0.0s\n",
      "[CV] C=0.2, class_weight=None, max_iter=0.7, n_jobs=1, solver=liblinear \n",
      "[CV]  C=0.2, class_weight=None, max_iter=0.7, n_jobs=1, solver=liblinear, score=0.616, total=   0.0s\n",
      "[CV] C=0.2, class_weight=None, max_iter=0.7, n_jobs=1, solver=liblinear \n",
      "[CV]  C=0.2, class_weight=None, max_iter=0.7, n_jobs=1, solver=liblinear, score=0.616, total=   0.0s\n",
      "[CV] C=0.2, class_weight=None, max_iter=0.7, n_jobs=1, solver=liblinear \n",
      "[CV]  C=0.2, class_weight=None, max_iter=0.7, n_jobs=1, solver=liblinear, score=0.616, total=   0.0s\n",
      "[CV] C=0.2, class_weight=None, max_iter=0.7, n_jobs=1, solver=liblinear \n",
      "[CV]  C=0.2, class_weight=None, max_iter=0.7, n_jobs=1, solver=liblinear, score=0.616, total=   0.0s\n",
      "[CV] C=0.2, class_weight=None, max_iter=0.7, n_jobs=1, solver=liblinear \n",
      "[CV]  C=0.2, class_weight=None, max_iter=0.7, n_jobs=1, solver=liblinear, score=0.616, total=   0.0s\n",
      "[CV] C=0.2, class_weight=None, max_iter=0.7, n_jobs=1, solver=liblinear \n",
      "[CV]  C=0.2, class_weight=None, max_iter=0.7, n_jobs=1, solver=liblinear, score=0.616, total=   0.0s\n",
      "[CV] C=0.2, class_weight=None, max_iter=0.8, n_jobs=-1, solver=newton-cg \n",
      "[CV]  C=0.2, class_weight=None, max_iter=0.8, n_jobs=-1, solver=newton-cg, score=0.714, total=   0.0s\n",
      "[CV] C=0.2, class_weight=None, max_iter=0.8, n_jobs=-1, solver=newton-cg \n",
      "[CV]  C=0.2, class_weight=None, max_iter=0.8, n_jobs=-1, solver=newton-cg, score=0.771, total=   0.0s\n",
      "[CV] C=0.2, class_weight=None, max_iter=0.8, n_jobs=-1, solver=newton-cg \n",
      "[CV]  C=0.2, class_weight=None, max_iter=0.8, n_jobs=-1, solver=newton-cg, score=0.657, total=   0.0s\n",
      "[CV] C=0.2, class_weight=None, max_iter=0.8, n_jobs=-1, solver=newton-cg \n",
      "[CV]  C=0.2, class_weight=None, max_iter=0.8, n_jobs=-1, solver=newton-cg, score=0.734, total=   0.0s\n",
      "[CV] C=0.2, class_weight=None, max_iter=0.8, n_jobs=-1, solver=newton-cg \n",
      "[CV]  C=0.2, class_weight=None, max_iter=0.8, n_jobs=-1, solver=newton-cg, score=0.805, total=   0.0s\n",
      "[CV] C=0.2, class_weight=None, max_iter=0.8, n_jobs=-1, solver=newton-cg \n",
      "[CV]  C=0.2, class_weight=None, max_iter=0.8, n_jobs=-1, solver=newton-cg, score=0.673, total=   0.0s\n",
      "[CV] C=0.2, class_weight=None, max_iter=0.8, n_jobs=-1, solver=newton-cg \n",
      "[CV]  C=0.2, class_weight=None, max_iter=0.8, n_jobs=-1, solver=newton-cg, score=0.731, total=   0.0s\n",
      "[CV] C=0.2, class_weight=None, max_iter=0.8, n_jobs=-1, solver=newton-cg \n",
      "[CV]  C=0.2, class_weight=None, max_iter=0.8, n_jobs=-1, solver=newton-cg, score=0.764, total=   0.0s\n",
      "[CV] C=0.2, class_weight=None, max_iter=0.8, n_jobs=-1, solver=newton-cg \n",
      "[CV]  C=0.2, class_weight=None, max_iter=0.8, n_jobs=-1, solver=newton-cg, score=0.791, total=   0.0s\n",
      "[CV] C=0.2, class_weight=None, max_iter=0.8, n_jobs=-1, solver=liblinear \n",
      "[CV]  C=0.2, class_weight=None, max_iter=0.8, n_jobs=-1, solver=liblinear, score=0.616, total=   0.0s\n",
      "[CV] C=0.2, class_weight=None, max_iter=0.8, n_jobs=-1, solver=liblinear \n",
      "[CV]  C=0.2, class_weight=None, max_iter=0.8, n_jobs=-1, solver=liblinear, score=0.616, total=   0.0s\n",
      "[CV] C=0.2, class_weight=None, max_iter=0.8, n_jobs=-1, solver=liblinear \n",
      "[CV]  C=0.2, class_weight=None, max_iter=0.8, n_jobs=-1, solver=liblinear, score=0.616, total=   0.0s\n",
      "[CV] C=0.2, class_weight=None, max_iter=0.8, n_jobs=-1, solver=liblinear \n",
      "[CV]  C=0.2, class_weight=None, max_iter=0.8, n_jobs=-1, solver=liblinear, score=0.616, total=   0.0s\n",
      "[CV] C=0.2, class_weight=None, max_iter=0.8, n_jobs=-1, solver=liblinear \n",
      "[CV]  C=0.2, class_weight=None, max_iter=0.8, n_jobs=-1, solver=liblinear, score=0.616, total=   0.0s\n",
      "[CV] C=0.2, class_weight=None, max_iter=0.8, n_jobs=-1, solver=liblinear \n",
      "[CV]  C=0.2, class_weight=None, max_iter=0.8, n_jobs=-1, solver=liblinear, score=0.616, total=   0.0s\n",
      "[CV] C=0.2, class_weight=None, max_iter=0.8, n_jobs=-1, solver=liblinear \n",
      "[CV]  C=0.2, class_weight=None, max_iter=0.8, n_jobs=-1, solver=liblinear, score=0.616, total=   0.0s\n",
      "[CV] C=0.2, class_weight=None, max_iter=0.8, n_jobs=-1, solver=liblinear \n",
      "[CV]  C=0.2, class_weight=None, max_iter=0.8, n_jobs=-1, solver=liblinear, score=0.616, total=   0.0s\n",
      "[CV] C=0.2, class_weight=None, max_iter=0.8, n_jobs=-1, solver=liblinear \n",
      "[CV]  C=0.2, class_weight=None, max_iter=0.8, n_jobs=-1, solver=liblinear, score=0.616, total=   0.0s\n",
      "[CV] C=0.2, class_weight=None, max_iter=0.8, n_jobs=1, solver=newton-cg \n",
      "[CV]  C=0.2, class_weight=None, max_iter=0.8, n_jobs=1, solver=newton-cg, score=0.714, total=   0.0s\n",
      "[CV] C=0.2, class_weight=None, max_iter=0.8, n_jobs=1, solver=newton-cg \n",
      "[CV]  C=0.2, class_weight=None, max_iter=0.8, n_jobs=1, solver=newton-cg, score=0.771, total=   0.0s\n",
      "[CV] C=0.2, class_weight=None, max_iter=0.8, n_jobs=1, solver=newton-cg \n",
      "[CV]  C=0.2, class_weight=None, max_iter=0.8, n_jobs=1, solver=newton-cg, score=0.657, total=   0.0s\n",
      "[CV] C=0.2, class_weight=None, max_iter=0.8, n_jobs=1, solver=newton-cg \n",
      "[CV]  C=0.2, class_weight=None, max_iter=0.8, n_jobs=1, solver=newton-cg, score=0.734, total=   0.0s\n",
      "[CV] C=0.2, class_weight=None, max_iter=0.8, n_jobs=1, solver=newton-cg \n",
      "[CV]  C=0.2, class_weight=None, max_iter=0.8, n_jobs=1, solver=newton-cg, score=0.805, total=   0.0s\n",
      "[CV] C=0.2, class_weight=None, max_iter=0.8, n_jobs=1, solver=newton-cg \n",
      "[CV]  C=0.2, class_weight=None, max_iter=0.8, n_jobs=1, solver=newton-cg, score=0.673, total=   0.0s\n",
      "[CV] C=0.2, class_weight=None, max_iter=0.8, n_jobs=1, solver=newton-cg \n",
      "[CV]  C=0.2, class_weight=None, max_iter=0.8, n_jobs=1, solver=newton-cg, score=0.731, total=   0.0s\n",
      "[CV] C=0.2, class_weight=None, max_iter=0.8, n_jobs=1, solver=newton-cg \n"
     ]
    },
    {
     "name": "stderr",
     "output_type": "stream",
     "text": [
      "C:\\ProgramData\\Anaconda3\\lib\\site-packages\\sklearn\\linear_model\\_logistic.py:1539: UserWarning: 'n_jobs' > 1 does not have any effect when 'solver' is set to 'liblinear'. Got 'n_jobs' = 4.\n",
      "  \" = {}.\".format(effective_n_jobs(self.n_jobs)))\n",
      "C:\\ProgramData\\Anaconda3\\lib\\site-packages\\sklearn\\linear_model\\_logistic.py:1539: UserWarning: 'n_jobs' > 1 does not have any effect when 'solver' is set to 'liblinear'. Got 'n_jobs' = 4.\n",
      "  \" = {}.\".format(effective_n_jobs(self.n_jobs)))\n",
      "C:\\ProgramData\\Anaconda3\\lib\\site-packages\\sklearn\\linear_model\\_logistic.py:1539: UserWarning: 'n_jobs' > 1 does not have any effect when 'solver' is set to 'liblinear'. Got 'n_jobs' = 4.\n",
      "  \" = {}.\".format(effective_n_jobs(self.n_jobs)))\n",
      "C:\\ProgramData\\Anaconda3\\lib\\site-packages\\sklearn\\linear_model\\_logistic.py:1539: UserWarning: 'n_jobs' > 1 does not have any effect when 'solver' is set to 'liblinear'. Got 'n_jobs' = 4.\n",
      "  \" = {}.\".format(effective_n_jobs(self.n_jobs)))\n",
      "C:\\ProgramData\\Anaconda3\\lib\\site-packages\\sklearn\\linear_model\\_logistic.py:1539: UserWarning: 'n_jobs' > 1 does not have any effect when 'solver' is set to 'liblinear'. Got 'n_jobs' = 4.\n",
      "  \" = {}.\".format(effective_n_jobs(self.n_jobs)))\n",
      "C:\\ProgramData\\Anaconda3\\lib\\site-packages\\sklearn\\linear_model\\_logistic.py:1539: UserWarning: 'n_jobs' > 1 does not have any effect when 'solver' is set to 'liblinear'. Got 'n_jobs' = 4.\n",
      "  \" = {}.\".format(effective_n_jobs(self.n_jobs)))\n",
      "C:\\ProgramData\\Anaconda3\\lib\\site-packages\\sklearn\\linear_model\\_logistic.py:1539: UserWarning: 'n_jobs' > 1 does not have any effect when 'solver' is set to 'liblinear'. Got 'n_jobs' = 4.\n",
      "  \" = {}.\".format(effective_n_jobs(self.n_jobs)))\n",
      "C:\\ProgramData\\Anaconda3\\lib\\site-packages\\sklearn\\linear_model\\_logistic.py:1539: UserWarning: 'n_jobs' > 1 does not have any effect when 'solver' is set to 'liblinear'. Got 'n_jobs' = 4.\n",
      "  \" = {}.\".format(effective_n_jobs(self.n_jobs)))\n",
      "C:\\ProgramData\\Anaconda3\\lib\\site-packages\\sklearn\\linear_model\\_logistic.py:1539: UserWarning: 'n_jobs' > 1 does not have any effect when 'solver' is set to 'liblinear'. Got 'n_jobs' = 4.\n",
      "  \" = {}.\".format(effective_n_jobs(self.n_jobs)))\n",
      "C:\\ProgramData\\Anaconda3\\lib\\site-packages\\sklearn\\utils\\optimize.py:212: ConvergenceWarning: newton-cg failed to converge. Increase the number of iterations.\n",
      "  \"number of iterations.\", ConvergenceWarning)\n",
      "C:\\ProgramData\\Anaconda3\\lib\\site-packages\\sklearn\\utils\\optimize.py:212: ConvergenceWarning: newton-cg failed to converge. Increase the number of iterations.\n",
      "  \"number of iterations.\", ConvergenceWarning)\n",
      "C:\\ProgramData\\Anaconda3\\lib\\site-packages\\sklearn\\utils\\optimize.py:212: ConvergenceWarning: newton-cg failed to converge. Increase the number of iterations.\n",
      "  \"number of iterations.\", ConvergenceWarning)\n",
      "C:\\ProgramData\\Anaconda3\\lib\\site-packages\\sklearn\\utils\\optimize.py:212: ConvergenceWarning: newton-cg failed to converge. Increase the number of iterations.\n",
      "  \"number of iterations.\", ConvergenceWarning)\n",
      "C:\\ProgramData\\Anaconda3\\lib\\site-packages\\sklearn\\utils\\optimize.py:212: ConvergenceWarning: newton-cg failed to converge. Increase the number of iterations.\n",
      "  \"number of iterations.\", ConvergenceWarning)\n",
      "C:\\ProgramData\\Anaconda3\\lib\\site-packages\\sklearn\\utils\\optimize.py:212: ConvergenceWarning: newton-cg failed to converge. Increase the number of iterations.\n",
      "  \"number of iterations.\", ConvergenceWarning)\n",
      "C:\\ProgramData\\Anaconda3\\lib\\site-packages\\sklearn\\utils\\optimize.py:212: ConvergenceWarning: newton-cg failed to converge. Increase the number of iterations.\n",
      "  \"number of iterations.\", ConvergenceWarning)\n",
      "C:\\ProgramData\\Anaconda3\\lib\\site-packages\\sklearn\\utils\\optimize.py:212: ConvergenceWarning: newton-cg failed to converge. Increase the number of iterations.\n",
      "  \"number of iterations.\", ConvergenceWarning)\n",
      "C:\\ProgramData\\Anaconda3\\lib\\site-packages\\sklearn\\utils\\optimize.py:212: ConvergenceWarning: newton-cg failed to converge. Increase the number of iterations.\n",
      "  \"number of iterations.\", ConvergenceWarning)\n"
     ]
    },
    {
     "name": "stdout",
     "output_type": "stream",
     "text": [
      "[CV]  C=0.2, class_weight=None, max_iter=0.8, n_jobs=1, solver=newton-cg, score=0.764, total=   0.0s\n",
      "[CV] C=0.2, class_weight=None, max_iter=0.8, n_jobs=1, solver=newton-cg \n",
      "[CV]  C=0.2, class_weight=None, max_iter=0.8, n_jobs=1, solver=newton-cg, score=0.791, total=   0.0s\n",
      "[CV] C=0.2, class_weight=None, max_iter=0.8, n_jobs=1, solver=liblinear \n",
      "[CV]  C=0.2, class_weight=None, max_iter=0.8, n_jobs=1, solver=liblinear, score=0.616, total=   0.0s\n",
      "[CV] C=0.2, class_weight=None, max_iter=0.8, n_jobs=1, solver=liblinear \n",
      "[CV]  C=0.2, class_weight=None, max_iter=0.8, n_jobs=1, solver=liblinear, score=0.616, total=   0.0s\n",
      "[CV] C=0.2, class_weight=None, max_iter=0.8, n_jobs=1, solver=liblinear \n",
      "[CV]  C=0.2, class_weight=None, max_iter=0.8, n_jobs=1, solver=liblinear, score=0.616, total=   0.0s\n",
      "[CV] C=0.2, class_weight=None, max_iter=0.8, n_jobs=1, solver=liblinear \n",
      "[CV]  C=0.2, class_weight=None, max_iter=0.8, n_jobs=1, solver=liblinear, score=0.616, total=   0.0s\n",
      "[CV] C=0.2, class_weight=None, max_iter=0.8, n_jobs=1, solver=liblinear \n",
      "[CV]  C=0.2, class_weight=None, max_iter=0.8, n_jobs=1, solver=liblinear, score=0.616, total=   0.0s\n",
      "[CV] C=0.2, class_weight=None, max_iter=0.8, n_jobs=1, solver=liblinear \n",
      "[CV]  C=0.2, class_weight=None, max_iter=0.8, n_jobs=1, solver=liblinear, score=0.616, total=   0.0s\n",
      "[CV] C=0.2, class_weight=None, max_iter=0.8, n_jobs=1, solver=liblinear \n",
      "[CV]  C=0.2, class_weight=None, max_iter=0.8, n_jobs=1, solver=liblinear, score=0.616, total=   0.0s\n",
      "[CV] C=0.2, class_weight=None, max_iter=0.8, n_jobs=1, solver=liblinear \n",
      "[CV]  C=0.2, class_weight=None, max_iter=0.8, n_jobs=1, solver=liblinear, score=0.616, total=   0.0s\n",
      "[CV] C=0.2, class_weight=None, max_iter=0.8, n_jobs=1, solver=liblinear \n",
      "[CV]  C=0.2, class_weight=None, max_iter=0.8, n_jobs=1, solver=liblinear, score=0.616, total=   0.0s\n",
      "[CV] C=0.2, class_weight=None, max_iter=0.9, n_jobs=-1, solver=newton-cg \n",
      "[CV]  C=0.2, class_weight=None, max_iter=0.9, n_jobs=-1, solver=newton-cg, score=0.714, total=   0.0s\n",
      "[CV] C=0.2, class_weight=None, max_iter=0.9, n_jobs=-1, solver=newton-cg \n",
      "[CV]  C=0.2, class_weight=None, max_iter=0.9, n_jobs=-1, solver=newton-cg, score=0.771, total=   0.0s\n",
      "[CV] C=0.2, class_weight=None, max_iter=0.9, n_jobs=-1, solver=newton-cg \n",
      "[CV]  C=0.2, class_weight=None, max_iter=0.9, n_jobs=-1, solver=newton-cg, score=0.657, total=   0.0s\n",
      "[CV] C=0.2, class_weight=None, max_iter=0.9, n_jobs=-1, solver=newton-cg \n",
      "[CV]  C=0.2, class_weight=None, max_iter=0.9, n_jobs=-1, solver=newton-cg, score=0.734, total=   0.0s\n",
      "[CV] C=0.2, class_weight=None, max_iter=0.9, n_jobs=-1, solver=newton-cg \n",
      "[CV]  C=0.2, class_weight=None, max_iter=0.9, n_jobs=-1, solver=newton-cg, score=0.805, total=   0.0s\n",
      "[CV] C=0.2, class_weight=None, max_iter=0.9, n_jobs=-1, solver=newton-cg \n",
      "[CV]  C=0.2, class_weight=None, max_iter=0.9, n_jobs=-1, solver=newton-cg, score=0.673, total=   0.0s\n",
      "[CV] C=0.2, class_weight=None, max_iter=0.9, n_jobs=-1, solver=newton-cg \n",
      "[CV]  C=0.2, class_weight=None, max_iter=0.9, n_jobs=-1, solver=newton-cg, score=0.731, total=   0.0s\n",
      "[CV] C=0.2, class_weight=None, max_iter=0.9, n_jobs=-1, solver=newton-cg \n",
      "[CV]  C=0.2, class_weight=None, max_iter=0.9, n_jobs=-1, solver=newton-cg, score=0.764, total=   0.0s\n",
      "[CV] C=0.2, class_weight=None, max_iter=0.9, n_jobs=-1, solver=newton-cg \n",
      "[CV]  C=0.2, class_weight=None, max_iter=0.9, n_jobs=-1, solver=newton-cg, score=0.791, total=   0.0s\n",
      "[CV] C=0.2, class_weight=None, max_iter=0.9, n_jobs=-1, solver=liblinear \n",
      "[CV]  C=0.2, class_weight=None, max_iter=0.9, n_jobs=-1, solver=liblinear, score=0.616, total=   0.0s\n",
      "[CV] C=0.2, class_weight=None, max_iter=0.9, n_jobs=-1, solver=liblinear "
     ]
    },
    {
     "name": "stderr",
     "output_type": "stream",
     "text": [
      "C:\\ProgramData\\Anaconda3\\lib\\site-packages\\sklearn\\linear_model\\_logistic.py:1539: UserWarning: 'n_jobs' > 1 does not have any effect when 'solver' is set to 'liblinear'. Got 'n_jobs' = 4.\n",
      "  \" = {}.\".format(effective_n_jobs(self.n_jobs)))\n",
      "C:\\ProgramData\\Anaconda3\\lib\\site-packages\\sklearn\\linear_model\\_logistic.py:1539: UserWarning: 'n_jobs' > 1 does not have any effect when 'solver' is set to 'liblinear'. Got 'n_jobs' = 4.\n",
      "  \" = {}.\".format(effective_n_jobs(self.n_jobs)))\n",
      "C:\\ProgramData\\Anaconda3\\lib\\site-packages\\sklearn\\linear_model\\_logistic.py:1539: UserWarning: 'n_jobs' > 1 does not have any effect when 'solver' is set to 'liblinear'. Got 'n_jobs' = 4.\n",
      "  \" = {}.\".format(effective_n_jobs(self.n_jobs)))\n",
      "C:\\ProgramData\\Anaconda3\\lib\\site-packages\\sklearn\\linear_model\\_logistic.py:1539: UserWarning: 'n_jobs' > 1 does not have any effect when 'solver' is set to 'liblinear'. Got 'n_jobs' = 4.\n",
      "  \" = {}.\".format(effective_n_jobs(self.n_jobs)))\n",
      "C:\\ProgramData\\Anaconda3\\lib\\site-packages\\sklearn\\linear_model\\_logistic.py:1539: UserWarning: 'n_jobs' > 1 does not have any effect when 'solver' is set to 'liblinear'. Got 'n_jobs' = 4.\n",
      "  \" = {}.\".format(effective_n_jobs(self.n_jobs)))\n",
      "C:\\ProgramData\\Anaconda3\\lib\\site-packages\\sklearn\\linear_model\\_logistic.py:1539: UserWarning: 'n_jobs' > 1 does not have any effect when 'solver' is set to 'liblinear'. Got 'n_jobs' = 4.\n",
      "  \" = {}.\".format(effective_n_jobs(self.n_jobs)))\n",
      "C:\\ProgramData\\Anaconda3\\lib\\site-packages\\sklearn\\linear_model\\_logistic.py:1539: UserWarning: 'n_jobs' > 1 does not have any effect when 'solver' is set to 'liblinear'. Got 'n_jobs' = 4.\n",
      "  \" = {}.\".format(effective_n_jobs(self.n_jobs)))\n",
      "C:\\ProgramData\\Anaconda3\\lib\\site-packages\\sklearn\\linear_model\\_logistic.py:1539: UserWarning: 'n_jobs' > 1 does not have any effect when 'solver' is set to 'liblinear'. Got 'n_jobs' = 4.\n",
      "  \" = {}.\".format(effective_n_jobs(self.n_jobs)))\n",
      "C:\\ProgramData\\Anaconda3\\lib\\site-packages\\sklearn\\linear_model\\_logistic.py:1539: UserWarning: 'n_jobs' > 1 does not have any effect when 'solver' is set to 'liblinear'. Got 'n_jobs' = 4.\n",
      "  \" = {}.\".format(effective_n_jobs(self.n_jobs)))\n",
      "C:\\ProgramData\\Anaconda3\\lib\\site-packages\\sklearn\\utils\\optimize.py:212: ConvergenceWarning: newton-cg failed to converge. Increase the number of iterations.\n",
      "  \"number of iterations.\", ConvergenceWarning)\n",
      "C:\\ProgramData\\Anaconda3\\lib\\site-packages\\sklearn\\utils\\optimize.py:212: ConvergenceWarning: newton-cg failed to converge. Increase the number of iterations.\n",
      "  \"number of iterations.\", ConvergenceWarning)\n",
      "C:\\ProgramData\\Anaconda3\\lib\\site-packages\\sklearn\\utils\\optimize.py:212: ConvergenceWarning: newton-cg failed to converge. Increase the number of iterations.\n",
      "  \"number of iterations.\", ConvergenceWarning)\n",
      "C:\\ProgramData\\Anaconda3\\lib\\site-packages\\sklearn\\utils\\optimize.py:212: ConvergenceWarning: newton-cg failed to converge. Increase the number of iterations.\n",
      "  \"number of iterations.\", ConvergenceWarning)\n",
      "C:\\ProgramData\\Anaconda3\\lib\\site-packages\\sklearn\\utils\\optimize.py:212: ConvergenceWarning: newton-cg failed to converge. Increase the number of iterations.\n",
      "  \"number of iterations.\", ConvergenceWarning)\n",
      "C:\\ProgramData\\Anaconda3\\lib\\site-packages\\sklearn\\utils\\optimize.py:212: ConvergenceWarning: newton-cg failed to converge. Increase the number of iterations.\n",
      "  \"number of iterations.\", ConvergenceWarning)\n",
      "C:\\ProgramData\\Anaconda3\\lib\\site-packages\\sklearn\\utils\\optimize.py:212: ConvergenceWarning: newton-cg failed to converge. Increase the number of iterations.\n",
      "  \"number of iterations.\", ConvergenceWarning)\n",
      "C:\\ProgramData\\Anaconda3\\lib\\site-packages\\sklearn\\utils\\optimize.py:212: ConvergenceWarning: newton-cg failed to converge. Increase the number of iterations.\n",
      "  \"number of iterations.\", ConvergenceWarning)\n",
      "C:\\ProgramData\\Anaconda3\\lib\\site-packages\\sklearn\\utils\\optimize.py:212: ConvergenceWarning: newton-cg failed to converge. Increase the number of iterations.\n",
      "  \"number of iterations.\", ConvergenceWarning)\n"
     ]
    },
    {
     "name": "stdout",
     "output_type": "stream",
     "text": [
      "\n",
      "[CV]  C=0.2, class_weight=None, max_iter=0.9, n_jobs=-1, solver=liblinear, score=0.616, total=   0.0s\n",
      "[CV] C=0.2, class_weight=None, max_iter=0.9, n_jobs=-1, solver=liblinear \n",
      "[CV]  C=0.2, class_weight=None, max_iter=0.9, n_jobs=-1, solver=liblinear, score=0.616, total=   0.0s\n",
      "[CV] C=0.2, class_weight=None, max_iter=0.9, n_jobs=-1, solver=liblinear \n",
      "[CV]  C=0.2, class_weight=None, max_iter=0.9, n_jobs=-1, solver=liblinear, score=0.616, total=   0.0s\n",
      "[CV] C=0.2, class_weight=None, max_iter=0.9, n_jobs=-1, solver=liblinear \n",
      "[CV]  C=0.2, class_weight=None, max_iter=0.9, n_jobs=-1, solver=liblinear, score=0.616, total=   0.0s\n",
      "[CV] C=0.2, class_weight=None, max_iter=0.9, n_jobs=-1, solver=liblinear \n",
      "[CV]  C=0.2, class_weight=None, max_iter=0.9, n_jobs=-1, solver=liblinear, score=0.616, total=   0.0s\n",
      "[CV] C=0.2, class_weight=None, max_iter=0.9, n_jobs=-1, solver=liblinear \n",
      "[CV]  C=0.2, class_weight=None, max_iter=0.9, n_jobs=-1, solver=liblinear, score=0.616, total=   0.0s\n",
      "[CV] C=0.2, class_weight=None, max_iter=0.9, n_jobs=-1, solver=liblinear \n",
      "[CV]  C=0.2, class_weight=None, max_iter=0.9, n_jobs=-1, solver=liblinear, score=0.616, total=   0.0s\n",
      "[CV] C=0.2, class_weight=None, max_iter=0.9, n_jobs=-1, solver=liblinear \n",
      "[CV]  C=0.2, class_weight=None, max_iter=0.9, n_jobs=-1, solver=liblinear, score=0.616, total=   0.0s\n",
      "[CV] C=0.2, class_weight=None, max_iter=0.9, n_jobs=1, solver=newton-cg \n",
      "[CV]  C=0.2, class_weight=None, max_iter=0.9, n_jobs=1, solver=newton-cg, score=0.714, total=   0.0s\n",
      "[CV] C=0.2, class_weight=None, max_iter=0.9, n_jobs=1, solver=newton-cg \n",
      "[CV]  C=0.2, class_weight=None, max_iter=0.9, n_jobs=1, solver=newton-cg, score=0.771, total=   0.0s\n",
      "[CV] C=0.2, class_weight=None, max_iter=0.9, n_jobs=1, solver=newton-cg \n",
      "[CV]  C=0.2, class_weight=None, max_iter=0.9, n_jobs=1, solver=newton-cg, score=0.657, total=   0.0s\n",
      "[CV] C=0.2, class_weight=None, max_iter=0.9, n_jobs=1, solver=newton-cg \n",
      "[CV]  C=0.2, class_weight=None, max_iter=0.9, n_jobs=1, solver=newton-cg, score=0.734, total=   0.0s\n",
      "[CV] C=0.2, class_weight=None, max_iter=0.9, n_jobs=1, solver=newton-cg \n",
      "[CV]  C=0.2, class_weight=None, max_iter=0.9, n_jobs=1, solver=newton-cg, score=0.805, total=   0.0s\n",
      "[CV] C=0.2, class_weight=None, max_iter=0.9, n_jobs=1, solver=newton-cg \n",
      "[CV]  C=0.2, class_weight=None, max_iter=0.9, n_jobs=1, solver=newton-cg, score=0.673, total=   0.0s\n",
      "[CV] C=0.2, class_weight=None, max_iter=0.9, n_jobs=1, solver=newton-cg \n",
      "[CV]  C=0.2, class_weight=None, max_iter=0.9, n_jobs=1, solver=newton-cg, score=0.731, total=   0.0s\n",
      "[CV] C=0.2, class_weight=None, max_iter=0.9, n_jobs=1, solver=newton-cg \n",
      "[CV]  C=0.2, class_weight=None, max_iter=0.9, n_jobs=1, solver=newton-cg, score=0.764, total=   0.0s\n",
      "[CV] C=0.2, class_weight=None, max_iter=0.9, n_jobs=1, solver=newton-cg \n",
      "[CV]  C=0.2, class_weight=None, max_iter=0.9, n_jobs=1, solver=newton-cg, score=0.791, total=   0.0s\n",
      "[CV] C=0.2, class_weight=None, max_iter=0.9, n_jobs=1, solver=liblinear \n",
      "[CV]  C=0.2, class_weight=None, max_iter=0.9, n_jobs=1, solver=liblinear, score=0.616, total=   0.0s\n",
      "[CV] C=0.2, class_weight=None, max_iter=0.9, n_jobs=1, solver=liblinear \n",
      "[CV]  C=0.2, class_weight=None, max_iter=0.9, n_jobs=1, solver=liblinear, score=0.616, total=   0.0s\n",
      "[CV] C=0.2, class_weight=None, max_iter=0.9, n_jobs=1, solver=liblinear \n",
      "[CV]  C=0.2, class_weight=None, max_iter=0.9, n_jobs=1, solver=liblinear, score=0.616, total=   0.0s\n",
      "[CV] C=0.2, class_weight=None, max_iter=0.9, n_jobs=1, solver=liblinear \n",
      "[CV]  C=0.2, class_weight=None, max_iter=0.9, n_jobs=1, solver=liblinear, score=0.616, total=   0.0s\n",
      "[CV] C=0.2, class_weight=None, max_iter=0.9, n_jobs=1, solver=liblinear \n",
      "[CV]  C=0.2, class_weight=None, max_iter=0.9, n_jobs=1, solver=liblinear, score=0.616, total=   0.0s\n",
      "[CV] C=0.2, class_weight=None, max_iter=0.9, n_jobs=1, solver=liblinear \n",
      "[CV]  C=0.2, class_weight=None, max_iter=0.9, n_jobs=1, solver=liblinear, score=0.616, total=   0.0s\n",
      "[CV] C=0.2, class_weight=None, max_iter=0.9, n_jobs=1, solver=liblinear \n",
      "[CV]  C=0.2, class_weight=None, max_iter=0.9, n_jobs=1, solver=liblinear, score=0.616, total=   0.0s\n",
      "[CV] C=0.2, class_weight=None, max_iter=0.9, n_jobs=1, solver=liblinear \n",
      "[CV]  C=0.2, class_weight=None, max_iter=0.9, n_jobs=1, solver=liblinear, score=0.616, total=   0.0s\n",
      "[CV] C=0.2, class_weight=None, max_iter=0.9, n_jobs=1, solver=liblinear \n",
      "[CV]  C=0.2, class_weight=None, max_iter=0.9, n_jobs=1, solver=liblinear, score=0.616, total=   0.0s\n",
      "[CV] C=0.2, class_weight=None, max_iter=1, n_jobs=-1, solver=newton-cg \n",
      "[CV]  C=0.2, class_weight=None, max_iter=1, n_jobs=-1, solver=newton-cg, score=0.714, total=   0.0s\n",
      "[CV] C=0.2, class_weight=None, max_iter=1, n_jobs=-1, solver=newton-cg \n",
      "[CV]  C=0.2, class_weight=None, max_iter=1, n_jobs=-1, solver=newton-cg, score=0.771, total=   0.0s\n",
      "[CV] C=0.2, class_weight=None, max_iter=1, n_jobs=-1, solver=newton-cg \n",
      "[CV]  C=0.2, class_weight=None, max_iter=1, n_jobs=-1, solver=newton-cg, score=0.657, total=   0.0s\n",
      "[CV] C=0.2, class_weight=None, max_iter=1, n_jobs=-1, solver=newton-cg \n",
      "[CV]  C=0.2, class_weight=None, max_iter=1, n_jobs=-1, solver=newton-cg, score=0.734, total=   0.0s\n",
      "[CV] C=0.2, class_weight=None, max_iter=1, n_jobs=-1, solver=newton-cg \n",
      "[CV]  C=0.2, class_weight=None, max_iter=1, n_jobs=-1, solver=newton-cg, score=0.805, total=   0.0s\n",
      "[CV] C=0.2, class_weight=None, max_iter=1, n_jobs=-1, solver=newton-cg \n",
      "[CV]  C=0.2, class_weight=None, max_iter=1, n_jobs=-1, solver=newton-cg, score=0.673, total=   0.0s\n",
      "[CV] C=0.2, class_weight=None, max_iter=1, n_jobs=-1, solver=newton-cg \n",
      "[CV]  C=0.2, class_weight=None, max_iter=1, n_jobs=-1, solver=newton-cg, score=0.731, total=   0.0s\n",
      "[CV] C=0.2, class_weight=None, max_iter=1, n_jobs=-1, solver=newton-cg \n",
      "[CV]  C=0.2, class_weight=None, max_iter=1, n_jobs=-1, solver=newton-cg, score=0.764, total=   0.0s\n",
      "[CV] C=0.2, class_weight=None, max_iter=1, n_jobs=-1, solver=newton-cg \n",
      "[CV]  C=0.2, class_weight=None, max_iter=1, n_jobs=-1, solver=newton-cg, score=0.791, total=   0.0s\n",
      "[CV] C=0.2, class_weight=None, max_iter=1, n_jobs=-1, solver=liblinear \n",
      "[CV]  C=0.2, class_weight=None, max_iter=1, n_jobs=-1, solver=liblinear, score=0.791, total=   0.0s\n",
      "[CV] C=0.2, class_weight=None, max_iter=1, n_jobs=-1, solver=liblinear \n",
      "[CV]  C=0.2, class_weight=None, max_iter=1, n_jobs=-1, solver=liblinear, score=0.795, total=   0.0s\n",
      "[CV] C=0.2, class_weight=None, max_iter=1, n_jobs=-1, solver=liblinear \n",
      "[CV]  C=0.2, class_weight=None, max_iter=1, n_jobs=-1, solver=liblinear, score=0.835, total=   0.0s\n",
      "[CV] C=0.2, class_weight=None, max_iter=1, n_jobs=-1, solver=liblinear \n",
      "[CV]  C=0.2, class_weight=None, max_iter=1, n_jobs=-1, solver=liblinear, score=0.798, total=   0.0s\n",
      "[CV] C=0.2, class_weight=None, max_iter=1, n_jobs=-1, solver=liblinear \n",
      "[CV]  C=0.2, class_weight=None, max_iter=1, n_jobs=-1, solver=liblinear, score=0.801, total=   0.0s\n",
      "[CV] C=0.2, class_weight=None, max_iter=1, n_jobs=-1, solver=liblinear \n",
      "[CV]  C=0.2, class_weight=None, max_iter=1, n_jobs=-1, solver=liblinear, score=0.822, total=   0.0s\n",
      "[CV] C=0.2, class_weight=None, max_iter=1, n_jobs=-1, solver=liblinear \n",
      "[CV]  C=0.2, class_weight=None, max_iter=1, n_jobs=-1, solver=liblinear, score=0.785, total=   0.0s\n",
      "[CV] C=0.2, class_weight=None, max_iter=1, n_jobs=-1, solver=liblinear \n",
      "[CV]  C=0.2, class_weight=None, max_iter=1, n_jobs=-1, solver=liblinear, score=0.822, total=   0.0s\n",
      "[CV] C=0.2, class_weight=None, max_iter=1, n_jobs=-1, solver=liblinear \n",
      "[CV]  C=0.2, class_weight=None, max_iter=1, n_jobs=-1, solver=liblinear, score=0.828, total=   0.0s\n",
      "[CV] C=0.2, class_weight=None, max_iter=1, n_jobs=1, solver=newton-cg \n",
      "[CV]  C=0.2, class_weight=None, max_iter=1, n_jobs=1, solver=newton-cg, score=0.714, total=   0.0s\n",
      "[CV] C=0.2, class_weight=None, max_iter=1, n_jobs=1, solver=newton-cg \n",
      "[CV]  C=0.2, class_weight=None, max_iter=1, n_jobs=1, solver=newton-cg, score=0.771, total=   0.0s\n",
      "[CV] C=0.2, class_weight=None, max_iter=1, n_jobs=1, solver=newton-cg \n",
      "[CV]  C=0.2, class_weight=None, max_iter=1, n_jobs=1, solver=newton-cg, score=0.657, total=   0.0s\n",
      "[CV] C=0.2, class_weight=None, max_iter=1, n_jobs=1, solver=newton-cg \n",
      "[CV]  C=0.2, class_weight=None, max_iter=1, n_jobs=1, solver=newton-cg, score=0.734, total=   0.0s\n",
      "[CV] C=0.2, class_weight=None, max_iter=1, n_jobs=1, solver=newton-cg \n",
      "[CV]  C=0.2, class_weight=None, max_iter=1, n_jobs=1, solver=newton-cg, score=0.805, total=   0.0s\n",
      "[CV] C=0.2, class_weight=None, max_iter=1, n_jobs=1, solver=newton-cg \n",
      "[CV]  C=0.2, class_weight=None, max_iter=1, n_jobs=1, solver=newton-cg, score=0.673, total=   0.0s\n",
      "[CV] C=0.2, class_weight=None, max_iter=1, n_jobs=1, solver=newton-cg \n",
      "[CV]  C=0.2, class_weight=None, max_iter=1, n_jobs=1, solver=newton-cg, score=0.731, total=   0.0s\n",
      "[CV] C=0.2, class_weight=None, max_iter=1, n_jobs=1, solver=newton-cg \n",
      "[CV]  C=0.2, class_weight=None, max_iter=1, n_jobs=1, solver=newton-cg, score=0.764, total=   0.0s\n",
      "[CV] C=0.2, class_weight=None, max_iter=1, n_jobs=1, solver=newton-cg "
     ]
    },
    {
     "name": "stderr",
     "output_type": "stream",
     "text": [
      "C:\\ProgramData\\Anaconda3\\lib\\site-packages\\sklearn\\linear_model\\_logistic.py:1539: UserWarning: 'n_jobs' > 1 does not have any effect when 'solver' is set to 'liblinear'. Got 'n_jobs' = 4.\n",
      "  \" = {}.\".format(effective_n_jobs(self.n_jobs)))\n",
      "C:\\ProgramData\\Anaconda3\\lib\\site-packages\\sklearn\\svm\\_base.py:947: ConvergenceWarning: Liblinear failed to converge, increase the number of iterations.\n",
      "  \"the number of iterations.\", ConvergenceWarning)\n",
      "C:\\ProgramData\\Anaconda3\\lib\\site-packages\\sklearn\\linear_model\\_logistic.py:1539: UserWarning: 'n_jobs' > 1 does not have any effect when 'solver' is set to 'liblinear'. Got 'n_jobs' = 4.\n",
      "  \" = {}.\".format(effective_n_jobs(self.n_jobs)))\n",
      "C:\\ProgramData\\Anaconda3\\lib\\site-packages\\sklearn\\svm\\_base.py:947: ConvergenceWarning: Liblinear failed to converge, increase the number of iterations.\n",
      "  \"the number of iterations.\", ConvergenceWarning)\n",
      "C:\\ProgramData\\Anaconda3\\lib\\site-packages\\sklearn\\linear_model\\_logistic.py:1539: UserWarning: 'n_jobs' > 1 does not have any effect when 'solver' is set to 'liblinear'. Got 'n_jobs' = 4.\n",
      "  \" = {}.\".format(effective_n_jobs(self.n_jobs)))\n",
      "C:\\ProgramData\\Anaconda3\\lib\\site-packages\\sklearn\\svm\\_base.py:947: ConvergenceWarning: Liblinear failed to converge, increase the number of iterations.\n",
      "  \"the number of iterations.\", ConvergenceWarning)\n",
      "C:\\ProgramData\\Anaconda3\\lib\\site-packages\\sklearn\\linear_model\\_logistic.py:1539: UserWarning: 'n_jobs' > 1 does not have any effect when 'solver' is set to 'liblinear'. Got 'n_jobs' = 4.\n",
      "  \" = {}.\".format(effective_n_jobs(self.n_jobs)))\n",
      "C:\\ProgramData\\Anaconda3\\lib\\site-packages\\sklearn\\svm\\_base.py:947: ConvergenceWarning: Liblinear failed to converge, increase the number of iterations.\n",
      "  \"the number of iterations.\", ConvergenceWarning)\n",
      "C:\\ProgramData\\Anaconda3\\lib\\site-packages\\sklearn\\linear_model\\_logistic.py:1539: UserWarning: 'n_jobs' > 1 does not have any effect when 'solver' is set to 'liblinear'. Got 'n_jobs' = 4.\n",
      "  \" = {}.\".format(effective_n_jobs(self.n_jobs)))\n",
      "C:\\ProgramData\\Anaconda3\\lib\\site-packages\\sklearn\\svm\\_base.py:947: ConvergenceWarning: Liblinear failed to converge, increase the number of iterations.\n",
      "  \"the number of iterations.\", ConvergenceWarning)\n",
      "C:\\ProgramData\\Anaconda3\\lib\\site-packages\\sklearn\\linear_model\\_logistic.py:1539: UserWarning: 'n_jobs' > 1 does not have any effect when 'solver' is set to 'liblinear'. Got 'n_jobs' = 4.\n",
      "  \" = {}.\".format(effective_n_jobs(self.n_jobs)))\n",
      "C:\\ProgramData\\Anaconda3\\lib\\site-packages\\sklearn\\svm\\_base.py:947: ConvergenceWarning: Liblinear failed to converge, increase the number of iterations.\n",
      "  \"the number of iterations.\", ConvergenceWarning)\n",
      "C:\\ProgramData\\Anaconda3\\lib\\site-packages\\sklearn\\linear_model\\_logistic.py:1539: UserWarning: 'n_jobs' > 1 does not have any effect when 'solver' is set to 'liblinear'. Got 'n_jobs' = 4.\n",
      "  \" = {}.\".format(effective_n_jobs(self.n_jobs)))\n",
      "C:\\ProgramData\\Anaconda3\\lib\\site-packages\\sklearn\\svm\\_base.py:947: ConvergenceWarning: Liblinear failed to converge, increase the number of iterations.\n",
      "  \"the number of iterations.\", ConvergenceWarning)\n",
      "C:\\ProgramData\\Anaconda3\\lib\\site-packages\\sklearn\\linear_model\\_logistic.py:1539: UserWarning: 'n_jobs' > 1 does not have any effect when 'solver' is set to 'liblinear'. Got 'n_jobs' = 4.\n",
      "  \" = {}.\".format(effective_n_jobs(self.n_jobs)))\n",
      "C:\\ProgramData\\Anaconda3\\lib\\site-packages\\sklearn\\svm\\_base.py:947: ConvergenceWarning: Liblinear failed to converge, increase the number of iterations.\n",
      "  \"the number of iterations.\", ConvergenceWarning)\n",
      "C:\\ProgramData\\Anaconda3\\lib\\site-packages\\sklearn\\linear_model\\_logistic.py:1539: UserWarning: 'n_jobs' > 1 does not have any effect when 'solver' is set to 'liblinear'. Got 'n_jobs' = 4.\n",
      "  \" = {}.\".format(effective_n_jobs(self.n_jobs)))\n",
      "C:\\ProgramData\\Anaconda3\\lib\\site-packages\\sklearn\\svm\\_base.py:947: ConvergenceWarning: Liblinear failed to converge, increase the number of iterations.\n",
      "  \"the number of iterations.\", ConvergenceWarning)\n",
      "C:\\ProgramData\\Anaconda3\\lib\\site-packages\\sklearn\\utils\\optimize.py:212: ConvergenceWarning: newton-cg failed to converge. Increase the number of iterations.\n",
      "  \"number of iterations.\", ConvergenceWarning)\n",
      "C:\\ProgramData\\Anaconda3\\lib\\site-packages\\sklearn\\utils\\optimize.py:212: ConvergenceWarning: newton-cg failed to converge. Increase the number of iterations.\n",
      "  \"number of iterations.\", ConvergenceWarning)\n",
      "C:\\ProgramData\\Anaconda3\\lib\\site-packages\\sklearn\\utils\\optimize.py:212: ConvergenceWarning: newton-cg failed to converge. Increase the number of iterations.\n",
      "  \"number of iterations.\", ConvergenceWarning)\n",
      "C:\\ProgramData\\Anaconda3\\lib\\site-packages\\sklearn\\utils\\optimize.py:212: ConvergenceWarning: newton-cg failed to converge. Increase the number of iterations.\n",
      "  \"number of iterations.\", ConvergenceWarning)\n",
      "C:\\ProgramData\\Anaconda3\\lib\\site-packages\\sklearn\\utils\\optimize.py:212: ConvergenceWarning: newton-cg failed to converge. Increase the number of iterations.\n",
      "  \"number of iterations.\", ConvergenceWarning)\n",
      "C:\\ProgramData\\Anaconda3\\lib\\site-packages\\sklearn\\utils\\optimize.py:212: ConvergenceWarning: newton-cg failed to converge. Increase the number of iterations.\n",
      "  \"number of iterations.\", ConvergenceWarning)\n",
      "C:\\ProgramData\\Anaconda3\\lib\\site-packages\\sklearn\\utils\\optimize.py:212: ConvergenceWarning: newton-cg failed to converge. Increase the number of iterations.\n",
      "  \"number of iterations.\", ConvergenceWarning)\n",
      "C:\\ProgramData\\Anaconda3\\lib\\site-packages\\sklearn\\utils\\optimize.py:212: ConvergenceWarning: newton-cg failed to converge. Increase the number of iterations.\n",
      "  \"number of iterations.\", ConvergenceWarning)\n",
      "C:\\ProgramData\\Anaconda3\\lib\\site-packages\\sklearn\\utils\\optimize.py:212: ConvergenceWarning: newton-cg failed to converge. Increase the number of iterations.\n",
      "  \"number of iterations.\", ConvergenceWarning)\n",
      "C:\\ProgramData\\Anaconda3\\lib\\site-packages\\sklearn\\svm\\_base.py:947: ConvergenceWarning: Liblinear failed to converge, increase the number of iterations.\n",
      "  \"the number of iterations.\", ConvergenceWarning)\n",
      "C:\\ProgramData\\Anaconda3\\lib\\site-packages\\sklearn\\svm\\_base.py:947: ConvergenceWarning: Liblinear failed to converge, increase the number of iterations.\n",
      "  \"the number of iterations.\", ConvergenceWarning)\n",
      "C:\\ProgramData\\Anaconda3\\lib\\site-packages\\sklearn\\svm\\_base.py:947: ConvergenceWarning: Liblinear failed to converge, increase the number of iterations.\n",
      "  \"the number of iterations.\", ConvergenceWarning)\n",
      "C:\\ProgramData\\Anaconda3\\lib\\site-packages\\sklearn\\svm\\_base.py:947: ConvergenceWarning: Liblinear failed to converge, increase the number of iterations.\n",
      "  \"the number of iterations.\", ConvergenceWarning)\n",
      "C:\\ProgramData\\Anaconda3\\lib\\site-packages\\sklearn\\svm\\_base.py:947: ConvergenceWarning: Liblinear failed to converge, increase the number of iterations.\n",
      "  \"the number of iterations.\", ConvergenceWarning)\n",
      "C:\\ProgramData\\Anaconda3\\lib\\site-packages\\sklearn\\svm\\_base.py:947: ConvergenceWarning: Liblinear failed to converge, increase the number of iterations.\n",
      "  \"the number of iterations.\", ConvergenceWarning)\n",
      "C:\\ProgramData\\Anaconda3\\lib\\site-packages\\sklearn\\svm\\_base.py:947: ConvergenceWarning: Liblinear failed to converge, increase the number of iterations.\n",
      "  \"the number of iterations.\", ConvergenceWarning)\n",
      "C:\\ProgramData\\Anaconda3\\lib\\site-packages\\sklearn\\svm\\_base.py:947: ConvergenceWarning: Liblinear failed to converge, increase the number of iterations.\n",
      "  \"the number of iterations.\", ConvergenceWarning)\n",
      "C:\\ProgramData\\Anaconda3\\lib\\site-packages\\sklearn\\svm\\_base.py:947: ConvergenceWarning: Liblinear failed to converge, increase the number of iterations.\n",
      "  \"the number of iterations.\", ConvergenceWarning)\n"
     ]
    },
    {
     "name": "stdout",
     "output_type": "stream",
     "text": [
      "\n",
      "[CV]  C=0.2, class_weight=None, max_iter=1, n_jobs=1, solver=newton-cg, score=0.791, total=   0.0s\n",
      "[CV] C=0.2, class_weight=None, max_iter=1, n_jobs=1, solver=liblinear \n",
      "[CV]  C=0.2, class_weight=None, max_iter=1, n_jobs=1, solver=liblinear, score=0.791, total=   0.0s\n",
      "[CV] C=0.2, class_weight=None, max_iter=1, n_jobs=1, solver=liblinear \n",
      "[CV]  C=0.2, class_weight=None, max_iter=1, n_jobs=1, solver=liblinear, score=0.795, total=   0.0s\n",
      "[CV] C=0.2, class_weight=None, max_iter=1, n_jobs=1, solver=liblinear \n",
      "[CV]  C=0.2, class_weight=None, max_iter=1, n_jobs=1, solver=liblinear, score=0.835, total=   0.0s\n",
      "[CV] C=0.2, class_weight=None, max_iter=1, n_jobs=1, solver=liblinear \n",
      "[CV]  C=0.2, class_weight=None, max_iter=1, n_jobs=1, solver=liblinear, score=0.798, total=   0.0s\n",
      "[CV] C=0.2, class_weight=None, max_iter=1, n_jobs=1, solver=liblinear \n",
      "[CV]  C=0.2, class_weight=None, max_iter=1, n_jobs=1, solver=liblinear, score=0.801, total=   0.0s\n",
      "[CV] C=0.2, class_weight=None, max_iter=1, n_jobs=1, solver=liblinear \n",
      "[CV]  C=0.2, class_weight=None, max_iter=1, n_jobs=1, solver=liblinear, score=0.822, total=   0.0s\n",
      "[CV] C=0.2, class_weight=None, max_iter=1, n_jobs=1, solver=liblinear \n",
      "[CV]  C=0.2, class_weight=None, max_iter=1, n_jobs=1, solver=liblinear, score=0.785, total=   0.0s\n",
      "[CV] C=0.2, class_weight=None, max_iter=1, n_jobs=1, solver=liblinear \n",
      "[CV]  C=0.2, class_weight=None, max_iter=1, n_jobs=1, solver=liblinear, score=0.822, total=   0.0s\n",
      "[CV] C=0.2, class_weight=None, max_iter=1, n_jobs=1, solver=liblinear \n",
      "[CV]  C=0.2, class_weight=None, max_iter=1, n_jobs=1, solver=liblinear, score=0.828, total=   0.0s\n",
      "[CV] C=0.3, class_weight=None, max_iter=0.7, n_jobs=-1, solver=newton-cg \n",
      "[CV]  C=0.3, class_weight=None, max_iter=0.7, n_jobs=-1, solver=newton-cg, score=0.714, total=   0.0s\n",
      "[CV] C=0.3, class_weight=None, max_iter=0.7, n_jobs=-1, solver=newton-cg \n",
      "[CV]  C=0.3, class_weight=None, max_iter=0.7, n_jobs=-1, solver=newton-cg, score=0.771, total=   0.0s\n",
      "[CV] C=0.3, class_weight=None, max_iter=0.7, n_jobs=-1, solver=newton-cg \n",
      "[CV]  C=0.3, class_weight=None, max_iter=0.7, n_jobs=-1, solver=newton-cg, score=0.657, total=   0.0s\n",
      "[CV] C=0.3, class_weight=None, max_iter=0.7, n_jobs=-1, solver=newton-cg \n",
      "[CV]  C=0.3, class_weight=None, max_iter=0.7, n_jobs=-1, solver=newton-cg, score=0.737, total=   0.0s\n",
      "[CV] C=0.3, class_weight=None, max_iter=0.7, n_jobs=-1, solver=newton-cg \n",
      "[CV]  C=0.3, class_weight=None, max_iter=0.7, n_jobs=-1, solver=newton-cg, score=0.801, total=   0.0s\n",
      "[CV] C=0.3, class_weight=None, max_iter=0.7, n_jobs=-1, solver=newton-cg \n",
      "[CV]  C=0.3, class_weight=None, max_iter=0.7, n_jobs=-1, solver=newton-cg, score=0.673, total=   0.0s\n",
      "[CV] C=0.3, class_weight=None, max_iter=0.7, n_jobs=-1, solver=newton-cg \n",
      "[CV]  C=0.3, class_weight=None, max_iter=0.7, n_jobs=-1, solver=newton-cg, score=0.731, total=   0.0s\n",
      "[CV] C=0.3, class_weight=None, max_iter=0.7, n_jobs=-1, solver=newton-cg \n",
      "[CV]  C=0.3, class_weight=None, max_iter=0.7, n_jobs=-1, solver=newton-cg, score=0.768, total=   0.0s\n",
      "[CV] C=0.3, class_weight=None, max_iter=0.7, n_jobs=-1, solver=newton-cg \n",
      "[CV]  C=0.3, class_weight=None, max_iter=0.7, n_jobs=-1, solver=newton-cg, score=0.795, total=   0.0s\n",
      "[CV] C=0.3, class_weight=None, max_iter=0.7, n_jobs=-1, solver=liblinear \n",
      "[CV]  C=0.3, class_weight=None, max_iter=0.7, n_jobs=-1, solver=liblinear, score=0.616, total=   0.0s\n",
      "[CV] C=0.3, class_weight=None, max_iter=0.7, n_jobs=-1, solver=liblinear \n",
      "[CV]  C=0.3, class_weight=None, max_iter=0.7, n_jobs=-1, solver=liblinear, score=0.616, total=   0.0s\n",
      "[CV] C=0.3, class_weight=None, max_iter=0.7, n_jobs=-1, solver=liblinear \n",
      "[CV]  C=0.3, class_weight=None, max_iter=0.7, n_jobs=-1, solver=liblinear, score=0.616, total=   0.0s\n",
      "[CV] C=0.3, class_weight=None, max_iter=0.7, n_jobs=-1, solver=liblinear \n",
      "[CV]  C=0.3, class_weight=None, max_iter=0.7, n_jobs=-1, solver=liblinear, score=0.616, total=   0.0s\n",
      "[CV] C=0.3, class_weight=None, max_iter=0.7, n_jobs=-1, solver=liblinear \n",
      "[CV]  C=0.3, class_weight=None, max_iter=0.7, n_jobs=-1, solver=liblinear, score=0.616, total=   0.0s\n",
      "[CV] C=0.3, class_weight=None, max_iter=0.7, n_jobs=-1, solver=liblinear \n",
      "[CV]  C=0.3, class_weight=None, max_iter=0.7, n_jobs=-1, solver=liblinear, score=0.616, total=   0.0s\n",
      "[CV] C=0.3, class_weight=None, max_iter=0.7, n_jobs=-1, solver=liblinear \n",
      "[CV]  C=0.3, class_weight=None, max_iter=0.7, n_jobs=-1, solver=liblinear, score=0.616, total=   0.0s\n",
      "[CV] C=0.3, class_weight=None, max_iter=0.7, n_jobs=-1, solver=liblinear "
     ]
    },
    {
     "name": "stderr",
     "output_type": "stream",
     "text": [
      "C:\\ProgramData\\Anaconda3\\lib\\site-packages\\sklearn\\linear_model\\_logistic.py:1539: UserWarning: 'n_jobs' > 1 does not have any effect when 'solver' is set to 'liblinear'. Got 'n_jobs' = 4.\n",
      "  \" = {}.\".format(effective_n_jobs(self.n_jobs)))\n",
      "C:\\ProgramData\\Anaconda3\\lib\\site-packages\\sklearn\\linear_model\\_logistic.py:1539: UserWarning: 'n_jobs' > 1 does not have any effect when 'solver' is set to 'liblinear'. Got 'n_jobs' = 4.\n",
      "  \" = {}.\".format(effective_n_jobs(self.n_jobs)))\n",
      "C:\\ProgramData\\Anaconda3\\lib\\site-packages\\sklearn\\linear_model\\_logistic.py:1539: UserWarning: 'n_jobs' > 1 does not have any effect when 'solver' is set to 'liblinear'. Got 'n_jobs' = 4.\n",
      "  \" = {}.\".format(effective_n_jobs(self.n_jobs)))\n",
      "C:\\ProgramData\\Anaconda3\\lib\\site-packages\\sklearn\\linear_model\\_logistic.py:1539: UserWarning: 'n_jobs' > 1 does not have any effect when 'solver' is set to 'liblinear'. Got 'n_jobs' = 4.\n",
      "  \" = {}.\".format(effective_n_jobs(self.n_jobs)))\n",
      "C:\\ProgramData\\Anaconda3\\lib\\site-packages\\sklearn\\linear_model\\_logistic.py:1539: UserWarning: 'n_jobs' > 1 does not have any effect when 'solver' is set to 'liblinear'. Got 'n_jobs' = 4.\n",
      "  \" = {}.\".format(effective_n_jobs(self.n_jobs)))\n",
      "C:\\ProgramData\\Anaconda3\\lib\\site-packages\\sklearn\\linear_model\\_logistic.py:1539: UserWarning: 'n_jobs' > 1 does not have any effect when 'solver' is set to 'liblinear'. Got 'n_jobs' = 4.\n",
      "  \" = {}.\".format(effective_n_jobs(self.n_jobs)))\n",
      "C:\\ProgramData\\Anaconda3\\lib\\site-packages\\sklearn\\linear_model\\_logistic.py:1539: UserWarning: 'n_jobs' > 1 does not have any effect when 'solver' is set to 'liblinear'. Got 'n_jobs' = 4.\n",
      "  \" = {}.\".format(effective_n_jobs(self.n_jobs)))\n",
      "C:\\ProgramData\\Anaconda3\\lib\\site-packages\\sklearn\\linear_model\\_logistic.py:1539: UserWarning: 'n_jobs' > 1 does not have any effect when 'solver' is set to 'liblinear'. Got 'n_jobs' = 4.\n",
      "  \" = {}.\".format(effective_n_jobs(self.n_jobs)))\n",
      "C:\\ProgramData\\Anaconda3\\lib\\site-packages\\sklearn\\linear_model\\_logistic.py:1539: UserWarning: 'n_jobs' > 1 does not have any effect when 'solver' is set to 'liblinear'. Got 'n_jobs' = 4.\n",
      "  \" = {}.\".format(effective_n_jobs(self.n_jobs)))\n",
      "C:\\ProgramData\\Anaconda3\\lib\\site-packages\\sklearn\\utils\\optimize.py:212: ConvergenceWarning: newton-cg failed to converge. Increase the number of iterations.\n",
      "  \"number of iterations.\", ConvergenceWarning)\n",
      "C:\\ProgramData\\Anaconda3\\lib\\site-packages\\sklearn\\utils\\optimize.py:212: ConvergenceWarning: newton-cg failed to converge. Increase the number of iterations.\n",
      "  \"number of iterations.\", ConvergenceWarning)\n",
      "C:\\ProgramData\\Anaconda3\\lib\\site-packages\\sklearn\\utils\\optimize.py:212: ConvergenceWarning: newton-cg failed to converge. Increase the number of iterations.\n",
      "  \"number of iterations.\", ConvergenceWarning)\n",
      "C:\\ProgramData\\Anaconda3\\lib\\site-packages\\sklearn\\utils\\optimize.py:212: ConvergenceWarning: newton-cg failed to converge. Increase the number of iterations.\n",
      "  \"number of iterations.\", ConvergenceWarning)\n",
      "C:\\ProgramData\\Anaconda3\\lib\\site-packages\\sklearn\\utils\\optimize.py:212: ConvergenceWarning: newton-cg failed to converge. Increase the number of iterations.\n",
      "  \"number of iterations.\", ConvergenceWarning)\n",
      "C:\\ProgramData\\Anaconda3\\lib\\site-packages\\sklearn\\utils\\optimize.py:212: ConvergenceWarning: newton-cg failed to converge. Increase the number of iterations.\n",
      "  \"number of iterations.\", ConvergenceWarning)\n",
      "C:\\ProgramData\\Anaconda3\\lib\\site-packages\\sklearn\\utils\\optimize.py:212: ConvergenceWarning: newton-cg failed to converge. Increase the number of iterations.\n",
      "  \"number of iterations.\", ConvergenceWarning)\n",
      "C:\\ProgramData\\Anaconda3\\lib\\site-packages\\sklearn\\utils\\optimize.py:212: ConvergenceWarning: newton-cg failed to converge. Increase the number of iterations.\n",
      "  \"number of iterations.\", ConvergenceWarning)\n",
      "C:\\ProgramData\\Anaconda3\\lib\\site-packages\\sklearn\\utils\\optimize.py:212: ConvergenceWarning: newton-cg failed to converge. Increase the number of iterations.\n",
      "  \"number of iterations.\", ConvergenceWarning)\n"
     ]
    },
    {
     "name": "stdout",
     "output_type": "stream",
     "text": [
      "\n",
      "[CV]  C=0.3, class_weight=None, max_iter=0.7, n_jobs=-1, solver=liblinear, score=0.616, total=   0.0s\n",
      "[CV] C=0.3, class_weight=None, max_iter=0.7, n_jobs=-1, solver=liblinear \n",
      "[CV]  C=0.3, class_weight=None, max_iter=0.7, n_jobs=-1, solver=liblinear, score=0.616, total=   0.0s\n",
      "[CV] C=0.3, class_weight=None, max_iter=0.7, n_jobs=1, solver=newton-cg \n",
      "[CV]  C=0.3, class_weight=None, max_iter=0.7, n_jobs=1, solver=newton-cg, score=0.714, total=   0.0s\n",
      "[CV] C=0.3, class_weight=None, max_iter=0.7, n_jobs=1, solver=newton-cg \n",
      "[CV]  C=0.3, class_weight=None, max_iter=0.7, n_jobs=1, solver=newton-cg, score=0.771, total=   0.0s\n",
      "[CV] C=0.3, class_weight=None, max_iter=0.7, n_jobs=1, solver=newton-cg \n",
      "[CV]  C=0.3, class_weight=None, max_iter=0.7, n_jobs=1, solver=newton-cg, score=0.657, total=   0.0s\n",
      "[CV] C=0.3, class_weight=None, max_iter=0.7, n_jobs=1, solver=newton-cg \n",
      "[CV]  C=0.3, class_weight=None, max_iter=0.7, n_jobs=1, solver=newton-cg, score=0.737, total=   0.0s\n",
      "[CV] C=0.3, class_weight=None, max_iter=0.7, n_jobs=1, solver=newton-cg \n",
      "[CV]  C=0.3, class_weight=None, max_iter=0.7, n_jobs=1, solver=newton-cg, score=0.801, total=   0.0s\n",
      "[CV] C=0.3, class_weight=None, max_iter=0.7, n_jobs=1, solver=newton-cg \n",
      "[CV]  C=0.3, class_weight=None, max_iter=0.7, n_jobs=1, solver=newton-cg, score=0.673, total=   0.0s\n",
      "[CV] C=0.3, class_weight=None, max_iter=0.7, n_jobs=1, solver=newton-cg \n",
      "[CV]  C=0.3, class_weight=None, max_iter=0.7, n_jobs=1, solver=newton-cg, score=0.731, total=   0.0s\n",
      "[CV] C=0.3, class_weight=None, max_iter=0.7, n_jobs=1, solver=newton-cg \n",
      "[CV]  C=0.3, class_weight=None, max_iter=0.7, n_jobs=1, solver=newton-cg, score=0.768, total=   0.0s\n",
      "[CV] C=0.3, class_weight=None, max_iter=0.7, n_jobs=1, solver=newton-cg \n",
      "[CV]  C=0.3, class_weight=None, max_iter=0.7, n_jobs=1, solver=newton-cg, score=0.795, total=   0.0s\n",
      "[CV] C=0.3, class_weight=None, max_iter=0.7, n_jobs=1, solver=liblinear \n",
      "[CV]  C=0.3, class_weight=None, max_iter=0.7, n_jobs=1, solver=liblinear, score=0.616, total=   0.0s\n",
      "[CV] C=0.3, class_weight=None, max_iter=0.7, n_jobs=1, solver=liblinear \n",
      "[CV]  C=0.3, class_weight=None, max_iter=0.7, n_jobs=1, solver=liblinear, score=0.616, total=   0.0s\n",
      "[CV] C=0.3, class_weight=None, max_iter=0.7, n_jobs=1, solver=liblinear \n",
      "[CV]  C=0.3, class_weight=None, max_iter=0.7, n_jobs=1, solver=liblinear, score=0.616, total=   0.0s\n",
      "[CV] C=0.3, class_weight=None, max_iter=0.7, n_jobs=1, solver=liblinear \n",
      "[CV]  C=0.3, class_weight=None, max_iter=0.7, n_jobs=1, solver=liblinear, score=0.616, total=   0.0s\n",
      "[CV] C=0.3, class_weight=None, max_iter=0.7, n_jobs=1, solver=liblinear \n",
      "[CV]  C=0.3, class_weight=None, max_iter=0.7, n_jobs=1, solver=liblinear, score=0.616, total=   0.0s\n",
      "[CV] C=0.3, class_weight=None, max_iter=0.7, n_jobs=1, solver=liblinear \n",
      "[CV]  C=0.3, class_weight=None, max_iter=0.7, n_jobs=1, solver=liblinear, score=0.616, total=   0.0s\n",
      "[CV] C=0.3, class_weight=None, max_iter=0.7, n_jobs=1, solver=liblinear \n",
      "[CV]  C=0.3, class_weight=None, max_iter=0.7, n_jobs=1, solver=liblinear, score=0.616, total=   0.0s\n",
      "[CV] C=0.3, class_weight=None, max_iter=0.7, n_jobs=1, solver=liblinear \n",
      "[CV]  C=0.3, class_weight=None, max_iter=0.7, n_jobs=1, solver=liblinear, score=0.616, total=   0.0s\n",
      "[CV] C=0.3, class_weight=None, max_iter=0.7, n_jobs=1, solver=liblinear \n",
      "[CV]  C=0.3, class_weight=None, max_iter=0.7, n_jobs=1, solver=liblinear, score=0.616, total=   0.0s\n",
      "[CV] C=0.3, class_weight=None, max_iter=0.8, n_jobs=-1, solver=newton-cg \n",
      "[CV]  C=0.3, class_weight=None, max_iter=0.8, n_jobs=-1, solver=newton-cg, score=0.714, total=   0.0s\n",
      "[CV] C=0.3, class_weight=None, max_iter=0.8, n_jobs=-1, solver=newton-cg \n",
      "[CV]  C=0.3, class_weight=None, max_iter=0.8, n_jobs=-1, solver=newton-cg, score=0.771, total=   0.0s\n",
      "[CV] C=0.3, class_weight=None, max_iter=0.8, n_jobs=-1, solver=newton-cg \n",
      "[CV]  C=0.3, class_weight=None, max_iter=0.8, n_jobs=-1, solver=newton-cg, score=0.657, total=   0.0s\n",
      "[CV] C=0.3, class_weight=None, max_iter=0.8, n_jobs=-1, solver=newton-cg \n",
      "[CV]  C=0.3, class_weight=None, max_iter=0.8, n_jobs=-1, solver=newton-cg, score=0.737, total=   0.0s\n",
      "[CV] C=0.3, class_weight=None, max_iter=0.8, n_jobs=-1, solver=newton-cg \n",
      "[CV]  C=0.3, class_weight=None, max_iter=0.8, n_jobs=-1, solver=newton-cg, score=0.801, total=   0.0s\n",
      "[CV] C=0.3, class_weight=None, max_iter=0.8, n_jobs=-1, solver=newton-cg \n",
      "[CV]  C=0.3, class_weight=None, max_iter=0.8, n_jobs=-1, solver=newton-cg, score=0.673, total=   0.0s\n",
      "[CV] C=0.3, class_weight=None, max_iter=0.8, n_jobs=-1, solver=newton-cg \n",
      "[CV]  C=0.3, class_weight=None, max_iter=0.8, n_jobs=-1, solver=newton-cg, score=0.731, total=   0.0s\n",
      "[CV] C=0.3, class_weight=None, max_iter=0.8, n_jobs=-1, solver=newton-cg \n",
      "[CV]  C=0.3, class_weight=None, max_iter=0.8, n_jobs=-1, solver=newton-cg, score=0.768, total=   0.0s\n",
      "[CV] C=0.3, class_weight=None, max_iter=0.8, n_jobs=-1, solver=newton-cg \n",
      "[CV]  C=0.3, class_weight=None, max_iter=0.8, n_jobs=-1, solver=newton-cg, score=0.795, total=   0.0s\n",
      "[CV] C=0.3, class_weight=None, max_iter=0.8, n_jobs=-1, solver=liblinear \n",
      "[CV]  C=0.3, class_weight=None, max_iter=0.8, n_jobs=-1, solver=liblinear, score=0.616, total=   0.0s\n",
      "[CV] C=0.3, class_weight=None, max_iter=0.8, n_jobs=-1, solver=liblinear \n",
      "[CV]  C=0.3, class_weight=None, max_iter=0.8, n_jobs=-1, solver=liblinear, score=0.616, total=   0.0s\n",
      "[CV] C=0.3, class_weight=None, max_iter=0.8, n_jobs=-1, solver=liblinear \n",
      "[CV]  C=0.3, class_weight=None, max_iter=0.8, n_jobs=-1, solver=liblinear, score=0.616, total=   0.0s\n",
      "[CV] C=0.3, class_weight=None, max_iter=0.8, n_jobs=-1, solver=liblinear \n",
      "[CV]  C=0.3, class_weight=None, max_iter=0.8, n_jobs=-1, solver=liblinear, score=0.616, total=   0.0s\n",
      "[CV] C=0.3, class_weight=None, max_iter=0.8, n_jobs=-1, solver=liblinear \n",
      "[CV]  C=0.3, class_weight=None, max_iter=0.8, n_jobs=-1, solver=liblinear, score=0.616, total=   0.0s\n",
      "[CV] C=0.3, class_weight=None, max_iter=0.8, n_jobs=-1, solver=liblinear \n",
      "[CV]  C=0.3, class_weight=None, max_iter=0.8, n_jobs=-1, solver=liblinear, score=0.616, total=   0.0s\n",
      "[CV] C=0.3, class_weight=None, max_iter=0.8, n_jobs=-1, solver=liblinear \n",
      "[CV]  C=0.3, class_weight=None, max_iter=0.8, n_jobs=-1, solver=liblinear, score=0.616, total=   0.0s\n",
      "[CV] C=0.3, class_weight=None, max_iter=0.8, n_jobs=-1, solver=liblinear \n",
      "[CV]  C=0.3, class_weight=None, max_iter=0.8, n_jobs=-1, solver=liblinear, score=0.616, total=   0.0s\n",
      "[CV] C=0.3, class_weight=None, max_iter=0.8, n_jobs=-1, solver=liblinear \n",
      "[CV]  C=0.3, class_weight=None, max_iter=0.8, n_jobs=-1, solver=liblinear, score=0.616, total=   0.0s\n",
      "[CV] C=0.3, class_weight=None, max_iter=0.8, n_jobs=1, solver=newton-cg \n",
      "[CV]  C=0.3, class_weight=None, max_iter=0.8, n_jobs=1, solver=newton-cg, score=0.714, total=   0.0s\n",
      "[CV] C=0.3, class_weight=None, max_iter=0.8, n_jobs=1, solver=newton-cg \n",
      "[CV]  C=0.3, class_weight=None, max_iter=0.8, n_jobs=1, solver=newton-cg, score=0.771, total=   0.0s\n",
      "[CV] C=0.3, class_weight=None, max_iter=0.8, n_jobs=1, solver=newton-cg \n",
      "[CV]  C=0.3, class_weight=None, max_iter=0.8, n_jobs=1, solver=newton-cg, score=0.657, total=   0.0s\n",
      "[CV] C=0.3, class_weight=None, max_iter=0.8, n_jobs=1, solver=newton-cg \n",
      "[CV]  C=0.3, class_weight=None, max_iter=0.8, n_jobs=1, solver=newton-cg, score=0.737, total=   0.0s\n",
      "[CV] C=0.3, class_weight=None, max_iter=0.8, n_jobs=1, solver=newton-cg \n",
      "[CV]  C=0.3, class_weight=None, max_iter=0.8, n_jobs=1, solver=newton-cg, score=0.801, total=   0.0s\n",
      "[CV] C=0.3, class_weight=None, max_iter=0.8, n_jobs=1, solver=newton-cg \n",
      "[CV]  C=0.3, class_weight=None, max_iter=0.8, n_jobs=1, solver=newton-cg, score=0.673, total=   0.0s\n",
      "[CV] C=0.3, class_weight=None, max_iter=0.8, n_jobs=1, solver=newton-cg \n",
      "[CV]  C=0.3, class_weight=None, max_iter=0.8, n_jobs=1, solver=newton-cg, score=0.731, total=   0.0s\n",
      "[CV] C=0.3, class_weight=None, max_iter=0.8, n_jobs=1, solver=newton-cg \n"
     ]
    },
    {
     "name": "stderr",
     "output_type": "stream",
     "text": [
      "C:\\ProgramData\\Anaconda3\\lib\\site-packages\\sklearn\\linear_model\\_logistic.py:1539: UserWarning: 'n_jobs' > 1 does not have any effect when 'solver' is set to 'liblinear'. Got 'n_jobs' = 4.\n",
      "  \" = {}.\".format(effective_n_jobs(self.n_jobs)))\n",
      "C:\\ProgramData\\Anaconda3\\lib\\site-packages\\sklearn\\linear_model\\_logistic.py:1539: UserWarning: 'n_jobs' > 1 does not have any effect when 'solver' is set to 'liblinear'. Got 'n_jobs' = 4.\n",
      "  \" = {}.\".format(effective_n_jobs(self.n_jobs)))\n",
      "C:\\ProgramData\\Anaconda3\\lib\\site-packages\\sklearn\\linear_model\\_logistic.py:1539: UserWarning: 'n_jobs' > 1 does not have any effect when 'solver' is set to 'liblinear'. Got 'n_jobs' = 4.\n",
      "  \" = {}.\".format(effective_n_jobs(self.n_jobs)))\n",
      "C:\\ProgramData\\Anaconda3\\lib\\site-packages\\sklearn\\linear_model\\_logistic.py:1539: UserWarning: 'n_jobs' > 1 does not have any effect when 'solver' is set to 'liblinear'. Got 'n_jobs' = 4.\n",
      "  \" = {}.\".format(effective_n_jobs(self.n_jobs)))\n",
      "C:\\ProgramData\\Anaconda3\\lib\\site-packages\\sklearn\\linear_model\\_logistic.py:1539: UserWarning: 'n_jobs' > 1 does not have any effect when 'solver' is set to 'liblinear'. Got 'n_jobs' = 4.\n",
      "  \" = {}.\".format(effective_n_jobs(self.n_jobs)))\n",
      "C:\\ProgramData\\Anaconda3\\lib\\site-packages\\sklearn\\linear_model\\_logistic.py:1539: UserWarning: 'n_jobs' > 1 does not have any effect when 'solver' is set to 'liblinear'. Got 'n_jobs' = 4.\n",
      "  \" = {}.\".format(effective_n_jobs(self.n_jobs)))\n",
      "C:\\ProgramData\\Anaconda3\\lib\\site-packages\\sklearn\\linear_model\\_logistic.py:1539: UserWarning: 'n_jobs' > 1 does not have any effect when 'solver' is set to 'liblinear'. Got 'n_jobs' = 4.\n",
      "  \" = {}.\".format(effective_n_jobs(self.n_jobs)))\n",
      "C:\\ProgramData\\Anaconda3\\lib\\site-packages\\sklearn\\linear_model\\_logistic.py:1539: UserWarning: 'n_jobs' > 1 does not have any effect when 'solver' is set to 'liblinear'. Got 'n_jobs' = 4.\n",
      "  \" = {}.\".format(effective_n_jobs(self.n_jobs)))\n",
      "C:\\ProgramData\\Anaconda3\\lib\\site-packages\\sklearn\\linear_model\\_logistic.py:1539: UserWarning: 'n_jobs' > 1 does not have any effect when 'solver' is set to 'liblinear'. Got 'n_jobs' = 4.\n",
      "  \" = {}.\".format(effective_n_jobs(self.n_jobs)))\n",
      "C:\\ProgramData\\Anaconda3\\lib\\site-packages\\sklearn\\utils\\optimize.py:212: ConvergenceWarning: newton-cg failed to converge. Increase the number of iterations.\n",
      "  \"number of iterations.\", ConvergenceWarning)\n",
      "C:\\ProgramData\\Anaconda3\\lib\\site-packages\\sklearn\\utils\\optimize.py:212: ConvergenceWarning: newton-cg failed to converge. Increase the number of iterations.\n",
      "  \"number of iterations.\", ConvergenceWarning)\n",
      "C:\\ProgramData\\Anaconda3\\lib\\site-packages\\sklearn\\utils\\optimize.py:212: ConvergenceWarning: newton-cg failed to converge. Increase the number of iterations.\n",
      "  \"number of iterations.\", ConvergenceWarning)\n",
      "C:\\ProgramData\\Anaconda3\\lib\\site-packages\\sklearn\\utils\\optimize.py:212: ConvergenceWarning: newton-cg failed to converge. Increase the number of iterations.\n",
      "  \"number of iterations.\", ConvergenceWarning)\n",
      "C:\\ProgramData\\Anaconda3\\lib\\site-packages\\sklearn\\utils\\optimize.py:212: ConvergenceWarning: newton-cg failed to converge. Increase the number of iterations.\n",
      "  \"number of iterations.\", ConvergenceWarning)\n",
      "C:\\ProgramData\\Anaconda3\\lib\\site-packages\\sklearn\\utils\\optimize.py:212: ConvergenceWarning: newton-cg failed to converge. Increase the number of iterations.\n",
      "  \"number of iterations.\", ConvergenceWarning)\n",
      "C:\\ProgramData\\Anaconda3\\lib\\site-packages\\sklearn\\utils\\optimize.py:212: ConvergenceWarning: newton-cg failed to converge. Increase the number of iterations.\n",
      "  \"number of iterations.\", ConvergenceWarning)\n",
      "C:\\ProgramData\\Anaconda3\\lib\\site-packages\\sklearn\\utils\\optimize.py:212: ConvergenceWarning: newton-cg failed to converge. Increase the number of iterations.\n",
      "  \"number of iterations.\", ConvergenceWarning)\n",
      "C:\\ProgramData\\Anaconda3\\lib\\site-packages\\sklearn\\utils\\optimize.py:212: ConvergenceWarning: newton-cg failed to converge. Increase the number of iterations.\n",
      "  \"number of iterations.\", ConvergenceWarning)\n"
     ]
    },
    {
     "name": "stdout",
     "output_type": "stream",
     "text": [
      "[CV]  C=0.3, class_weight=None, max_iter=0.8, n_jobs=1, solver=newton-cg, score=0.768, total=   0.0s\n",
      "[CV] C=0.3, class_weight=None, max_iter=0.8, n_jobs=1, solver=newton-cg \n",
      "[CV]  C=0.3, class_weight=None, max_iter=0.8, n_jobs=1, solver=newton-cg, score=0.795, total=   0.0s\n",
      "[CV] C=0.3, class_weight=None, max_iter=0.8, n_jobs=1, solver=liblinear \n",
      "[CV]  C=0.3, class_weight=None, max_iter=0.8, n_jobs=1, solver=liblinear, score=0.616, total=   0.0s\n",
      "[CV] C=0.3, class_weight=None, max_iter=0.8, n_jobs=1, solver=liblinear \n",
      "[CV]  C=0.3, class_weight=None, max_iter=0.8, n_jobs=1, solver=liblinear, score=0.616, total=   0.0s\n",
      "[CV] C=0.3, class_weight=None, max_iter=0.8, n_jobs=1, solver=liblinear \n",
      "[CV]  C=0.3, class_weight=None, max_iter=0.8, n_jobs=1, solver=liblinear, score=0.616, total=   0.0s\n",
      "[CV] C=0.3, class_weight=None, max_iter=0.8, n_jobs=1, solver=liblinear \n",
      "[CV]  C=0.3, class_weight=None, max_iter=0.8, n_jobs=1, solver=liblinear, score=0.616, total=   0.0s\n",
      "[CV] C=0.3, class_weight=None, max_iter=0.8, n_jobs=1, solver=liblinear \n",
      "[CV]  C=0.3, class_weight=None, max_iter=0.8, n_jobs=1, solver=liblinear, score=0.616, total=   0.0s\n",
      "[CV] C=0.3, class_weight=None, max_iter=0.8, n_jobs=1, solver=liblinear \n",
      "[CV]  C=0.3, class_weight=None, max_iter=0.8, n_jobs=1, solver=liblinear, score=0.616, total=   0.0s\n",
      "[CV] C=0.3, class_weight=None, max_iter=0.8, n_jobs=1, solver=liblinear \n",
      "[CV]  C=0.3, class_weight=None, max_iter=0.8, n_jobs=1, solver=liblinear, score=0.616, total=   0.0s\n",
      "[CV] C=0.3, class_weight=None, max_iter=0.8, n_jobs=1, solver=liblinear \n",
      "[CV]  C=0.3, class_weight=None, max_iter=0.8, n_jobs=1, solver=liblinear, score=0.616, total=   0.0s\n",
      "[CV] C=0.3, class_weight=None, max_iter=0.8, n_jobs=1, solver=liblinear \n",
      "[CV]  C=0.3, class_weight=None, max_iter=0.8, n_jobs=1, solver=liblinear, score=0.616, total=   0.0s\n",
      "[CV] C=0.3, class_weight=None, max_iter=0.9, n_jobs=-1, solver=newton-cg \n",
      "[CV]  C=0.3, class_weight=None, max_iter=0.9, n_jobs=-1, solver=newton-cg, score=0.714, total=   0.0s\n",
      "[CV] C=0.3, class_weight=None, max_iter=0.9, n_jobs=-1, solver=newton-cg \n",
      "[CV]  C=0.3, class_weight=None, max_iter=0.9, n_jobs=-1, solver=newton-cg, score=0.771, total=   0.0s\n",
      "[CV] C=0.3, class_weight=None, max_iter=0.9, n_jobs=-1, solver=newton-cg \n",
      "[CV]  C=0.3, class_weight=None, max_iter=0.9, n_jobs=-1, solver=newton-cg, score=0.657, total=   0.0s\n",
      "[CV] C=0.3, class_weight=None, max_iter=0.9, n_jobs=-1, solver=newton-cg \n",
      "[CV]  C=0.3, class_weight=None, max_iter=0.9, n_jobs=-1, solver=newton-cg, score=0.737, total=   0.0s\n",
      "[CV] C=0.3, class_weight=None, max_iter=0.9, n_jobs=-1, solver=newton-cg \n",
      "[CV]  C=0.3, class_weight=None, max_iter=0.9, n_jobs=-1, solver=newton-cg, score=0.801, total=   0.0s\n",
      "[CV] C=0.3, class_weight=None, max_iter=0.9, n_jobs=-1, solver=newton-cg \n",
      "[CV]  C=0.3, class_weight=None, max_iter=0.9, n_jobs=-1, solver=newton-cg, score=0.673, total=   0.0s\n",
      "[CV] C=0.3, class_weight=None, max_iter=0.9, n_jobs=-1, solver=newton-cg \n",
      "[CV]  C=0.3, class_weight=None, max_iter=0.9, n_jobs=-1, solver=newton-cg, score=0.731, total=   0.0s\n",
      "[CV] C=0.3, class_weight=None, max_iter=0.9, n_jobs=-1, solver=newton-cg \n",
      "[CV]  C=0.3, class_weight=None, max_iter=0.9, n_jobs=-1, solver=newton-cg, score=0.768, total=   0.0s\n",
      "[CV] C=0.3, class_weight=None, max_iter=0.9, n_jobs=-1, solver=newton-cg \n",
      "[CV]  C=0.3, class_weight=None, max_iter=0.9, n_jobs=-1, solver=newton-cg, score=0.795, total=   0.0s\n",
      "[CV] C=0.3, class_weight=None, max_iter=0.9, n_jobs=-1, solver=liblinear \n",
      "[CV]  C=0.3, class_weight=None, max_iter=0.9, n_jobs=-1, solver=liblinear, score=0.616, total=   0.0s\n",
      "[CV] C=0.3, class_weight=None, max_iter=0.9, n_jobs=-1, solver=liblinear \n",
      "[CV]  C=0.3, class_weight=None, max_iter=0.9, n_jobs=-1, solver=liblinear, score=0.616, total=   0.0s\n",
      "[CV] C=0.3, class_weight=None, max_iter=0.9, n_jobs=-1, solver=liblinear \n",
      "[CV]  C=0.3, class_weight=None, max_iter=0.9, n_jobs=-1, solver=liblinear, score=0.616, total=   0.0s\n",
      "[CV] C=0.3, class_weight=None, max_iter=0.9, n_jobs=-1, solver=liblinear \n",
      "[CV]  C=0.3, class_weight=None, max_iter=0.9, n_jobs=-1, solver=liblinear, score=0.616, total=   0.0s\n",
      "[CV] C=0.3, class_weight=None, max_iter=0.9, n_jobs=-1, solver=liblinear \n",
      "[CV]  C=0.3, class_weight=None, max_iter=0.9, n_jobs=-1, solver=liblinear, score=0.616, total=   0.0s\n",
      "[CV] C=0.3, class_weight=None, max_iter=0.9, n_jobs=-1, solver=liblinear "
     ]
    },
    {
     "name": "stderr",
     "output_type": "stream",
     "text": [
      "C:\\ProgramData\\Anaconda3\\lib\\site-packages\\sklearn\\linear_model\\_logistic.py:1539: UserWarning: 'n_jobs' > 1 does not have any effect when 'solver' is set to 'liblinear'. Got 'n_jobs' = 4.\n",
      "  \" = {}.\".format(effective_n_jobs(self.n_jobs)))\n",
      "C:\\ProgramData\\Anaconda3\\lib\\site-packages\\sklearn\\linear_model\\_logistic.py:1539: UserWarning: 'n_jobs' > 1 does not have any effect when 'solver' is set to 'liblinear'. Got 'n_jobs' = 4.\n",
      "  \" = {}.\".format(effective_n_jobs(self.n_jobs)))\n",
      "C:\\ProgramData\\Anaconda3\\lib\\site-packages\\sklearn\\linear_model\\_logistic.py:1539: UserWarning: 'n_jobs' > 1 does not have any effect when 'solver' is set to 'liblinear'. Got 'n_jobs' = 4.\n",
      "  \" = {}.\".format(effective_n_jobs(self.n_jobs)))\n",
      "C:\\ProgramData\\Anaconda3\\lib\\site-packages\\sklearn\\linear_model\\_logistic.py:1539: UserWarning: 'n_jobs' > 1 does not have any effect when 'solver' is set to 'liblinear'. Got 'n_jobs' = 4.\n",
      "  \" = {}.\".format(effective_n_jobs(self.n_jobs)))\n",
      "C:\\ProgramData\\Anaconda3\\lib\\site-packages\\sklearn\\linear_model\\_logistic.py:1539: UserWarning: 'n_jobs' > 1 does not have any effect when 'solver' is set to 'liblinear'. Got 'n_jobs' = 4.\n",
      "  \" = {}.\".format(effective_n_jobs(self.n_jobs)))\n",
      "C:\\ProgramData\\Anaconda3\\lib\\site-packages\\sklearn\\linear_model\\_logistic.py:1539: UserWarning: 'n_jobs' > 1 does not have any effect when 'solver' is set to 'liblinear'. Got 'n_jobs' = 4.\n",
      "  \" = {}.\".format(effective_n_jobs(self.n_jobs)))\n",
      "C:\\ProgramData\\Anaconda3\\lib\\site-packages\\sklearn\\linear_model\\_logistic.py:1539: UserWarning: 'n_jobs' > 1 does not have any effect when 'solver' is set to 'liblinear'. Got 'n_jobs' = 4.\n",
      "  \" = {}.\".format(effective_n_jobs(self.n_jobs)))\n",
      "C:\\ProgramData\\Anaconda3\\lib\\site-packages\\sklearn\\linear_model\\_logistic.py:1539: UserWarning: 'n_jobs' > 1 does not have any effect when 'solver' is set to 'liblinear'. Got 'n_jobs' = 4.\n",
      "  \" = {}.\".format(effective_n_jobs(self.n_jobs)))\n",
      "C:\\ProgramData\\Anaconda3\\lib\\site-packages\\sklearn\\linear_model\\_logistic.py:1539: UserWarning: 'n_jobs' > 1 does not have any effect when 'solver' is set to 'liblinear'. Got 'n_jobs' = 4.\n",
      "  \" = {}.\".format(effective_n_jobs(self.n_jobs)))\n",
      "C:\\ProgramData\\Anaconda3\\lib\\site-packages\\sklearn\\utils\\optimize.py:212: ConvergenceWarning: newton-cg failed to converge. Increase the number of iterations.\n",
      "  \"number of iterations.\", ConvergenceWarning)\n",
      "C:\\ProgramData\\Anaconda3\\lib\\site-packages\\sklearn\\utils\\optimize.py:212: ConvergenceWarning: newton-cg failed to converge. Increase the number of iterations.\n",
      "  \"number of iterations.\", ConvergenceWarning)\n",
      "C:\\ProgramData\\Anaconda3\\lib\\site-packages\\sklearn\\utils\\optimize.py:212: ConvergenceWarning: newton-cg failed to converge. Increase the number of iterations.\n",
      "  \"number of iterations.\", ConvergenceWarning)\n",
      "C:\\ProgramData\\Anaconda3\\lib\\site-packages\\sklearn\\utils\\optimize.py:212: ConvergenceWarning: newton-cg failed to converge. Increase the number of iterations.\n",
      "  \"number of iterations.\", ConvergenceWarning)\n",
      "C:\\ProgramData\\Anaconda3\\lib\\site-packages\\sklearn\\utils\\optimize.py:212: ConvergenceWarning: newton-cg failed to converge. Increase the number of iterations.\n",
      "  \"number of iterations.\", ConvergenceWarning)\n",
      "C:\\ProgramData\\Anaconda3\\lib\\site-packages\\sklearn\\utils\\optimize.py:212: ConvergenceWarning: newton-cg failed to converge. Increase the number of iterations.\n",
      "  \"number of iterations.\", ConvergenceWarning)\n",
      "C:\\ProgramData\\Anaconda3\\lib\\site-packages\\sklearn\\utils\\optimize.py:212: ConvergenceWarning: newton-cg failed to converge. Increase the number of iterations.\n",
      "  \"number of iterations.\", ConvergenceWarning)\n",
      "C:\\ProgramData\\Anaconda3\\lib\\site-packages\\sklearn\\utils\\optimize.py:212: ConvergenceWarning: newton-cg failed to converge. Increase the number of iterations.\n",
      "  \"number of iterations.\", ConvergenceWarning)\n",
      "C:\\ProgramData\\Anaconda3\\lib\\site-packages\\sklearn\\utils\\optimize.py:212: ConvergenceWarning: newton-cg failed to converge. Increase the number of iterations.\n",
      "  \"number of iterations.\", ConvergenceWarning)\n"
     ]
    },
    {
     "name": "stdout",
     "output_type": "stream",
     "text": [
      "\n",
      "[CV]  C=0.3, class_weight=None, max_iter=0.9, n_jobs=-1, solver=liblinear, score=0.616, total=   0.0s\n",
      "[CV] C=0.3, class_weight=None, max_iter=0.9, n_jobs=-1, solver=liblinear \n",
      "[CV]  C=0.3, class_weight=None, max_iter=0.9, n_jobs=-1, solver=liblinear, score=0.616, total=   0.0s\n",
      "[CV] C=0.3, class_weight=None, max_iter=0.9, n_jobs=-1, solver=liblinear \n",
      "[CV]  C=0.3, class_weight=None, max_iter=0.9, n_jobs=-1, solver=liblinear, score=0.616, total=   0.0s\n",
      "[CV] C=0.3, class_weight=None, max_iter=0.9, n_jobs=-1, solver=liblinear \n",
      "[CV]  C=0.3, class_weight=None, max_iter=0.9, n_jobs=-1, solver=liblinear, score=0.616, total=   0.0s\n",
      "[CV] C=0.3, class_weight=None, max_iter=0.9, n_jobs=1, solver=newton-cg \n",
      "[CV]  C=0.3, class_weight=None, max_iter=0.9, n_jobs=1, solver=newton-cg, score=0.714, total=   0.0s\n",
      "[CV] C=0.3, class_weight=None, max_iter=0.9, n_jobs=1, solver=newton-cg \n",
      "[CV]  C=0.3, class_weight=None, max_iter=0.9, n_jobs=1, solver=newton-cg, score=0.771, total=   0.0s\n",
      "[CV] C=0.3, class_weight=None, max_iter=0.9, n_jobs=1, solver=newton-cg \n",
      "[CV]  C=0.3, class_weight=None, max_iter=0.9, n_jobs=1, solver=newton-cg, score=0.657, total=   0.0s\n",
      "[CV] C=0.3, class_weight=None, max_iter=0.9, n_jobs=1, solver=newton-cg \n",
      "[CV]  C=0.3, class_weight=None, max_iter=0.9, n_jobs=1, solver=newton-cg, score=0.737, total=   0.0s\n",
      "[CV] C=0.3, class_weight=None, max_iter=0.9, n_jobs=1, solver=newton-cg \n",
      "[CV]  C=0.3, class_weight=None, max_iter=0.9, n_jobs=1, solver=newton-cg, score=0.801, total=   0.0s\n",
      "[CV] C=0.3, class_weight=None, max_iter=0.9, n_jobs=1, solver=newton-cg \n",
      "[CV]  C=0.3, class_weight=None, max_iter=0.9, n_jobs=1, solver=newton-cg, score=0.673, total=   0.0s\n",
      "[CV] C=0.3, class_weight=None, max_iter=0.9, n_jobs=1, solver=newton-cg \n",
      "[CV]  C=0.3, class_weight=None, max_iter=0.9, n_jobs=1, solver=newton-cg, score=0.731, total=   0.0s\n",
      "[CV] C=0.3, class_weight=None, max_iter=0.9, n_jobs=1, solver=newton-cg \n",
      "[CV]  C=0.3, class_weight=None, max_iter=0.9, n_jobs=1, solver=newton-cg, score=0.768, total=   0.0s\n",
      "[CV] C=0.3, class_weight=None, max_iter=0.9, n_jobs=1, solver=newton-cg \n",
      "[CV]  C=0.3, class_weight=None, max_iter=0.9, n_jobs=1, solver=newton-cg, score=0.795, total=   0.0s\n",
      "[CV] C=0.3, class_weight=None, max_iter=0.9, n_jobs=1, solver=liblinear \n",
      "[CV]  C=0.3, class_weight=None, max_iter=0.9, n_jobs=1, solver=liblinear, score=0.616, total=   0.0s\n",
      "[CV] C=0.3, class_weight=None, max_iter=0.9, n_jobs=1, solver=liblinear \n",
      "[CV]  C=0.3, class_weight=None, max_iter=0.9, n_jobs=1, solver=liblinear, score=0.616, total=   0.0s\n",
      "[CV] C=0.3, class_weight=None, max_iter=0.9, n_jobs=1, solver=liblinear \n",
      "[CV]  C=0.3, class_weight=None, max_iter=0.9, n_jobs=1, solver=liblinear, score=0.616, total=   0.0s\n",
      "[CV] C=0.3, class_weight=None, max_iter=0.9, n_jobs=1, solver=liblinear \n",
      "[CV]  C=0.3, class_weight=None, max_iter=0.9, n_jobs=1, solver=liblinear, score=0.616, total=   0.0s\n",
      "[CV] C=0.3, class_weight=None, max_iter=0.9, n_jobs=1, solver=liblinear \n",
      "[CV]  C=0.3, class_weight=None, max_iter=0.9, n_jobs=1, solver=liblinear, score=0.616, total=   0.0s\n",
      "[CV] C=0.3, class_weight=None, max_iter=0.9, n_jobs=1, solver=liblinear \n",
      "[CV]  C=0.3, class_weight=None, max_iter=0.9, n_jobs=1, solver=liblinear, score=0.616, total=   0.0s\n",
      "[CV] C=0.3, class_weight=None, max_iter=0.9, n_jobs=1, solver=liblinear \n",
      "[CV]  C=0.3, class_weight=None, max_iter=0.9, n_jobs=1, solver=liblinear, score=0.616, total=   0.0s\n",
      "[CV] C=0.3, class_weight=None, max_iter=0.9, n_jobs=1, solver=liblinear \n",
      "[CV]  C=0.3, class_weight=None, max_iter=0.9, n_jobs=1, solver=liblinear, score=0.616, total=   0.0s\n",
      "[CV] C=0.3, class_weight=None, max_iter=0.9, n_jobs=1, solver=liblinear \n",
      "[CV]  C=0.3, class_weight=None, max_iter=0.9, n_jobs=1, solver=liblinear, score=0.616, total=   0.0s\n",
      "[CV] C=0.3, class_weight=None, max_iter=1, n_jobs=-1, solver=newton-cg \n",
      "[CV]  C=0.3, class_weight=None, max_iter=1, n_jobs=-1, solver=newton-cg, score=0.714, total=   0.0s\n",
      "[CV] C=0.3, class_weight=None, max_iter=1, n_jobs=-1, solver=newton-cg \n",
      "[CV]  C=0.3, class_weight=None, max_iter=1, n_jobs=-1, solver=newton-cg, score=0.771, total=   0.0s\n",
      "[CV] C=0.3, class_weight=None, max_iter=1, n_jobs=-1, solver=newton-cg \n",
      "[CV]  C=0.3, class_weight=None, max_iter=1, n_jobs=-1, solver=newton-cg, score=0.657, total=   0.0s\n",
      "[CV] C=0.3, class_weight=None, max_iter=1, n_jobs=-1, solver=newton-cg \n",
      "[CV]  C=0.3, class_weight=None, max_iter=1, n_jobs=-1, solver=newton-cg, score=0.737, total=   0.0s\n",
      "[CV] C=0.3, class_weight=None, max_iter=1, n_jobs=-1, solver=newton-cg \n",
      "[CV]  C=0.3, class_weight=None, max_iter=1, n_jobs=-1, solver=newton-cg, score=0.801, total=   0.0s\n",
      "[CV] C=0.3, class_weight=None, max_iter=1, n_jobs=-1, solver=newton-cg \n",
      "[CV]  C=0.3, class_weight=None, max_iter=1, n_jobs=-1, solver=newton-cg, score=0.673, total=   0.0s\n",
      "[CV] C=0.3, class_weight=None, max_iter=1, n_jobs=-1, solver=newton-cg \n",
      "[CV]  C=0.3, class_weight=None, max_iter=1, n_jobs=-1, solver=newton-cg, score=0.731, total=   0.0s\n",
      "[CV] C=0.3, class_weight=None, max_iter=1, n_jobs=-1, solver=newton-cg \n",
      "[CV]  C=0.3, class_weight=None, max_iter=1, n_jobs=-1, solver=newton-cg, score=0.768, total=   0.0s\n",
      "[CV] C=0.3, class_weight=None, max_iter=1, n_jobs=-1, solver=newton-cg \n",
      "[CV]  C=0.3, class_weight=None, max_iter=1, n_jobs=-1, solver=newton-cg, score=0.795, total=   0.0s\n",
      "[CV] C=0.3, class_weight=None, max_iter=1, n_jobs=-1, solver=liblinear \n",
      "[CV]  C=0.3, class_weight=None, max_iter=1, n_jobs=-1, solver=liblinear, score=0.808, total=   0.0s\n",
      "[CV] C=0.3, class_weight=None, max_iter=1, n_jobs=-1, solver=liblinear \n",
      "[CV]  C=0.3, class_weight=None, max_iter=1, n_jobs=-1, solver=liblinear, score=0.795, total=   0.0s\n",
      "[CV] C=0.3, class_weight=None, max_iter=1, n_jobs=-1, solver=liblinear \n",
      "[CV]  C=0.3, class_weight=None, max_iter=1, n_jobs=-1, solver=liblinear, score=0.835, total=   0.0s\n",
      "[CV] C=0.3, class_weight=None, max_iter=1, n_jobs=-1, solver=liblinear \n",
      "[CV]  C=0.3, class_weight=None, max_iter=1, n_jobs=-1, solver=liblinear, score=0.801, total=   0.0s\n",
      "[CV] C=0.3, class_weight=None, max_iter=1, n_jobs=-1, solver=liblinear \n",
      "[CV]  C=0.3, class_weight=None, max_iter=1, n_jobs=-1, solver=liblinear, score=0.798, total=   0.0s\n",
      "[CV] C=0.3, class_weight=None, max_iter=1, n_jobs=-1, solver=liblinear \n",
      "[CV]  C=0.3, class_weight=None, max_iter=1, n_jobs=-1, solver=liblinear, score=0.825, total=   0.0s\n",
      "[CV] C=0.3, class_weight=None, max_iter=1, n_jobs=-1, solver=liblinear \n",
      "[CV]  C=0.3, class_weight=None, max_iter=1, n_jobs=-1, solver=liblinear, score=0.788, total=   0.0s\n",
      "[CV] C=0.3, class_weight=None, max_iter=1, n_jobs=-1, solver=liblinear \n",
      "[CV]  C=0.3, class_weight=None, max_iter=1, n_jobs=-1, solver=liblinear, score=0.828, total=   0.0s\n",
      "[CV] C=0.3, class_weight=None, max_iter=1, n_jobs=-1, solver=liblinear \n",
      "[CV]  C=0.3, class_weight=None, max_iter=1, n_jobs=-1, solver=liblinear, score=0.825, total=   0.0s\n",
      "[CV] C=0.3, class_weight=None, max_iter=1, n_jobs=1, solver=newton-cg \n",
      "[CV]  C=0.3, class_weight=None, max_iter=1, n_jobs=1, solver=newton-cg, score=0.714, total=   0.0s\n",
      "[CV] C=0.3, class_weight=None, max_iter=1, n_jobs=1, solver=newton-cg \n",
      "[CV]  C=0.3, class_weight=None, max_iter=1, n_jobs=1, solver=newton-cg, score=0.771, total=   0.0s\n",
      "[CV] C=0.3, class_weight=None, max_iter=1, n_jobs=1, solver=newton-cg \n",
      "[CV]  C=0.3, class_weight=None, max_iter=1, n_jobs=1, solver=newton-cg, score=0.657, total=   0.0s\n",
      "[CV] C=0.3, class_weight=None, max_iter=1, n_jobs=1, solver=newton-cg \n",
      "[CV]  C=0.3, class_weight=None, max_iter=1, n_jobs=1, solver=newton-cg, score=0.737, total=   0.0s\n",
      "[CV] C=0.3, class_weight=None, max_iter=1, n_jobs=1, solver=newton-cg \n",
      "[CV]  C=0.3, class_weight=None, max_iter=1, n_jobs=1, solver=newton-cg, score=0.801, total=   0.0s\n",
      "[CV] C=0.3, class_weight=None, max_iter=1, n_jobs=1, solver=newton-cg \n",
      "[CV]  C=0.3, class_weight=None, max_iter=1, n_jobs=1, solver=newton-cg, score=0.673, total=   0.0s\n",
      "[CV] C=0.3, class_weight=None, max_iter=1, n_jobs=1, solver=newton-cg \n",
      "[CV]  C=0.3, class_weight=None, max_iter=1, n_jobs=1, solver=newton-cg, score=0.731, total=   0.0s\n",
      "[CV] C=0.3, class_weight=None, max_iter=1, n_jobs=1, solver=newton-cg \n",
      "[CV]  C=0.3, class_weight=None, max_iter=1, n_jobs=1, solver=newton-cg, score=0.768, total=   0.0s\n",
      "[CV] C=0.3, class_weight=None, max_iter=1, n_jobs=1, solver=newton-cg \n",
      "[CV]  C=0.3, class_weight=None, max_iter=1, n_jobs=1, solver=newton-cg, score=0.795, total=   0.0s\n",
      "[CV] C=0.3, class_weight=None, max_iter=1, n_jobs=1, solver=liblinear \n",
      "[CV]  C=0.3, class_weight=None, max_iter=1, n_jobs=1, solver=liblinear, score=0.808, total=   0.0s\n",
      "[CV] C=0.3, class_weight=None, max_iter=1, n_jobs=1, solver=liblinear \n",
      "[CV]  C=0.3, class_weight=None, max_iter=1, n_jobs=1, solver=liblinear, score=0.795, total=   0.0s\n",
      "[CV] C=0.3, class_weight=None, max_iter=1, n_jobs=1, solver=liblinear \n",
      "[CV]  C=0.3, class_weight=None, max_iter=1, n_jobs=1, solver=liblinear, score=0.835, total=   0.0s\n",
      "[CV] C=0.3, class_weight=None, max_iter=1, n_jobs=1, solver=liblinear \n",
      "[CV]  C=0.3, class_weight=None, max_iter=1, n_jobs=1, solver=liblinear, score=0.801, total=   0.0s\n",
      "[CV] C=0.3, class_weight=None, max_iter=1, n_jobs=1, solver=liblinear \n",
      "[CV]  C=0.3, class_weight=None, max_iter=1, n_jobs=1, solver=liblinear, score=0.798, total=   0.0s\n",
      "[CV] C=0.3, class_weight=None, max_iter=1, n_jobs=1, solver=liblinear \n",
      "[CV]  C=0.3, class_weight=None, max_iter=1, n_jobs=1, solver=liblinear, score=0.825, total=   0.0s\n",
      "[CV] C=0.3, class_weight=None, max_iter=1, n_jobs=1, solver=liblinear \n",
      "[CV]  C=0.3, class_weight=None, max_iter=1, n_jobs=1, solver=liblinear, score=0.788, total=   0.0s\n",
      "[CV] C=0.3, class_weight=None, max_iter=1, n_jobs=1, solver=liblinear \n",
      "[CV]  C=0.3, class_weight=None, max_iter=1, n_jobs=1, solver=liblinear, score=0.828, total=   0.0s"
     ]
    },
    {
     "name": "stderr",
     "output_type": "stream",
     "text": [
      "C:\\ProgramData\\Anaconda3\\lib\\site-packages\\sklearn\\linear_model\\_logistic.py:1539: UserWarning: 'n_jobs' > 1 does not have any effect when 'solver' is set to 'liblinear'. Got 'n_jobs' = 4.\n",
      "  \" = {}.\".format(effective_n_jobs(self.n_jobs)))\n",
      "C:\\ProgramData\\Anaconda3\\lib\\site-packages\\sklearn\\svm\\_base.py:947: ConvergenceWarning: Liblinear failed to converge, increase the number of iterations.\n",
      "  \"the number of iterations.\", ConvergenceWarning)\n",
      "C:\\ProgramData\\Anaconda3\\lib\\site-packages\\sklearn\\linear_model\\_logistic.py:1539: UserWarning: 'n_jobs' > 1 does not have any effect when 'solver' is set to 'liblinear'. Got 'n_jobs' = 4.\n",
      "  \" = {}.\".format(effective_n_jobs(self.n_jobs)))\n",
      "C:\\ProgramData\\Anaconda3\\lib\\site-packages\\sklearn\\svm\\_base.py:947: ConvergenceWarning: Liblinear failed to converge, increase the number of iterations.\n",
      "  \"the number of iterations.\", ConvergenceWarning)\n",
      "C:\\ProgramData\\Anaconda3\\lib\\site-packages\\sklearn\\linear_model\\_logistic.py:1539: UserWarning: 'n_jobs' > 1 does not have any effect when 'solver' is set to 'liblinear'. Got 'n_jobs' = 4.\n",
      "  \" = {}.\".format(effective_n_jobs(self.n_jobs)))\n",
      "C:\\ProgramData\\Anaconda3\\lib\\site-packages\\sklearn\\svm\\_base.py:947: ConvergenceWarning: Liblinear failed to converge, increase the number of iterations.\n",
      "  \"the number of iterations.\", ConvergenceWarning)\n",
      "C:\\ProgramData\\Anaconda3\\lib\\site-packages\\sklearn\\linear_model\\_logistic.py:1539: UserWarning: 'n_jobs' > 1 does not have any effect when 'solver' is set to 'liblinear'. Got 'n_jobs' = 4.\n",
      "  \" = {}.\".format(effective_n_jobs(self.n_jobs)))\n",
      "C:\\ProgramData\\Anaconda3\\lib\\site-packages\\sklearn\\svm\\_base.py:947: ConvergenceWarning: Liblinear failed to converge, increase the number of iterations.\n",
      "  \"the number of iterations.\", ConvergenceWarning)\n",
      "C:\\ProgramData\\Anaconda3\\lib\\site-packages\\sklearn\\linear_model\\_logistic.py:1539: UserWarning: 'n_jobs' > 1 does not have any effect when 'solver' is set to 'liblinear'. Got 'n_jobs' = 4.\n",
      "  \" = {}.\".format(effective_n_jobs(self.n_jobs)))\n",
      "C:\\ProgramData\\Anaconda3\\lib\\site-packages\\sklearn\\svm\\_base.py:947: ConvergenceWarning: Liblinear failed to converge, increase the number of iterations.\n",
      "  \"the number of iterations.\", ConvergenceWarning)\n",
      "C:\\ProgramData\\Anaconda3\\lib\\site-packages\\sklearn\\linear_model\\_logistic.py:1539: UserWarning: 'n_jobs' > 1 does not have any effect when 'solver' is set to 'liblinear'. Got 'n_jobs' = 4.\n",
      "  \" = {}.\".format(effective_n_jobs(self.n_jobs)))\n",
      "C:\\ProgramData\\Anaconda3\\lib\\site-packages\\sklearn\\svm\\_base.py:947: ConvergenceWarning: Liblinear failed to converge, increase the number of iterations.\n",
      "  \"the number of iterations.\", ConvergenceWarning)\n",
      "C:\\ProgramData\\Anaconda3\\lib\\site-packages\\sklearn\\linear_model\\_logistic.py:1539: UserWarning: 'n_jobs' > 1 does not have any effect when 'solver' is set to 'liblinear'. Got 'n_jobs' = 4.\n",
      "  \" = {}.\".format(effective_n_jobs(self.n_jobs)))\n",
      "C:\\ProgramData\\Anaconda3\\lib\\site-packages\\sklearn\\svm\\_base.py:947: ConvergenceWarning: Liblinear failed to converge, increase the number of iterations.\n",
      "  \"the number of iterations.\", ConvergenceWarning)\n",
      "C:\\ProgramData\\Anaconda3\\lib\\site-packages\\sklearn\\linear_model\\_logistic.py:1539: UserWarning: 'n_jobs' > 1 does not have any effect when 'solver' is set to 'liblinear'. Got 'n_jobs' = 4.\n",
      "  \" = {}.\".format(effective_n_jobs(self.n_jobs)))\n",
      "C:\\ProgramData\\Anaconda3\\lib\\site-packages\\sklearn\\svm\\_base.py:947: ConvergenceWarning: Liblinear failed to converge, increase the number of iterations.\n",
      "  \"the number of iterations.\", ConvergenceWarning)\n",
      "C:\\ProgramData\\Anaconda3\\lib\\site-packages\\sklearn\\linear_model\\_logistic.py:1539: UserWarning: 'n_jobs' > 1 does not have any effect when 'solver' is set to 'liblinear'. Got 'n_jobs' = 4.\n",
      "  \" = {}.\".format(effective_n_jobs(self.n_jobs)))\n",
      "C:\\ProgramData\\Anaconda3\\lib\\site-packages\\sklearn\\svm\\_base.py:947: ConvergenceWarning: Liblinear failed to converge, increase the number of iterations.\n",
      "  \"the number of iterations.\", ConvergenceWarning)\n",
      "C:\\ProgramData\\Anaconda3\\lib\\site-packages\\sklearn\\utils\\optimize.py:212: ConvergenceWarning: newton-cg failed to converge. Increase the number of iterations.\n",
      "  \"number of iterations.\", ConvergenceWarning)\n",
      "C:\\ProgramData\\Anaconda3\\lib\\site-packages\\sklearn\\utils\\optimize.py:212: ConvergenceWarning: newton-cg failed to converge. Increase the number of iterations.\n",
      "  \"number of iterations.\", ConvergenceWarning)\n",
      "C:\\ProgramData\\Anaconda3\\lib\\site-packages\\sklearn\\utils\\optimize.py:212: ConvergenceWarning: newton-cg failed to converge. Increase the number of iterations.\n",
      "  \"number of iterations.\", ConvergenceWarning)\n",
      "C:\\ProgramData\\Anaconda3\\lib\\site-packages\\sklearn\\utils\\optimize.py:212: ConvergenceWarning: newton-cg failed to converge. Increase the number of iterations.\n",
      "  \"number of iterations.\", ConvergenceWarning)\n",
      "C:\\ProgramData\\Anaconda3\\lib\\site-packages\\sklearn\\utils\\optimize.py:212: ConvergenceWarning: newton-cg failed to converge. Increase the number of iterations.\n",
      "  \"number of iterations.\", ConvergenceWarning)\n",
      "C:\\ProgramData\\Anaconda3\\lib\\site-packages\\sklearn\\utils\\optimize.py:212: ConvergenceWarning: newton-cg failed to converge. Increase the number of iterations.\n",
      "  \"number of iterations.\", ConvergenceWarning)\n",
      "C:\\ProgramData\\Anaconda3\\lib\\site-packages\\sklearn\\utils\\optimize.py:212: ConvergenceWarning: newton-cg failed to converge. Increase the number of iterations.\n",
      "  \"number of iterations.\", ConvergenceWarning)\n",
      "C:\\ProgramData\\Anaconda3\\lib\\site-packages\\sklearn\\utils\\optimize.py:212: ConvergenceWarning: newton-cg failed to converge. Increase the number of iterations.\n",
      "  \"number of iterations.\", ConvergenceWarning)\n",
      "C:\\ProgramData\\Anaconda3\\lib\\site-packages\\sklearn\\utils\\optimize.py:212: ConvergenceWarning: newton-cg failed to converge. Increase the number of iterations.\n",
      "  \"number of iterations.\", ConvergenceWarning)\n",
      "C:\\ProgramData\\Anaconda3\\lib\\site-packages\\sklearn\\svm\\_base.py:947: ConvergenceWarning: Liblinear failed to converge, increase the number of iterations.\n",
      "  \"the number of iterations.\", ConvergenceWarning)\n",
      "C:\\ProgramData\\Anaconda3\\lib\\site-packages\\sklearn\\svm\\_base.py:947: ConvergenceWarning: Liblinear failed to converge, increase the number of iterations.\n",
      "  \"the number of iterations.\", ConvergenceWarning)\n",
      "C:\\ProgramData\\Anaconda3\\lib\\site-packages\\sklearn\\svm\\_base.py:947: ConvergenceWarning: Liblinear failed to converge, increase the number of iterations.\n",
      "  \"the number of iterations.\", ConvergenceWarning)\n",
      "C:\\ProgramData\\Anaconda3\\lib\\site-packages\\sklearn\\svm\\_base.py:947: ConvergenceWarning: Liblinear failed to converge, increase the number of iterations.\n",
      "  \"the number of iterations.\", ConvergenceWarning)\n",
      "C:\\ProgramData\\Anaconda3\\lib\\site-packages\\sklearn\\svm\\_base.py:947: ConvergenceWarning: Liblinear failed to converge, increase the number of iterations.\n",
      "  \"the number of iterations.\", ConvergenceWarning)\n",
      "C:\\ProgramData\\Anaconda3\\lib\\site-packages\\sklearn\\svm\\_base.py:947: ConvergenceWarning: Liblinear failed to converge, increase the number of iterations.\n",
      "  \"the number of iterations.\", ConvergenceWarning)\n",
      "C:\\ProgramData\\Anaconda3\\lib\\site-packages\\sklearn\\svm\\_base.py:947: ConvergenceWarning: Liblinear failed to converge, increase the number of iterations.\n",
      "  \"the number of iterations.\", ConvergenceWarning)\n",
      "C:\\ProgramData\\Anaconda3\\lib\\site-packages\\sklearn\\svm\\_base.py:947: ConvergenceWarning: Liblinear failed to converge, increase the number of iterations.\n",
      "  \"the number of iterations.\", ConvergenceWarning)\n",
      "C:\\ProgramData\\Anaconda3\\lib\\site-packages\\sklearn\\svm\\_base.py:947: ConvergenceWarning: Liblinear failed to converge, increase the number of iterations.\n",
      "  \"the number of iterations.\", ConvergenceWarning)\n"
     ]
    },
    {
     "name": "stdout",
     "output_type": "stream",
     "text": [
      "\n",
      "[CV] C=0.3, class_weight=None, max_iter=1, n_jobs=1, solver=liblinear \n",
      "[CV]  C=0.3, class_weight=None, max_iter=1, n_jobs=1, solver=liblinear, score=0.825, total=   0.0s\n",
      "[CV] C=0.4, class_weight=None, max_iter=0.7, n_jobs=-1, solver=newton-cg \n",
      "[CV]  C=0.4, class_weight=None, max_iter=0.7, n_jobs=-1, solver=newton-cg, score=0.714, total=   0.0s\n",
      "[CV] C=0.4, class_weight=None, max_iter=0.7, n_jobs=-1, solver=newton-cg \n",
      "[CV]  C=0.4, class_weight=None, max_iter=0.7, n_jobs=-1, solver=newton-cg, score=0.774, total=   0.0s\n",
      "[CV] C=0.4, class_weight=None, max_iter=0.7, n_jobs=-1, solver=newton-cg \n",
      "[CV]  C=0.4, class_weight=None, max_iter=0.7, n_jobs=-1, solver=newton-cg, score=0.657, total=   0.0s\n",
      "[CV] C=0.4, class_weight=None, max_iter=0.7, n_jobs=-1, solver=newton-cg \n",
      "[CV]  C=0.4, class_weight=None, max_iter=0.7, n_jobs=-1, solver=newton-cg, score=0.737, total=   0.0s\n",
      "[CV] C=0.4, class_weight=None, max_iter=0.7, n_jobs=-1, solver=newton-cg \n",
      "[CV]  C=0.4, class_weight=None, max_iter=0.7, n_jobs=-1, solver=newton-cg, score=0.801, total=   0.0s\n",
      "[CV] C=0.4, class_weight=None, max_iter=0.7, n_jobs=-1, solver=newton-cg \n",
      "[CV]  C=0.4, class_weight=None, max_iter=0.7, n_jobs=-1, solver=newton-cg, score=0.737, total=   0.0s\n",
      "[CV] C=0.4, class_weight=None, max_iter=0.7, n_jobs=-1, solver=newton-cg \n",
      "[CV]  C=0.4, class_weight=None, max_iter=0.7, n_jobs=-1, solver=newton-cg, score=0.731, total=   0.0s\n",
      "[CV] C=0.4, class_weight=None, max_iter=0.7, n_jobs=-1, solver=newton-cg \n",
      "[CV]  C=0.4, class_weight=None, max_iter=0.7, n_jobs=-1, solver=newton-cg, score=0.768, total=   0.0s\n",
      "[CV] C=0.4, class_weight=None, max_iter=0.7, n_jobs=-1, solver=newton-cg \n",
      "[CV]  C=0.4, class_weight=None, max_iter=0.7, n_jobs=-1, solver=newton-cg, score=0.795, total=   0.0s\n",
      "[CV] C=0.4, class_weight=None, max_iter=0.7, n_jobs=-1, solver=liblinear \n",
      "[CV]  C=0.4, class_weight=None, max_iter=0.7, n_jobs=-1, solver=liblinear, score=0.616, total=   0.0s\n",
      "[CV] C=0.4, class_weight=None, max_iter=0.7, n_jobs=-1, solver=liblinear \n",
      "[CV]  C=0.4, class_weight=None, max_iter=0.7, n_jobs=-1, solver=liblinear, score=0.616, total=   0.0s\n",
      "[CV] C=0.4, class_weight=None, max_iter=0.7, n_jobs=-1, solver=liblinear \n",
      "[CV]  C=0.4, class_weight=None, max_iter=0.7, n_jobs=-1, solver=liblinear, score=0.616, total=   0.0s\n",
      "[CV] C=0.4, class_weight=None, max_iter=0.7, n_jobs=-1, solver=liblinear \n",
      "[CV]  C=0.4, class_weight=None, max_iter=0.7, n_jobs=-1, solver=liblinear, score=0.616, total=   0.0s\n",
      "[CV] C=0.4, class_weight=None, max_iter=0.7, n_jobs=-1, solver=liblinear \n",
      "[CV]  C=0.4, class_weight=None, max_iter=0.7, n_jobs=-1, solver=liblinear, score=0.616, total=   0.0s\n",
      "[CV] C=0.4, class_weight=None, max_iter=0.7, n_jobs=-1, solver=liblinear \n",
      "[CV]  C=0.4, class_weight=None, max_iter=0.7, n_jobs=-1, solver=liblinear, score=0.616, total=   0.0s\n",
      "[CV] C=0.4, class_weight=None, max_iter=0.7, n_jobs=-1, solver=liblinear \n",
      "[CV]  C=0.4, class_weight=None, max_iter=0.7, n_jobs=-1, solver=liblinear, score=0.616, total=   0.0s\n",
      "[CV] C=0.4, class_weight=None, max_iter=0.7, n_jobs=-1, solver=liblinear \n",
      "[CV]  C=0.4, class_weight=None, max_iter=0.7, n_jobs=-1, solver=liblinear, score=0.616, total=   0.0s\n",
      "[CV] C=0.4, class_weight=None, max_iter=0.7, n_jobs=-1, solver=liblinear \n",
      "[CV]  C=0.4, class_weight=None, max_iter=0.7, n_jobs=-1, solver=liblinear, score=0.616, total=   0.0s\n",
      "[CV] C=0.4, class_weight=None, max_iter=0.7, n_jobs=1, solver=newton-cg \n",
      "[CV]  C=0.4, class_weight=None, max_iter=0.7, n_jobs=1, solver=newton-cg, score=0.714, total=   0.0s\n",
      "[CV] C=0.4, class_weight=None, max_iter=0.7, n_jobs=1, solver=newton-cg \n",
      "[CV]  C=0.4, class_weight=None, max_iter=0.7, n_jobs=1, solver=newton-cg, score=0.774, total=   0.0s\n",
      "[CV] C=0.4, class_weight=None, max_iter=0.7, n_jobs=1, solver=newton-cg \n",
      "[CV]  C=0.4, class_weight=None, max_iter=0.7, n_jobs=1, solver=newton-cg, score=0.657, total=   0.0s\n",
      "[CV] C=0.4, class_weight=None, max_iter=0.7, n_jobs=1, solver=newton-cg \n",
      "[CV]  C=0.4, class_weight=None, max_iter=0.7, n_jobs=1, solver=newton-cg, score=0.737, total=   0.0s\n",
      "[CV] C=0.4, class_weight=None, max_iter=0.7, n_jobs=1, solver=newton-cg \n",
      "[CV]  C=0.4, class_weight=None, max_iter=0.7, n_jobs=1, solver=newton-cg, score=0.801, total=   0.0s\n",
      "[CV] C=0.4, class_weight=None, max_iter=0.7, n_jobs=1, solver=newton-cg \n",
      "[CV]  C=0.4, class_weight=None, max_iter=0.7, n_jobs=1, solver=newton-cg, score=0.737, total=   0.0s\n"
     ]
    },
    {
     "name": "stderr",
     "output_type": "stream",
     "text": [
      "C:\\ProgramData\\Anaconda3\\lib\\site-packages\\sklearn\\linear_model\\_logistic.py:1539: UserWarning: 'n_jobs' > 1 does not have any effect when 'solver' is set to 'liblinear'. Got 'n_jobs' = 4.\n",
      "  \" = {}.\".format(effective_n_jobs(self.n_jobs)))\n",
      "C:\\ProgramData\\Anaconda3\\lib\\site-packages\\sklearn\\linear_model\\_logistic.py:1539: UserWarning: 'n_jobs' > 1 does not have any effect when 'solver' is set to 'liblinear'. Got 'n_jobs' = 4.\n",
      "  \" = {}.\".format(effective_n_jobs(self.n_jobs)))\n",
      "C:\\ProgramData\\Anaconda3\\lib\\site-packages\\sklearn\\linear_model\\_logistic.py:1539: UserWarning: 'n_jobs' > 1 does not have any effect when 'solver' is set to 'liblinear'. Got 'n_jobs' = 4.\n",
      "  \" = {}.\".format(effective_n_jobs(self.n_jobs)))\n",
      "C:\\ProgramData\\Anaconda3\\lib\\site-packages\\sklearn\\linear_model\\_logistic.py:1539: UserWarning: 'n_jobs' > 1 does not have any effect when 'solver' is set to 'liblinear'. Got 'n_jobs' = 4.\n",
      "  \" = {}.\".format(effective_n_jobs(self.n_jobs)))\n",
      "C:\\ProgramData\\Anaconda3\\lib\\site-packages\\sklearn\\linear_model\\_logistic.py:1539: UserWarning: 'n_jobs' > 1 does not have any effect when 'solver' is set to 'liblinear'. Got 'n_jobs' = 4.\n",
      "  \" = {}.\".format(effective_n_jobs(self.n_jobs)))\n",
      "C:\\ProgramData\\Anaconda3\\lib\\site-packages\\sklearn\\linear_model\\_logistic.py:1539: UserWarning: 'n_jobs' > 1 does not have any effect when 'solver' is set to 'liblinear'. Got 'n_jobs' = 4.\n",
      "  \" = {}.\".format(effective_n_jobs(self.n_jobs)))\n",
      "C:\\ProgramData\\Anaconda3\\lib\\site-packages\\sklearn\\linear_model\\_logistic.py:1539: UserWarning: 'n_jobs' > 1 does not have any effect when 'solver' is set to 'liblinear'. Got 'n_jobs' = 4.\n",
      "  \" = {}.\".format(effective_n_jobs(self.n_jobs)))\n",
      "C:\\ProgramData\\Anaconda3\\lib\\site-packages\\sklearn\\linear_model\\_logistic.py:1539: UserWarning: 'n_jobs' > 1 does not have any effect when 'solver' is set to 'liblinear'. Got 'n_jobs' = 4.\n",
      "  \" = {}.\".format(effective_n_jobs(self.n_jobs)))\n",
      "C:\\ProgramData\\Anaconda3\\lib\\site-packages\\sklearn\\linear_model\\_logistic.py:1539: UserWarning: 'n_jobs' > 1 does not have any effect when 'solver' is set to 'liblinear'. Got 'n_jobs' = 4.\n",
      "  \" = {}.\".format(effective_n_jobs(self.n_jobs)))\n",
      "C:\\ProgramData\\Anaconda3\\lib\\site-packages\\sklearn\\utils\\optimize.py:212: ConvergenceWarning: newton-cg failed to converge. Increase the number of iterations.\n",
      "  \"number of iterations.\", ConvergenceWarning)\n",
      "C:\\ProgramData\\Anaconda3\\lib\\site-packages\\sklearn\\utils\\optimize.py:212: ConvergenceWarning: newton-cg failed to converge. Increase the number of iterations.\n",
      "  \"number of iterations.\", ConvergenceWarning)\n",
      "C:\\ProgramData\\Anaconda3\\lib\\site-packages\\sklearn\\utils\\optimize.py:212: ConvergenceWarning: newton-cg failed to converge. Increase the number of iterations.\n",
      "  \"number of iterations.\", ConvergenceWarning)\n",
      "C:\\ProgramData\\Anaconda3\\lib\\site-packages\\sklearn\\utils\\optimize.py:212: ConvergenceWarning: newton-cg failed to converge. Increase the number of iterations.\n",
      "  \"number of iterations.\", ConvergenceWarning)\n",
      "C:\\ProgramData\\Anaconda3\\lib\\site-packages\\sklearn\\utils\\optimize.py:212: ConvergenceWarning: newton-cg failed to converge. Increase the number of iterations.\n",
      "  \"number of iterations.\", ConvergenceWarning)\n",
      "C:\\ProgramData\\Anaconda3\\lib\\site-packages\\sklearn\\utils\\optimize.py:212: ConvergenceWarning: newton-cg failed to converge. Increase the number of iterations.\n",
      "  \"number of iterations.\", ConvergenceWarning)\n",
      "C:\\ProgramData\\Anaconda3\\lib\\site-packages\\sklearn\\utils\\optimize.py:212: ConvergenceWarning: newton-cg failed to converge. Increase the number of iterations.\n",
      "  \"number of iterations.\", ConvergenceWarning)\n",
      "C:\\ProgramData\\Anaconda3\\lib\\site-packages\\sklearn\\utils\\optimize.py:212: ConvergenceWarning: newton-cg failed to converge. Increase the number of iterations.\n",
      "  \"number of iterations.\", ConvergenceWarning)\n",
      "C:\\ProgramData\\Anaconda3\\lib\\site-packages\\sklearn\\utils\\optimize.py:212: ConvergenceWarning: newton-cg failed to converge. Increase the number of iterations.\n",
      "  \"number of iterations.\", ConvergenceWarning)\n"
     ]
    },
    {
     "name": "stdout",
     "output_type": "stream",
     "text": [
      "[CV] C=0.4, class_weight=None, max_iter=0.7, n_jobs=1, solver=newton-cg \n",
      "[CV]  C=0.4, class_weight=None, max_iter=0.7, n_jobs=1, solver=newton-cg, score=0.731, total=   0.0s\n",
      "[CV] C=0.4, class_weight=None, max_iter=0.7, n_jobs=1, solver=newton-cg \n",
      "[CV]  C=0.4, class_weight=None, max_iter=0.7, n_jobs=1, solver=newton-cg, score=0.768, total=   0.0s\n",
      "[CV] C=0.4, class_weight=None, max_iter=0.7, n_jobs=1, solver=newton-cg \n",
      "[CV]  C=0.4, class_weight=None, max_iter=0.7, n_jobs=1, solver=newton-cg, score=0.795, total=   0.0s\n",
      "[CV] C=0.4, class_weight=None, max_iter=0.7, n_jobs=1, solver=liblinear \n",
      "[CV]  C=0.4, class_weight=None, max_iter=0.7, n_jobs=1, solver=liblinear, score=0.616, total=   0.0s\n",
      "[CV] C=0.4, class_weight=None, max_iter=0.7, n_jobs=1, solver=liblinear \n",
      "[CV]  C=0.4, class_weight=None, max_iter=0.7, n_jobs=1, solver=liblinear, score=0.616, total=   0.0s\n",
      "[CV] C=0.4, class_weight=None, max_iter=0.7, n_jobs=1, solver=liblinear \n",
      "[CV]  C=0.4, class_weight=None, max_iter=0.7, n_jobs=1, solver=liblinear, score=0.616, total=   0.0s\n",
      "[CV] C=0.4, class_weight=None, max_iter=0.7, n_jobs=1, solver=liblinear \n",
      "[CV]  C=0.4, class_weight=None, max_iter=0.7, n_jobs=1, solver=liblinear, score=0.616, total=   0.0s\n",
      "[CV] C=0.4, class_weight=None, max_iter=0.7, n_jobs=1, solver=liblinear \n",
      "[CV]  C=0.4, class_weight=None, max_iter=0.7, n_jobs=1, solver=liblinear, score=0.616, total=   0.0s\n",
      "[CV] C=0.4, class_weight=None, max_iter=0.7, n_jobs=1, solver=liblinear \n",
      "[CV]  C=0.4, class_weight=None, max_iter=0.7, n_jobs=1, solver=liblinear, score=0.616, total=   0.0s\n",
      "[CV] C=0.4, class_weight=None, max_iter=0.7, n_jobs=1, solver=liblinear \n",
      "[CV]  C=0.4, class_weight=None, max_iter=0.7, n_jobs=1, solver=liblinear, score=0.616, total=   0.0s\n",
      "[CV] C=0.4, class_weight=None, max_iter=0.7, n_jobs=1, solver=liblinear \n",
      "[CV]  C=0.4, class_weight=None, max_iter=0.7, n_jobs=1, solver=liblinear, score=0.616, total=   0.0s\n",
      "[CV] C=0.4, class_weight=None, max_iter=0.7, n_jobs=1, solver=liblinear \n",
      "[CV]  C=0.4, class_weight=None, max_iter=0.7, n_jobs=1, solver=liblinear, score=0.616, total=   0.0s\n",
      "[CV] C=0.4, class_weight=None, max_iter=0.8, n_jobs=-1, solver=newton-cg \n",
      "[CV]  C=0.4, class_weight=None, max_iter=0.8, n_jobs=-1, solver=newton-cg, score=0.714, total=   0.0s\n",
      "[CV] C=0.4, class_weight=None, max_iter=0.8, n_jobs=-1, solver=newton-cg \n",
      "[CV]  C=0.4, class_weight=None, max_iter=0.8, n_jobs=-1, solver=newton-cg, score=0.774, total=   0.0s\n",
      "[CV] C=0.4, class_weight=None, max_iter=0.8, n_jobs=-1, solver=newton-cg \n",
      "[CV]  C=0.4, class_weight=None, max_iter=0.8, n_jobs=-1, solver=newton-cg, score=0.657, total=   0.0s\n",
      "[CV] C=0.4, class_weight=None, max_iter=0.8, n_jobs=-1, solver=newton-cg \n",
      "[CV]  C=0.4, class_weight=None, max_iter=0.8, n_jobs=-1, solver=newton-cg, score=0.737, total=   0.0s\n",
      "[CV] C=0.4, class_weight=None, max_iter=0.8, n_jobs=-1, solver=newton-cg \n",
      "[CV]  C=0.4, class_weight=None, max_iter=0.8, n_jobs=-1, solver=newton-cg, score=0.801, total=   0.0s\n",
      "[CV] C=0.4, class_weight=None, max_iter=0.8, n_jobs=-1, solver=newton-cg \n",
      "[CV]  C=0.4, class_weight=None, max_iter=0.8, n_jobs=-1, solver=newton-cg, score=0.737, total=   0.0s\n",
      "[CV] C=0.4, class_weight=None, max_iter=0.8, n_jobs=-1, solver=newton-cg \n",
      "[CV]  C=0.4, class_weight=None, max_iter=0.8, n_jobs=-1, solver=newton-cg, score=0.731, total=   0.0s\n",
      "[CV] C=0.4, class_weight=None, max_iter=0.8, n_jobs=-1, solver=newton-cg \n",
      "[CV]  C=0.4, class_weight=None, max_iter=0.8, n_jobs=-1, solver=newton-cg, score=0.768, total=   0.0s\n",
      "[CV] C=0.4, class_weight=None, max_iter=0.8, n_jobs=-1, solver=newton-cg \n",
      "[CV]  C=0.4, class_weight=None, max_iter=0.8, n_jobs=-1, solver=newton-cg, score=0.795, total=   0.0s\n",
      "[CV] C=0.4, class_weight=None, max_iter=0.8, n_jobs=-1, solver=liblinear \n",
      "[CV]  C=0.4, class_weight=None, max_iter=0.8, n_jobs=-1, solver=liblinear, score=0.616, total=   0.0s\n",
      "[CV] C=0.4, class_weight=None, max_iter=0.8, n_jobs=-1, solver=liblinear \n",
      "[CV]  C=0.4, class_weight=None, max_iter=0.8, n_jobs=-1, solver=liblinear, score=0.616, total=   0.0s\n",
      "[CV] C=0.4, class_weight=None, max_iter=0.8, n_jobs=-1, solver=liblinear \n",
      "[CV]  C=0.4, class_weight=None, max_iter=0.8, n_jobs=-1, solver=liblinear, score=0.616, total=   0.0s\n",
      "[CV] C=0.4, class_weight=None, max_iter=0.8, n_jobs=-1, solver=liblinear \n",
      "[CV]  C=0.4, class_weight=None, max_iter=0.8, n_jobs=-1, solver=liblinear, score=0.616, total=   0.0s\n",
      "[CV] C=0.4, class_weight=None, max_iter=0.8, n_jobs=-1, solver=liblinear \n",
      "[CV]  C=0.4, class_weight=None, max_iter=0.8, n_jobs=-1, solver=liblinear, score=0.616, total=   0.0s\n",
      "[CV] C=0.4, class_weight=None, max_iter=0.8, n_jobs=-1, solver=liblinear \n",
      "[CV]  C=0.4, class_weight=None, max_iter=0.8, n_jobs=-1, solver=liblinear, score=0.616, total=   0.0s"
     ]
    },
    {
     "name": "stderr",
     "output_type": "stream",
     "text": [
      "C:\\ProgramData\\Anaconda3\\lib\\site-packages\\sklearn\\linear_model\\_logistic.py:1539: UserWarning: 'n_jobs' > 1 does not have any effect when 'solver' is set to 'liblinear'. Got 'n_jobs' = 4.\n",
      "  \" = {}.\".format(effective_n_jobs(self.n_jobs)))\n",
      "C:\\ProgramData\\Anaconda3\\lib\\site-packages\\sklearn\\linear_model\\_logistic.py:1539: UserWarning: 'n_jobs' > 1 does not have any effect when 'solver' is set to 'liblinear'. Got 'n_jobs' = 4.\n",
      "  \" = {}.\".format(effective_n_jobs(self.n_jobs)))\n",
      "C:\\ProgramData\\Anaconda3\\lib\\site-packages\\sklearn\\linear_model\\_logistic.py:1539: UserWarning: 'n_jobs' > 1 does not have any effect when 'solver' is set to 'liblinear'. Got 'n_jobs' = 4.\n",
      "  \" = {}.\".format(effective_n_jobs(self.n_jobs)))\n",
      "C:\\ProgramData\\Anaconda3\\lib\\site-packages\\sklearn\\linear_model\\_logistic.py:1539: UserWarning: 'n_jobs' > 1 does not have any effect when 'solver' is set to 'liblinear'. Got 'n_jobs' = 4.\n",
      "  \" = {}.\".format(effective_n_jobs(self.n_jobs)))\n",
      "C:\\ProgramData\\Anaconda3\\lib\\site-packages\\sklearn\\linear_model\\_logistic.py:1539: UserWarning: 'n_jobs' > 1 does not have any effect when 'solver' is set to 'liblinear'. Got 'n_jobs' = 4.\n",
      "  \" = {}.\".format(effective_n_jobs(self.n_jobs)))\n",
      "C:\\ProgramData\\Anaconda3\\lib\\site-packages\\sklearn\\linear_model\\_logistic.py:1539: UserWarning: 'n_jobs' > 1 does not have any effect when 'solver' is set to 'liblinear'. Got 'n_jobs' = 4.\n",
      "  \" = {}.\".format(effective_n_jobs(self.n_jobs)))\n",
      "C:\\ProgramData\\Anaconda3\\lib\\site-packages\\sklearn\\linear_model\\_logistic.py:1539: UserWarning: 'n_jobs' > 1 does not have any effect when 'solver' is set to 'liblinear'. Got 'n_jobs' = 4.\n",
      "  \" = {}.\".format(effective_n_jobs(self.n_jobs)))\n",
      "C:\\ProgramData\\Anaconda3\\lib\\site-packages\\sklearn\\linear_model\\_logistic.py:1539: UserWarning: 'n_jobs' > 1 does not have any effect when 'solver' is set to 'liblinear'. Got 'n_jobs' = 4.\n",
      "  \" = {}.\".format(effective_n_jobs(self.n_jobs)))\n",
      "C:\\ProgramData\\Anaconda3\\lib\\site-packages\\sklearn\\linear_model\\_logistic.py:1539: UserWarning: 'n_jobs' > 1 does not have any effect when 'solver' is set to 'liblinear'. Got 'n_jobs' = 4.\n",
      "  \" = {}.\".format(effective_n_jobs(self.n_jobs)))\n",
      "C:\\ProgramData\\Anaconda3\\lib\\site-packages\\sklearn\\utils\\optimize.py:212: ConvergenceWarning: newton-cg failed to converge. Increase the number of iterations.\n",
      "  \"number of iterations.\", ConvergenceWarning)\n",
      "C:\\ProgramData\\Anaconda3\\lib\\site-packages\\sklearn\\utils\\optimize.py:212: ConvergenceWarning: newton-cg failed to converge. Increase the number of iterations.\n",
      "  \"number of iterations.\", ConvergenceWarning)\n",
      "C:\\ProgramData\\Anaconda3\\lib\\site-packages\\sklearn\\utils\\optimize.py:212: ConvergenceWarning: newton-cg failed to converge. Increase the number of iterations.\n",
      "  \"number of iterations.\", ConvergenceWarning)\n",
      "C:\\ProgramData\\Anaconda3\\lib\\site-packages\\sklearn\\utils\\optimize.py:212: ConvergenceWarning: newton-cg failed to converge. Increase the number of iterations.\n",
      "  \"number of iterations.\", ConvergenceWarning)\n",
      "C:\\ProgramData\\Anaconda3\\lib\\site-packages\\sklearn\\utils\\optimize.py:212: ConvergenceWarning: newton-cg failed to converge. Increase the number of iterations.\n",
      "  \"number of iterations.\", ConvergenceWarning)\n",
      "C:\\ProgramData\\Anaconda3\\lib\\site-packages\\sklearn\\utils\\optimize.py:212: ConvergenceWarning: newton-cg failed to converge. Increase the number of iterations.\n",
      "  \"number of iterations.\", ConvergenceWarning)\n",
      "C:\\ProgramData\\Anaconda3\\lib\\site-packages\\sklearn\\utils\\optimize.py:212: ConvergenceWarning: newton-cg failed to converge. Increase the number of iterations.\n",
      "  \"number of iterations.\", ConvergenceWarning)\n",
      "C:\\ProgramData\\Anaconda3\\lib\\site-packages\\sklearn\\utils\\optimize.py:212: ConvergenceWarning: newton-cg failed to converge. Increase the number of iterations.\n",
      "  \"number of iterations.\", ConvergenceWarning)\n",
      "C:\\ProgramData\\Anaconda3\\lib\\site-packages\\sklearn\\utils\\optimize.py:212: ConvergenceWarning: newton-cg failed to converge. Increase the number of iterations.\n",
      "  \"number of iterations.\", ConvergenceWarning)\n"
     ]
    },
    {
     "name": "stdout",
     "output_type": "stream",
     "text": [
      "\n",
      "[CV] C=0.4, class_weight=None, max_iter=0.8, n_jobs=-1, solver=liblinear \n",
      "[CV]  C=0.4, class_weight=None, max_iter=0.8, n_jobs=-1, solver=liblinear, score=0.616, total=   0.0s\n",
      "[CV] C=0.4, class_weight=None, max_iter=0.8, n_jobs=-1, solver=liblinear \n",
      "[CV]  C=0.4, class_weight=None, max_iter=0.8, n_jobs=-1, solver=liblinear, score=0.616, total=   0.0s\n",
      "[CV] C=0.4, class_weight=None, max_iter=0.8, n_jobs=-1, solver=liblinear \n",
      "[CV]  C=0.4, class_weight=None, max_iter=0.8, n_jobs=-1, solver=liblinear, score=0.616, total=   0.0s\n",
      "[CV] C=0.4, class_weight=None, max_iter=0.8, n_jobs=1, solver=newton-cg \n",
      "[CV]  C=0.4, class_weight=None, max_iter=0.8, n_jobs=1, solver=newton-cg, score=0.714, total=   0.0s\n",
      "[CV] C=0.4, class_weight=None, max_iter=0.8, n_jobs=1, solver=newton-cg \n",
      "[CV]  C=0.4, class_weight=None, max_iter=0.8, n_jobs=1, solver=newton-cg, score=0.774, total=   0.0s\n",
      "[CV] C=0.4, class_weight=None, max_iter=0.8, n_jobs=1, solver=newton-cg \n",
      "[CV]  C=0.4, class_weight=None, max_iter=0.8, n_jobs=1, solver=newton-cg, score=0.657, total=   0.0s\n",
      "[CV] C=0.4, class_weight=None, max_iter=0.8, n_jobs=1, solver=newton-cg \n",
      "[CV]  C=0.4, class_weight=None, max_iter=0.8, n_jobs=1, solver=newton-cg, score=0.737, total=   0.0s\n",
      "[CV] C=0.4, class_weight=None, max_iter=0.8, n_jobs=1, solver=newton-cg \n",
      "[CV]  C=0.4, class_weight=None, max_iter=0.8, n_jobs=1, solver=newton-cg, score=0.801, total=   0.0s\n",
      "[CV] C=0.4, class_weight=None, max_iter=0.8, n_jobs=1, solver=newton-cg \n",
      "[CV]  C=0.4, class_weight=None, max_iter=0.8, n_jobs=1, solver=newton-cg, score=0.737, total=   0.0s\n",
      "[CV] C=0.4, class_weight=None, max_iter=0.8, n_jobs=1, solver=newton-cg \n",
      "[CV]  C=0.4, class_weight=None, max_iter=0.8, n_jobs=1, solver=newton-cg, score=0.731, total=   0.0s\n",
      "[CV] C=0.4, class_weight=None, max_iter=0.8, n_jobs=1, solver=newton-cg \n",
      "[CV]  C=0.4, class_weight=None, max_iter=0.8, n_jobs=1, solver=newton-cg, score=0.768, total=   0.0s\n",
      "[CV] C=0.4, class_weight=None, max_iter=0.8, n_jobs=1, solver=newton-cg \n",
      "[CV]  C=0.4, class_weight=None, max_iter=0.8, n_jobs=1, solver=newton-cg, score=0.795, total=   0.0s\n",
      "[CV] C=0.4, class_weight=None, max_iter=0.8, n_jobs=1, solver=liblinear \n",
      "[CV]  C=0.4, class_weight=None, max_iter=0.8, n_jobs=1, solver=liblinear, score=0.616, total=   0.0s\n",
      "[CV] C=0.4, class_weight=None, max_iter=0.8, n_jobs=1, solver=liblinear \n",
      "[CV]  C=0.4, class_weight=None, max_iter=0.8, n_jobs=1, solver=liblinear, score=0.616, total=   0.0s\n",
      "[CV] C=0.4, class_weight=None, max_iter=0.8, n_jobs=1, solver=liblinear \n",
      "[CV]  C=0.4, class_weight=None, max_iter=0.8, n_jobs=1, solver=liblinear, score=0.616, total=   0.0s\n",
      "[CV] C=0.4, class_weight=None, max_iter=0.8, n_jobs=1, solver=liblinear \n",
      "[CV]  C=0.4, class_weight=None, max_iter=0.8, n_jobs=1, solver=liblinear, score=0.616, total=   0.0s\n",
      "[CV] C=0.4, class_weight=None, max_iter=0.8, n_jobs=1, solver=liblinear \n",
      "[CV]  C=0.4, class_weight=None, max_iter=0.8, n_jobs=1, solver=liblinear, score=0.616, total=   0.0s\n",
      "[CV] C=0.4, class_weight=None, max_iter=0.8, n_jobs=1, solver=liblinear \n",
      "[CV]  C=0.4, class_weight=None, max_iter=0.8, n_jobs=1, solver=liblinear, score=0.616, total=   0.0s\n",
      "[CV] C=0.4, class_weight=None, max_iter=0.8, n_jobs=1, solver=liblinear \n",
      "[CV]  C=0.4, class_weight=None, max_iter=0.8, n_jobs=1, solver=liblinear, score=0.616, total=   0.0s\n",
      "[CV] C=0.4, class_weight=None, max_iter=0.8, n_jobs=1, solver=liblinear \n",
      "[CV]  C=0.4, class_weight=None, max_iter=0.8, n_jobs=1, solver=liblinear, score=0.616, total=   0.0s\n",
      "[CV] C=0.4, class_weight=None, max_iter=0.8, n_jobs=1, solver=liblinear \n",
      "[CV]  C=0.4, class_weight=None, max_iter=0.8, n_jobs=1, solver=liblinear, score=0.616, total=   0.0s\n",
      "[CV] C=0.4, class_weight=None, max_iter=0.9, n_jobs=-1, solver=newton-cg \n",
      "[CV]  C=0.4, class_weight=None, max_iter=0.9, n_jobs=-1, solver=newton-cg, score=0.714, total=   0.0s\n",
      "[CV] C=0.4, class_weight=None, max_iter=0.9, n_jobs=-1, solver=newton-cg \n",
      "[CV]  C=0.4, class_weight=None, max_iter=0.9, n_jobs=-1, solver=newton-cg, score=0.774, total=   0.0s\n",
      "[CV] C=0.4, class_weight=None, max_iter=0.9, n_jobs=-1, solver=newton-cg \n",
      "[CV]  C=0.4, class_weight=None, max_iter=0.9, n_jobs=-1, solver=newton-cg, score=0.657, total=   0.0s\n",
      "[CV] C=0.4, class_weight=None, max_iter=0.9, n_jobs=-1, solver=newton-cg \n",
      "[CV]  C=0.4, class_weight=None, max_iter=0.9, n_jobs=-1, solver=newton-cg, score=0.737, total=   0.0s\n",
      "[CV] C=0.4, class_weight=None, max_iter=0.9, n_jobs=-1, solver=newton-cg \n",
      "[CV]  C=0.4, class_weight=None, max_iter=0.9, n_jobs=-1, solver=newton-cg, score=0.801, total=   0.0s\n",
      "[CV] C=0.4, class_weight=None, max_iter=0.9, n_jobs=-1, solver=newton-cg \n",
      "[CV]  C=0.4, class_weight=None, max_iter=0.9, n_jobs=-1, solver=newton-cg, score=0.737, total=   0.0s\n",
      "[CV] C=0.4, class_weight=None, max_iter=0.9, n_jobs=-1, solver=newton-cg \n",
      "[CV]  C=0.4, class_weight=None, max_iter=0.9, n_jobs=-1, solver=newton-cg, score=0.731, total=   0.0s\n",
      "[CV] C=0.4, class_weight=None, max_iter=0.9, n_jobs=-1, solver=newton-cg \n",
      "[CV]  C=0.4, class_weight=None, max_iter=0.9, n_jobs=-1, solver=newton-cg, score=0.768, total=   0.0s\n",
      "[CV] C=0.4, class_weight=None, max_iter=0.9, n_jobs=-1, solver=newton-cg \n",
      "[CV]  C=0.4, class_weight=None, max_iter=0.9, n_jobs=-1, solver=newton-cg, score=0.795, total=   0.0s\n",
      "[CV] C=0.4, class_weight=None, max_iter=0.9, n_jobs=-1, solver=liblinear \n",
      "[CV]  C=0.4, class_weight=None, max_iter=0.9, n_jobs=-1, solver=liblinear, score=0.616, total=   0.0s\n",
      "[CV] C=0.4, class_weight=None, max_iter=0.9, n_jobs=-1, solver=liblinear \n",
      "[CV]  C=0.4, class_weight=None, max_iter=0.9, n_jobs=-1, solver=liblinear, score=0.616, total=   0.0s\n",
      "[CV] C=0.4, class_weight=None, max_iter=0.9, n_jobs=-1, solver=liblinear \n",
      "[CV]  C=0.4, class_weight=None, max_iter=0.9, n_jobs=-1, solver=liblinear, score=0.616, total=   0.0s\n",
      "[CV] C=0.4, class_weight=None, max_iter=0.9, n_jobs=-1, solver=liblinear \n",
      "[CV]  C=0.4, class_weight=None, max_iter=0.9, n_jobs=-1, solver=liblinear, score=0.616, total=   0.0s\n",
      "[CV] C=0.4, class_weight=None, max_iter=0.9, n_jobs=-1, solver=liblinear \n",
      "[CV]  C=0.4, class_weight=None, max_iter=0.9, n_jobs=-1, solver=liblinear, score=0.616, total=   0.0s\n",
      "[CV] C=0.4, class_weight=None, max_iter=0.9, n_jobs=-1, solver=liblinear \n",
      "[CV]  C=0.4, class_weight=None, max_iter=0.9, n_jobs=-1, solver=liblinear, score=0.616, total=   0.0s\n",
      "[CV] C=0.4, class_weight=None, max_iter=0.9, n_jobs=-1, solver=liblinear \n",
      "[CV]  C=0.4, class_weight=None, max_iter=0.9, n_jobs=-1, solver=liblinear, score=0.616, total=   0.0s\n",
      "[CV] C=0.4, class_weight=None, max_iter=0.9, n_jobs=-1, solver=liblinear \n",
      "[CV]  C=0.4, class_weight=None, max_iter=0.9, n_jobs=-1, solver=liblinear, score=0.616, total=   0.0s\n",
      "[CV] C=0.4, class_weight=None, max_iter=0.9, n_jobs=-1, solver=liblinear \n",
      "[CV]  C=0.4, class_weight=None, max_iter=0.9, n_jobs=-1, solver=liblinear, score=0.616, total=   0.0s\n",
      "[CV] C=0.4, class_weight=None, max_iter=0.9, n_jobs=1, solver=newton-cg \n",
      "[CV]  C=0.4, class_weight=None, max_iter=0.9, n_jobs=1, solver=newton-cg, score=0.714, total=   0.0s\n",
      "[CV] C=0.4, class_weight=None, max_iter=0.9, n_jobs=1, solver=newton-cg \n",
      "[CV]  C=0.4, class_weight=None, max_iter=0.9, n_jobs=1, solver=newton-cg, score=0.774, total=   0.0s\n",
      "[CV] C=0.4, class_weight=None, max_iter=0.9, n_jobs=1, solver=newton-cg \n",
      "[CV]  C=0.4, class_weight=None, max_iter=0.9, n_jobs=1, solver=newton-cg, score=0.657, total=   0.0s\n",
      "[CV] C=0.4, class_weight=None, max_iter=0.9, n_jobs=1, solver=newton-cg \n",
      "[CV]  C=0.4, class_weight=None, max_iter=0.9, n_jobs=1, solver=newton-cg, score=0.737, total=   0.0s\n",
      "[CV] C=0.4, class_weight=None, max_iter=0.9, n_jobs=1, solver=newton-cg \n",
      "[CV]  C=0.4, class_weight=None, max_iter=0.9, n_jobs=1, solver=newton-cg, score=0.801, total=   0.0s\n",
      "[CV] C=0.4, class_weight=None, max_iter=0.9, n_jobs=1, solver=newton-cg \n",
      "[CV]  C=0.4, class_weight=None, max_iter=0.9, n_jobs=1, solver=newton-cg, score=0.737, total=   0.0s\n",
      "[CV] C=0.4, class_weight=None, max_iter=0.9, n_jobs=1, solver=newton-cg \n",
      "[CV]  C=0.4, class_weight=None, max_iter=0.9, n_jobs=1, solver=newton-cg, score=0.731, total=   0.0s\n",
      "[CV] C=0.4, class_weight=None, max_iter=0.9, n_jobs=1, solver=newton-cg \n",
      "[CV]  C=0.4, class_weight=None, max_iter=0.9, n_jobs=1, solver=newton-cg, score=0.768, total=   0.0s\n",
      "[CV] C=0.4, class_weight=None, max_iter=0.9, n_jobs=1, solver=newton-cg \n",
      "[CV]  C=0.4, class_weight=None, max_iter=0.9, n_jobs=1, solver=newton-cg, score=0.795, total=   0.0s\n",
      "[CV] C=0.4, class_weight=None, max_iter=0.9, n_jobs=1, solver=liblinear \n",
      "[CV]  C=0.4, class_weight=None, max_iter=0.9, n_jobs=1, solver=liblinear, score=0.616, total=   0.0s\n",
      "[CV] C=0.4, class_weight=None, max_iter=0.9, n_jobs=1, solver=liblinear \n",
      "[CV]  C=0.4, class_weight=None, max_iter=0.9, n_jobs=1, solver=liblinear, score=0.616, total=   0.0s\n",
      "[CV] C=0.4, class_weight=None, max_iter=0.9, n_jobs=1, solver=liblinear \n",
      "[CV]  C=0.4, class_weight=None, max_iter=0.9, n_jobs=1, solver=liblinear, score=0.616, total=   0.0s\n",
      "[CV] C=0.4, class_weight=None, max_iter=0.9, n_jobs=1, solver=liblinear \n",
      "[CV]  C=0.4, class_weight=None, max_iter=0.9, n_jobs=1, solver=liblinear, score=0.616, total=   0.0s\n",
      "[CV] C=0.4, class_weight=None, max_iter=0.9, n_jobs=1, solver=liblinear \n",
      "[CV]  C=0.4, class_weight=None, max_iter=0.9, n_jobs=1, solver=liblinear, score=0.616, total=   0.0s\n",
      "[CV] C=0.4, class_weight=None, max_iter=0.9, n_jobs=1, solver=liblinear \n",
      "[CV]  C=0.4, class_weight=None, max_iter=0.9, n_jobs=1, solver=liblinear, score=0.616, total=   0.0s\n",
      "[CV] C=0.4, class_weight=None, max_iter=0.9, n_jobs=1, solver=liblinear \n",
      "[CV]  C=0.4, class_weight=None, max_iter=0.9, n_jobs=1, solver=liblinear, score=0.616, total=   0.0s\n",
      "[CV] C=0.4, class_weight=None, max_iter=0.9, n_jobs=1, solver=liblinear \n",
      "[CV]  C=0.4, class_weight=None, max_iter=0.9, n_jobs=1, solver=liblinear, score=0.616, total=   0.0s\n",
      "[CV] C=0.4, class_weight=None, max_iter=0.9, n_jobs=1, solver=liblinear \n",
      "[CV]  C=0.4, class_weight=None, max_iter=0.9, n_jobs=1, solver=liblinear, score=0.616, total=   0.0s\n",
      "[CV] C=0.4, class_weight=None, max_iter=1, n_jobs=-1, solver=newton-cg \n",
      "[CV]  C=0.4, class_weight=None, max_iter=1, n_jobs=-1, solver=newton-cg, score=0.714, total=   0.0s\n",
      "[CV] C=0.4, class_weight=None, max_iter=1, n_jobs=-1, solver=newton-cg \n",
      "[CV]  C=0.4, class_weight=None, max_iter=1, n_jobs=-1, solver=newton-cg, score=0.774, total=   0.0s\n",
      "[CV] C=0.4, class_weight=None, max_iter=1, n_jobs=-1, solver=newton-cg \n",
      "[CV]  C=0.4, class_weight=None, max_iter=1, n_jobs=-1, solver=newton-cg, score=0.657, total=   0.0s\n",
      "[CV] C=0.4, class_weight=None, max_iter=1, n_jobs=-1, solver=newton-cg \n",
      "[CV]  C=0.4, class_weight=None, max_iter=1, n_jobs=-1, solver=newton-cg, score=0.737, total=   0.0s\n",
      "[CV] C=0.4, class_weight=None, max_iter=1, n_jobs=-1, solver=newton-cg \n",
      "[CV]  C=0.4, class_weight=None, max_iter=1, n_jobs=-1, solver=newton-cg, score=0.801, total=   0.0s\n",
      "[CV] C=0.4, class_weight=None, max_iter=1, n_jobs=-1, solver=newton-cg \n",
      "[CV]  C=0.4, class_weight=None, max_iter=1, n_jobs=-1, solver=newton-cg, score=0.737, total=   0.0s\n",
      "[CV] C=0.4, class_weight=None, max_iter=1, n_jobs=-1, solver=newton-cg \n",
      "[CV]  C=0.4, class_weight=None, max_iter=1, n_jobs=-1, solver=newton-cg, score=0.731, total=   0.0s\n",
      "[CV] C=0.4, class_weight=None, max_iter=1, n_jobs=-1, solver=newton-cg \n",
      "[CV]  C=0.4, class_weight=None, max_iter=1, n_jobs=-1, solver=newton-cg, score=0.768, total=   0.0s\n",
      "[CV] C=0.4, class_weight=None, max_iter=1, n_jobs=-1, solver=newton-cg \n",
      "[CV]  C=0.4, class_weight=None, max_iter=1, n_jobs=-1, solver=newton-cg, score=0.795, total=   0.0s"
     ]
    },
    {
     "name": "stderr",
     "output_type": "stream",
     "text": [
      "C:\\ProgramData\\Anaconda3\\lib\\site-packages\\sklearn\\linear_model\\_logistic.py:1539: UserWarning: 'n_jobs' > 1 does not have any effect when 'solver' is set to 'liblinear'. Got 'n_jobs' = 4.\n",
      "  \" = {}.\".format(effective_n_jobs(self.n_jobs)))\n",
      "C:\\ProgramData\\Anaconda3\\lib\\site-packages\\sklearn\\linear_model\\_logistic.py:1539: UserWarning: 'n_jobs' > 1 does not have any effect when 'solver' is set to 'liblinear'. Got 'n_jobs' = 4.\n",
      "  \" = {}.\".format(effective_n_jobs(self.n_jobs)))\n",
      "C:\\ProgramData\\Anaconda3\\lib\\site-packages\\sklearn\\linear_model\\_logistic.py:1539: UserWarning: 'n_jobs' > 1 does not have any effect when 'solver' is set to 'liblinear'. Got 'n_jobs' = 4.\n",
      "  \" = {}.\".format(effective_n_jobs(self.n_jobs)))\n",
      "C:\\ProgramData\\Anaconda3\\lib\\site-packages\\sklearn\\linear_model\\_logistic.py:1539: UserWarning: 'n_jobs' > 1 does not have any effect when 'solver' is set to 'liblinear'. Got 'n_jobs' = 4.\n",
      "  \" = {}.\".format(effective_n_jobs(self.n_jobs)))\n",
      "C:\\ProgramData\\Anaconda3\\lib\\site-packages\\sklearn\\linear_model\\_logistic.py:1539: UserWarning: 'n_jobs' > 1 does not have any effect when 'solver' is set to 'liblinear'. Got 'n_jobs' = 4.\n",
      "  \" = {}.\".format(effective_n_jobs(self.n_jobs)))\n",
      "C:\\ProgramData\\Anaconda3\\lib\\site-packages\\sklearn\\linear_model\\_logistic.py:1539: UserWarning: 'n_jobs' > 1 does not have any effect when 'solver' is set to 'liblinear'. Got 'n_jobs' = 4.\n",
      "  \" = {}.\".format(effective_n_jobs(self.n_jobs)))\n",
      "C:\\ProgramData\\Anaconda3\\lib\\site-packages\\sklearn\\linear_model\\_logistic.py:1539: UserWarning: 'n_jobs' > 1 does not have any effect when 'solver' is set to 'liblinear'. Got 'n_jobs' = 4.\n",
      "  \" = {}.\".format(effective_n_jobs(self.n_jobs)))\n",
      "C:\\ProgramData\\Anaconda3\\lib\\site-packages\\sklearn\\linear_model\\_logistic.py:1539: UserWarning: 'n_jobs' > 1 does not have any effect when 'solver' is set to 'liblinear'. Got 'n_jobs' = 4.\n",
      "  \" = {}.\".format(effective_n_jobs(self.n_jobs)))\n",
      "C:\\ProgramData\\Anaconda3\\lib\\site-packages\\sklearn\\linear_model\\_logistic.py:1539: UserWarning: 'n_jobs' > 1 does not have any effect when 'solver' is set to 'liblinear'. Got 'n_jobs' = 4.\n",
      "  \" = {}.\".format(effective_n_jobs(self.n_jobs)))\n",
      "C:\\ProgramData\\Anaconda3\\lib\\site-packages\\sklearn\\utils\\optimize.py:212: ConvergenceWarning: newton-cg failed to converge. Increase the number of iterations.\n",
      "  \"number of iterations.\", ConvergenceWarning)\n",
      "C:\\ProgramData\\Anaconda3\\lib\\site-packages\\sklearn\\utils\\optimize.py:212: ConvergenceWarning: newton-cg failed to converge. Increase the number of iterations.\n",
      "  \"number of iterations.\", ConvergenceWarning)\n",
      "C:\\ProgramData\\Anaconda3\\lib\\site-packages\\sklearn\\utils\\optimize.py:212: ConvergenceWarning: newton-cg failed to converge. Increase the number of iterations.\n",
      "  \"number of iterations.\", ConvergenceWarning)\n",
      "C:\\ProgramData\\Anaconda3\\lib\\site-packages\\sklearn\\utils\\optimize.py:212: ConvergenceWarning: newton-cg failed to converge. Increase the number of iterations.\n",
      "  \"number of iterations.\", ConvergenceWarning)\n",
      "C:\\ProgramData\\Anaconda3\\lib\\site-packages\\sklearn\\utils\\optimize.py:212: ConvergenceWarning: newton-cg failed to converge. Increase the number of iterations.\n",
      "  \"number of iterations.\", ConvergenceWarning)\n",
      "C:\\ProgramData\\Anaconda3\\lib\\site-packages\\sklearn\\utils\\optimize.py:212: ConvergenceWarning: newton-cg failed to converge. Increase the number of iterations.\n",
      "  \"number of iterations.\", ConvergenceWarning)\n",
      "C:\\ProgramData\\Anaconda3\\lib\\site-packages\\sklearn\\utils\\optimize.py:212: ConvergenceWarning: newton-cg failed to converge. Increase the number of iterations.\n",
      "  \"number of iterations.\", ConvergenceWarning)\n",
      "C:\\ProgramData\\Anaconda3\\lib\\site-packages\\sklearn\\utils\\optimize.py:212: ConvergenceWarning: newton-cg failed to converge. Increase the number of iterations.\n",
      "  \"number of iterations.\", ConvergenceWarning)\n",
      "C:\\ProgramData\\Anaconda3\\lib\\site-packages\\sklearn\\utils\\optimize.py:212: ConvergenceWarning: newton-cg failed to converge. Increase the number of iterations.\n",
      "  \"number of iterations.\", ConvergenceWarning)\n"
     ]
    },
    {
     "name": "stdout",
     "output_type": "stream",
     "text": [
      "\n",
      "[CV] C=0.4, class_weight=None, max_iter=1, n_jobs=-1, solver=liblinear \n",
      "[CV]  C=0.4, class_weight=None, max_iter=1, n_jobs=-1, solver=liblinear, score=0.801, total=   0.0s\n",
      "[CV] C=0.4, class_weight=None, max_iter=1, n_jobs=-1, solver=liblinear \n",
      "[CV]  C=0.4, class_weight=None, max_iter=1, n_jobs=-1, solver=liblinear, score=0.795, total=   0.0s\n",
      "[CV] C=0.4, class_weight=None, max_iter=1, n_jobs=-1, solver=liblinear \n",
      "[CV]  C=0.4, class_weight=None, max_iter=1, n_jobs=-1, solver=liblinear, score=0.832, total=   0.0s\n",
      "[CV] C=0.4, class_weight=None, max_iter=1, n_jobs=-1, solver=liblinear \n",
      "[CV]  C=0.4, class_weight=None, max_iter=1, n_jobs=-1, solver=liblinear, score=0.805, total=   0.0s\n",
      "[CV] C=0.4, class_weight=None, max_iter=1, n_jobs=-1, solver=liblinear \n",
      "[CV]  C=0.4, class_weight=None, max_iter=1, n_jobs=-1, solver=liblinear, score=0.798, total=   0.0s\n",
      "[CV] C=0.4, class_weight=None, max_iter=1, n_jobs=-1, solver=liblinear \n",
      "[CV]  C=0.4, class_weight=None, max_iter=1, n_jobs=-1, solver=liblinear, score=0.825, total=   0.0s\n",
      "[CV] C=0.4, class_weight=None, max_iter=1, n_jobs=-1, solver=liblinear \n",
      "[CV]  C=0.4, class_weight=None, max_iter=1, n_jobs=-1, solver=liblinear, score=0.785, total=   0.0s\n",
      "[CV] C=0.4, class_weight=None, max_iter=1, n_jobs=-1, solver=liblinear \n",
      "[CV]  C=0.4, class_weight=None, max_iter=1, n_jobs=-1, solver=liblinear, score=0.825, total=   0.0s\n",
      "[CV] C=0.4, class_weight=None, max_iter=1, n_jobs=-1, solver=liblinear \n",
      "[CV]  C=0.4, class_weight=None, max_iter=1, n_jobs=-1, solver=liblinear, score=0.825, total=   0.0s\n",
      "[CV] C=0.4, class_weight=None, max_iter=1, n_jobs=1, solver=newton-cg \n",
      "[CV]  C=0.4, class_weight=None, max_iter=1, n_jobs=1, solver=newton-cg, score=0.714, total=   0.0s\n",
      "[CV] C=0.4, class_weight=None, max_iter=1, n_jobs=1, solver=newton-cg \n",
      "[CV]  C=0.4, class_weight=None, max_iter=1, n_jobs=1, solver=newton-cg, score=0.774, total=   0.0s\n",
      "[CV] C=0.4, class_weight=None, max_iter=1, n_jobs=1, solver=newton-cg \n",
      "[CV]  C=0.4, class_weight=None, max_iter=1, n_jobs=1, solver=newton-cg, score=0.657, total=   0.0s\n",
      "[CV] C=0.4, class_weight=None, max_iter=1, n_jobs=1, solver=newton-cg \n",
      "[CV]  C=0.4, class_weight=None, max_iter=1, n_jobs=1, solver=newton-cg, score=0.737, total=   0.0s\n",
      "[CV] C=0.4, class_weight=None, max_iter=1, n_jobs=1, solver=newton-cg \n",
      "[CV]  C=0.4, class_weight=None, max_iter=1, n_jobs=1, solver=newton-cg, score=0.801, total=   0.0s\n",
      "[CV] C=0.4, class_weight=None, max_iter=1, n_jobs=1, solver=newton-cg \n",
      "[CV]  C=0.4, class_weight=None, max_iter=1, n_jobs=1, solver=newton-cg, score=0.737, total=   0.0s\n",
      "[CV] C=0.4, class_weight=None, max_iter=1, n_jobs=1, solver=newton-cg \n",
      "[CV]  C=0.4, class_weight=None, max_iter=1, n_jobs=1, solver=newton-cg, score=0.731, total=   0.0s\n",
      "[CV] C=0.4, class_weight=None, max_iter=1, n_jobs=1, solver=newton-cg \n",
      "[CV]  C=0.4, class_weight=None, max_iter=1, n_jobs=1, solver=newton-cg, score=0.768, total=   0.0s\n",
      "[CV] C=0.4, class_weight=None, max_iter=1, n_jobs=1, solver=newton-cg \n",
      "[CV]  C=0.4, class_weight=None, max_iter=1, n_jobs=1, solver=newton-cg, score=0.795, total=   0.0s\n",
      "[CV] C=0.4, class_weight=None, max_iter=1, n_jobs=1, solver=liblinear \n",
      "[CV]  C=0.4, class_weight=None, max_iter=1, n_jobs=1, solver=liblinear, score=0.801, total=   0.0s\n",
      "[CV] C=0.4, class_weight=None, max_iter=1, n_jobs=1, solver=liblinear \n",
      "[CV]  C=0.4, class_weight=None, max_iter=1, n_jobs=1, solver=liblinear, score=0.795, total=   0.0s\n",
      "[CV] C=0.4, class_weight=None, max_iter=1, n_jobs=1, solver=liblinear \n",
      "[CV]  C=0.4, class_weight=None, max_iter=1, n_jobs=1, solver=liblinear, score=0.832, total=   0.0s\n",
      "[CV] C=0.4, class_weight=None, max_iter=1, n_jobs=1, solver=liblinear \n",
      "[CV]  C=0.4, class_weight=None, max_iter=1, n_jobs=1, solver=liblinear, score=0.805, total=   0.0s\n",
      "[CV] C=0.4, class_weight=None, max_iter=1, n_jobs=1, solver=liblinear \n",
      "[CV]  C=0.4, class_weight=None, max_iter=1, n_jobs=1, solver=liblinear, score=0.798, total=   0.0s\n",
      "[CV] C=0.4, class_weight=None, max_iter=1, n_jobs=1, solver=liblinear \n",
      "[CV]  C=0.4, class_weight=None, max_iter=1, n_jobs=1, solver=liblinear, score=0.825, total=   0.0s\n",
      "[CV] C=0.4, class_weight=None, max_iter=1, n_jobs=1, solver=liblinear \n",
      "[CV]  C=0.4, class_weight=None, max_iter=1, n_jobs=1, solver=liblinear, score=0.785, total=   0.0s\n",
      "[CV] C=0.4, class_weight=None, max_iter=1, n_jobs=1, solver=liblinear \n",
      "[CV]  C=0.4, class_weight=None, max_iter=1, n_jobs=1, solver=liblinear, score=0.825, total=   0.0s\n",
      "[CV] C=0.4, class_weight=None, max_iter=1, n_jobs=1, solver=liblinear \n",
      "[CV]  C=0.4, class_weight=None, max_iter=1, n_jobs=1, solver=liblinear, score=0.825, total=   0.0s\n"
     ]
    },
    {
     "name": "stderr",
     "output_type": "stream",
     "text": [
      "C:\\ProgramData\\Anaconda3\\lib\\site-packages\\sklearn\\linear_model\\_logistic.py:1539: UserWarning: 'n_jobs' > 1 does not have any effect when 'solver' is set to 'liblinear'. Got 'n_jobs' = 4.\n",
      "  \" = {}.\".format(effective_n_jobs(self.n_jobs)))\n",
      "C:\\ProgramData\\Anaconda3\\lib\\site-packages\\sklearn\\svm\\_base.py:947: ConvergenceWarning: Liblinear failed to converge, increase the number of iterations.\n",
      "  \"the number of iterations.\", ConvergenceWarning)\n",
      "C:\\ProgramData\\Anaconda3\\lib\\site-packages\\sklearn\\linear_model\\_logistic.py:1539: UserWarning: 'n_jobs' > 1 does not have any effect when 'solver' is set to 'liblinear'. Got 'n_jobs' = 4.\n",
      "  \" = {}.\".format(effective_n_jobs(self.n_jobs)))\n",
      "C:\\ProgramData\\Anaconda3\\lib\\site-packages\\sklearn\\svm\\_base.py:947: ConvergenceWarning: Liblinear failed to converge, increase the number of iterations.\n",
      "  \"the number of iterations.\", ConvergenceWarning)\n",
      "C:\\ProgramData\\Anaconda3\\lib\\site-packages\\sklearn\\linear_model\\_logistic.py:1539: UserWarning: 'n_jobs' > 1 does not have any effect when 'solver' is set to 'liblinear'. Got 'n_jobs' = 4.\n",
      "  \" = {}.\".format(effective_n_jobs(self.n_jobs)))\n",
      "C:\\ProgramData\\Anaconda3\\lib\\site-packages\\sklearn\\svm\\_base.py:947: ConvergenceWarning: Liblinear failed to converge, increase the number of iterations.\n",
      "  \"the number of iterations.\", ConvergenceWarning)\n",
      "C:\\ProgramData\\Anaconda3\\lib\\site-packages\\sklearn\\linear_model\\_logistic.py:1539: UserWarning: 'n_jobs' > 1 does not have any effect when 'solver' is set to 'liblinear'. Got 'n_jobs' = 4.\n",
      "  \" = {}.\".format(effective_n_jobs(self.n_jobs)))\n",
      "C:\\ProgramData\\Anaconda3\\lib\\site-packages\\sklearn\\svm\\_base.py:947: ConvergenceWarning: Liblinear failed to converge, increase the number of iterations.\n",
      "  \"the number of iterations.\", ConvergenceWarning)\n",
      "C:\\ProgramData\\Anaconda3\\lib\\site-packages\\sklearn\\linear_model\\_logistic.py:1539: UserWarning: 'n_jobs' > 1 does not have any effect when 'solver' is set to 'liblinear'. Got 'n_jobs' = 4.\n",
      "  \" = {}.\".format(effective_n_jobs(self.n_jobs)))\n",
      "C:\\ProgramData\\Anaconda3\\lib\\site-packages\\sklearn\\svm\\_base.py:947: ConvergenceWarning: Liblinear failed to converge, increase the number of iterations.\n",
      "  \"the number of iterations.\", ConvergenceWarning)\n",
      "C:\\ProgramData\\Anaconda3\\lib\\site-packages\\sklearn\\linear_model\\_logistic.py:1539: UserWarning: 'n_jobs' > 1 does not have any effect when 'solver' is set to 'liblinear'. Got 'n_jobs' = 4.\n",
      "  \" = {}.\".format(effective_n_jobs(self.n_jobs)))\n",
      "C:\\ProgramData\\Anaconda3\\lib\\site-packages\\sklearn\\svm\\_base.py:947: ConvergenceWarning: Liblinear failed to converge, increase the number of iterations.\n",
      "  \"the number of iterations.\", ConvergenceWarning)\n",
      "C:\\ProgramData\\Anaconda3\\lib\\site-packages\\sklearn\\linear_model\\_logistic.py:1539: UserWarning: 'n_jobs' > 1 does not have any effect when 'solver' is set to 'liblinear'. Got 'n_jobs' = 4.\n",
      "  \" = {}.\".format(effective_n_jobs(self.n_jobs)))\n",
      "C:\\ProgramData\\Anaconda3\\lib\\site-packages\\sklearn\\svm\\_base.py:947: ConvergenceWarning: Liblinear failed to converge, increase the number of iterations.\n",
      "  \"the number of iterations.\", ConvergenceWarning)\n",
      "C:\\ProgramData\\Anaconda3\\lib\\site-packages\\sklearn\\linear_model\\_logistic.py:1539: UserWarning: 'n_jobs' > 1 does not have any effect when 'solver' is set to 'liblinear'. Got 'n_jobs' = 4.\n",
      "  \" = {}.\".format(effective_n_jobs(self.n_jobs)))\n",
      "C:\\ProgramData\\Anaconda3\\lib\\site-packages\\sklearn\\svm\\_base.py:947: ConvergenceWarning: Liblinear failed to converge, increase the number of iterations.\n",
      "  \"the number of iterations.\", ConvergenceWarning)\n",
      "C:\\ProgramData\\Anaconda3\\lib\\site-packages\\sklearn\\linear_model\\_logistic.py:1539: UserWarning: 'n_jobs' > 1 does not have any effect when 'solver' is set to 'liblinear'. Got 'n_jobs' = 4.\n",
      "  \" = {}.\".format(effective_n_jobs(self.n_jobs)))\n",
      "C:\\ProgramData\\Anaconda3\\lib\\site-packages\\sklearn\\svm\\_base.py:947: ConvergenceWarning: Liblinear failed to converge, increase the number of iterations.\n",
      "  \"the number of iterations.\", ConvergenceWarning)\n",
      "C:\\ProgramData\\Anaconda3\\lib\\site-packages\\sklearn\\utils\\optimize.py:212: ConvergenceWarning: newton-cg failed to converge. Increase the number of iterations.\n",
      "  \"number of iterations.\", ConvergenceWarning)\n",
      "C:\\ProgramData\\Anaconda3\\lib\\site-packages\\sklearn\\utils\\optimize.py:212: ConvergenceWarning: newton-cg failed to converge. Increase the number of iterations.\n",
      "  \"number of iterations.\", ConvergenceWarning)\n",
      "C:\\ProgramData\\Anaconda3\\lib\\site-packages\\sklearn\\utils\\optimize.py:212: ConvergenceWarning: newton-cg failed to converge. Increase the number of iterations.\n",
      "  \"number of iterations.\", ConvergenceWarning)\n",
      "C:\\ProgramData\\Anaconda3\\lib\\site-packages\\sklearn\\utils\\optimize.py:212: ConvergenceWarning: newton-cg failed to converge. Increase the number of iterations.\n",
      "  \"number of iterations.\", ConvergenceWarning)\n",
      "C:\\ProgramData\\Anaconda3\\lib\\site-packages\\sklearn\\utils\\optimize.py:212: ConvergenceWarning: newton-cg failed to converge. Increase the number of iterations.\n",
      "  \"number of iterations.\", ConvergenceWarning)\n",
      "C:\\ProgramData\\Anaconda3\\lib\\site-packages\\sklearn\\utils\\optimize.py:212: ConvergenceWarning: newton-cg failed to converge. Increase the number of iterations.\n",
      "  \"number of iterations.\", ConvergenceWarning)\n",
      "C:\\ProgramData\\Anaconda3\\lib\\site-packages\\sklearn\\utils\\optimize.py:212: ConvergenceWarning: newton-cg failed to converge. Increase the number of iterations.\n",
      "  \"number of iterations.\", ConvergenceWarning)\n",
      "C:\\ProgramData\\Anaconda3\\lib\\site-packages\\sklearn\\utils\\optimize.py:212: ConvergenceWarning: newton-cg failed to converge. Increase the number of iterations.\n",
      "  \"number of iterations.\", ConvergenceWarning)\n",
      "C:\\ProgramData\\Anaconda3\\lib\\site-packages\\sklearn\\utils\\optimize.py:212: ConvergenceWarning: newton-cg failed to converge. Increase the number of iterations.\n",
      "  \"number of iterations.\", ConvergenceWarning)\n",
      "C:\\ProgramData\\Anaconda3\\lib\\site-packages\\sklearn\\svm\\_base.py:947: ConvergenceWarning: Liblinear failed to converge, increase the number of iterations.\n",
      "  \"the number of iterations.\", ConvergenceWarning)\n",
      "C:\\ProgramData\\Anaconda3\\lib\\site-packages\\sklearn\\svm\\_base.py:947: ConvergenceWarning: Liblinear failed to converge, increase the number of iterations.\n",
      "  \"the number of iterations.\", ConvergenceWarning)\n",
      "C:\\ProgramData\\Anaconda3\\lib\\site-packages\\sklearn\\svm\\_base.py:947: ConvergenceWarning: Liblinear failed to converge, increase the number of iterations.\n",
      "  \"the number of iterations.\", ConvergenceWarning)\n",
      "C:\\ProgramData\\Anaconda3\\lib\\site-packages\\sklearn\\svm\\_base.py:947: ConvergenceWarning: Liblinear failed to converge, increase the number of iterations.\n",
      "  \"the number of iterations.\", ConvergenceWarning)\n",
      "C:\\ProgramData\\Anaconda3\\lib\\site-packages\\sklearn\\svm\\_base.py:947: ConvergenceWarning: Liblinear failed to converge, increase the number of iterations.\n",
      "  \"the number of iterations.\", ConvergenceWarning)\n",
      "C:\\ProgramData\\Anaconda3\\lib\\site-packages\\sklearn\\svm\\_base.py:947: ConvergenceWarning: Liblinear failed to converge, increase the number of iterations.\n",
      "  \"the number of iterations.\", ConvergenceWarning)\n",
      "C:\\ProgramData\\Anaconda3\\lib\\site-packages\\sklearn\\svm\\_base.py:947: ConvergenceWarning: Liblinear failed to converge, increase the number of iterations.\n",
      "  \"the number of iterations.\", ConvergenceWarning)\n",
      "C:\\ProgramData\\Anaconda3\\lib\\site-packages\\sklearn\\svm\\_base.py:947: ConvergenceWarning: Liblinear failed to converge, increase the number of iterations.\n",
      "  \"the number of iterations.\", ConvergenceWarning)\n",
      "C:\\ProgramData\\Anaconda3\\lib\\site-packages\\sklearn\\svm\\_base.py:947: ConvergenceWarning: Liblinear failed to converge, increase the number of iterations.\n",
      "  \"the number of iterations.\", ConvergenceWarning)\n",
      "[Parallel(n_jobs=1)]: Done 576 out of 576 | elapsed:    7.4s finished\n",
      "C:\\ProgramData\\Anaconda3\\lib\\site-packages\\sklearn\\linear_model\\_logistic.py:1539: UserWarning: 'n_jobs' > 1 does not have any effect when 'solver' is set to 'liblinear'. Got 'n_jobs' = 4.\n",
      "  \" = {}.\".format(effective_n_jobs(self.n_jobs)))\n",
      "C:\\ProgramData\\Anaconda3\\lib\\site-packages\\sklearn\\svm\\_base.py:947: ConvergenceWarning: Liblinear failed to converge, increase the number of iterations.\n",
      "  \"the number of iterations.\", ConvergenceWarning)\n"
     ]
    },
    {
     "data": {
      "text/plain": [
       "GridSearchCV(cv=RepeatedStratifiedKFold(n_repeats=3, n_splits=3, random_state=1),\n",
       "             error_score=nan,\n",
       "             estimator=LogisticRegression(C=1.0, class_weight=None, dual=False,\n",
       "                                          fit_intercept=True,\n",
       "                                          intercept_scaling=1, l1_ratio=None,\n",
       "                                          max_iter=300, multi_class='auto',\n",
       "                                          n_jobs=None, penalty='l2',\n",
       "                                          random_state=None, solver='lbfgs',\n",
       "                                          tol=0.0001, verbose=0,\n",
       "                                          warm_start=False),\n",
       "             iid='deprecated', n_jobs=None,\n",
       "             param_grid=[{'C': [0.1, 0.2, 0.3, 0.4], 'class_weight': [None],\n",
       "                          'max_iter': [0.7, 0.8, 0.9, 1], 'n_jobs': [-1, 1],\n",
       "                          'solver': ['newton-cg', 'liblinear']}],\n",
       "             pre_dispatch='2*n_jobs', refit=True, return_train_score=False,\n",
       "             scoring='accuracy', verbose=3)"
      ]
     },
     "execution_count": 84,
     "metadata": {},
     "output_type": "execute_result"
    }
   ],
   "source": [
    "grid_search = GridSearchCV(log_clf, param_grid, cv=cv, scoring = 'accuracy', verbose=3)\n",
    "grid_search.fit(X_train, y_train)"
   ]
  },
  {
   "cell_type": "code",
   "execution_count": 85,
   "metadata": {},
   "outputs": [
    {
     "data": {
      "text/plain": [
       "{'C': 0.3,\n",
       " 'class_weight': None,\n",
       " 'max_iter': 1,\n",
       " 'n_jobs': -1,\n",
       " 'solver': 'liblinear'}"
      ]
     },
     "execution_count": 85,
     "metadata": {},
     "output_type": "execute_result"
    }
   ],
   "source": [
    "grid_search.best_params_"
   ]
  },
  {
   "cell_type": "code",
   "execution_count": 86,
   "metadata": {},
   "outputs": [
    {
     "data": {
      "text/plain": [
       "0.8114478114478114"
      ]
     },
     "execution_count": 86,
     "metadata": {},
     "output_type": "execute_result"
    }
   ],
   "source": [
    "grid_search.best_score_"
   ]
  },
  {
   "cell_type": "markdown",
   "metadata": {},
   "source": [
    "### Error Analysis for Logistic Regression Model"
   ]
  },
  {
   "cell_type": "code",
   "execution_count": 87,
   "metadata": {},
   "outputs": [],
   "source": [
    "from sklearn.model_selection import cross_val_predict\n",
    "\n",
    "y_train_pred = cross_val_predict(log_clf, X_train, y_train, cv=3)"
   ]
  },
  {
   "cell_type": "code",
   "execution_count": 88,
   "metadata": {},
   "outputs": [
    {
     "data": {
      "text/plain": [
       "array([[479,  70],\n",
       "       [103, 239]], dtype=int64)"
      ]
     },
     "execution_count": 88,
     "metadata": {},
     "output_type": "execute_result"
    }
   ],
   "source": [
    "from sklearn.metrics import confusion_matrix\n",
    "\n",
    "conf_mt = confusion_matrix(y_train, y_train_pred)\n",
    "conf_mt"
   ]
  },
  {
   "cell_type": "code",
   "execution_count": 89,
   "metadata": {
    "scrolled": true
   },
   "outputs": [
    {
     "data": {
      "image/png": "[encoded data removed]",
      "text/plain": [
       "<Figure size 288x288 with 1 Axes>"
      ]
     },
     "metadata": {
      "needs_background": "light"
     },
     "output_type": "display_data"
    }
   ],
   "source": [
    "plt.matshow(conf_mt, cmap=plt.cm.gray)\n",
    "plt.show()"
   ]
  },
  {
   "cell_type": "code",
   "execution_count": 90,
   "metadata": {},
   "outputs": [
    {
     "data": {
      "text/plain": [
       "0.7734627831715211"
      ]
     },
     "execution_count": 90,
     "metadata": {},
     "output_type": "execute_result"
    }
   ],
   "source": [
    "from sklearn.metrics import precision_score, recall_score\n",
    "\n",
    "precision_score(y_train, y_train_pred)"
   ]
  },
  {
   "cell_type": "code",
   "execution_count": 91,
   "metadata": {
    "scrolled": true
   },
   "outputs": [
    {
     "data": {
      "text/plain": [
       "0.6988304093567251"
      ]
     },
     "execution_count": 91,
     "metadata": {},
     "output_type": "execute_result"
    }
   ],
   "source": [
    "recall_score(y_train, y_train_pred)"
   ]
  },
  {
   "cell_type": "markdown",
   "metadata": {},
   "source": [
    "Though we are getting over 80% accuracy score but we aren't doing good on precision and recall metrics. And for classification, these metrics provide more picture than only accuracy score.\n",
    "\n",
    "We are also getting 70 false positives and 103 false negatives on our logistic regression model.\n",
    "\n",
    "We need to know why."
   ]
  },
  {
   "cell_type": "code",
   "execution_count": 92,
   "metadata": {},
   "outputs": [],
   "source": [
    "y_scores = cross_val_predict(log_clf, X_train, y_train, cv=3,\n",
    "                             method=\"decision_function\")"
   ]
  },
  {
   "cell_type": "code",
   "execution_count": 93,
   "metadata": {},
   "outputs": [],
   "source": [
    "from sklearn.metrics import precision_recall_curve\n",
    "\n",
    "precisions, recalls, thresholds = precision_recall_curve(y_train, y_scores)"
   ]
  },
  {
   "cell_type": "code",
   "execution_count": 94,
   "metadata": {},
   "outputs": [],
   "source": [
    "import numpy as np"
   ]
  },
  {
   "cell_type": "code",
   "execution_count": 95,
   "metadata": {},
   "outputs": [
    {
     "data": {
      "image/png": "[encoded data removed]",
      "text/plain": [
       "<Figure size 576x288 with 1 Axes>"
      ]
     },
     "metadata": {
      "needs_background": "light"
     },
     "output_type": "display_data"
    }
   ],
   "source": [
    "def plot_precision_recall_vs_threshold(precisions, recalls, thresholds):\n",
    "    plt.plot(thresholds, precisions[:-1], \"b--\", label=\"Precision\", linewidth=2)\n",
    "    plt.plot(thresholds, recalls[:-1], \"g-\", label=\"Recall\", linewidth=2)\n",
    "    plt.legend(loc=\"center right\", fontsize=16) # Not shown in the book\n",
    "    plt.xlabel(\"Threshold\", fontsize=16)        \n",
    "    plt.grid(True)                          \n",
    "\n",
    "recall_90_precision = recalls[np.argmax(precisions >= 0.90)]\n",
    "threshold_90_precision = thresholds[np.argmax(precisions >= 0.90)]\n",
    "\n",
    "plt.figure(figsize=(8, 4))                                                                  \n",
    "plot_precision_recall_vs_threshold(precisions, recalls, thresholds)\n",
    "plt.axis([-4, 4, 0, 1])\n",
    "plt.plot([threshold_90_precision, threshold_90_precision], [0., 0.9], \"r:\")             \n",
    "plt.plot([-4, threshold_90_precision], [0.9, 0.9], \"r:\")                                \n",
    "plt.plot([-4, threshold_90_precision], [recall_90_precision, recall_90_precision], \"r:\")\n",
    "plt.plot([threshold_90_precision], [0.9], \"ro\")                                         \n",
    "plt.plot([threshold_90_precision], [recall_90_precision], \"ro\")         \n",
    "plt.show()"
   ]
  },
  {
   "cell_type": "markdown",
   "metadata": {},
   "source": [
    "So, the precision is little bumpier than recall curve, as we go up the threhold, the precision gets bumpier while the recall is consistent with it's going down trend. At the threshold where precision and recall are equal, the F1 score will be highest. \n",
    "\n",
    "To get an understanding of Classification threshold, do check the link: https://developers.google.com/machine-learning/crash-course/classification/thresholding"
   ]
  },
  {
   "cell_type": "code",
   "execution_count": 96,
   "metadata": {},
   "outputs": [],
   "source": [
    "from sklearn.metrics import f1_score"
   ]
  },
  {
   "cell_type": "code",
   "execution_count": 97,
   "metadata": {},
   "outputs": [],
   "source": [
    "def prediction_by_threshold(X,k):\n",
    "    df = log_clf.decision_function(X)\n",
    "    \n",
    "    # Set the value of decision threshold.\n",
    "    decision_threshold = k\n",
    "\n",
    "    # Desired prediction to increase precision value.\n",
    "    desired_predict =[]\n",
    "\n",
    "    # Iterate through each value of decision function output\n",
    "    # and if  decision score is > than Decision threshold then,\n",
    "    # append (1) to the empty list ( desired_prediction) else\n",
    "    # append (0).\n",
    "    for i in df:\n",
    "        if i<decision_threshold:\n",
    "            desired_predict.append(0)\n",
    "        else:\n",
    "            desired_predict.append(1)\n",
    "            \n",
    "    return desired_predict"
   ]
  },
  {
   "cell_type": "code",
   "execution_count": 98,
   "metadata": {
    "scrolled": true
   },
   "outputs": [
    {
     "name": "stdout",
     "output_type": "stream",
     "text": [
      "0.767123287671233 -0.6057571964956194\n"
     ]
    }
   ],
   "source": [
    "f1_score1 = 0\n",
    "for i in np.linspace(-4,4,800):\n",
    "    y_pred = prediction_by_threshold(X_val, i)\n",
    "    l = f1_score(y_val, y_pred)\n",
    "    if l > f1_score1:\n",
    "        f1_score1 = l\n",
    "        m = i\n",
    "print(f1_score1, m)"
   ]
  },
  {
   "cell_type": "code",
   "execution_count": 99,
   "metadata": {},
   "outputs": [
    {
     "name": "stdout",
     "output_type": "stream",
     "text": [
      "Accuracy Score : 0.8100558659217877 \n",
      "Precision Score : 0.7272727272727273 \n",
      "Recall Score : 0.8115942028985508 \n",
      "F1 Score: 0.767123287671233\n"
     ]
    }
   ],
   "source": [
    "y_pred = prediction_by_threshold(X_val, m)\n",
    "\n",
    "print('Accuracy Score :',accuracy_score(y_val, y_pred),\n",
    "      '\\nPrecision Score :', precision_score(y_val, y_pred),\n",
    "      '\\nRecall Score :', recall_score(y_val, y_pred),\n",
    "      '\\nF1 Score:', f1_score(y_val, y_pred))"
   ]
  },
  {
   "cell_type": "markdown",
   "metadata": {},
   "source": [
    "At -0.31 threshold, we are getting precision = recall\n",
    "\n",
    "Let's try our luck on test set of the competition."
   ]
  },
  {
   "cell_type": "code",
   "execution_count": 100,
   "metadata": {},
   "outputs": [],
   "source": [
    "X_test = pd.read_csv(\"test.csv\")\n",
    "X_test['Family'] = X_test['SibSp']+X_test['Parch']+1\n",
    "X_test1 = preprocess_pipeline.fit_transform(X_test)"
   ]
  },
  {
   "cell_type": "code",
   "execution_count": 101,
   "metadata": {},
   "outputs": [],
   "source": [
    "log_clf_y_pred = prediction_by_threshold(X_test1, m)"
   ]
  },
  {
   "cell_type": "code",
   "execution_count": 102,
   "metadata": {},
   "outputs": [],
   "source": [
    "my_submission = pd.DataFrame({'PassengerId': X_test.PassengerId, 'Survived': log_clf_y_pred})\n",
    "# you could use any filename. We choose submission here\n",
    "my_submission.to_csv('log_clf_submission.csv', index=False)"
   ]
  },
  {
   "cell_type": "markdown",
   "metadata": {},
   "source": [
    "So, we are getting around 75.1% on the Kaggle test set, though we are getting 81% on our validation set. We may have to get more training data to perform better on test set which is not possible.\n",
    "\n",
    "Even setting a classification threshold we are doing not so great on the test set.\n",
    "\n",
    "Let's plot ROC Curve and explore some more on our error analysis."
   ]
  },
  {
   "cell_type": "code",
   "execution_count": 103,
   "metadata": {},
   "outputs": [],
   "source": [
    "from sklearn.metrics import roc_curve\n",
    "\n",
    "fpr, tpr, thresholds = roc_curve(y_train, y_scores)"
   ]
  },
  {
   "cell_type": "code",
   "execution_count": 106,
   "metadata": {},
   "outputs": [
    {
     "data": {
      "image/png": "[encoded data removed]",
      "text/plain": [
       "<Figure size 576x432 with 1 Axes>"
      ]
     },
     "metadata": {
      "needs_background": "light"
     },
     "output_type": "display_data"
    }
   ],
   "source": [
    "def plot_roc_curve(fpr, tpr, label=None):\n",
    "    plt.plot(fpr, tpr, linewidth=2, label=label)\n",
    "    plt.plot([0, 1], [0, 1], 'k--') # dashed diagonal\n",
    "    plt.axis([0, 1, 0, 1])                                    \n",
    "    plt.xlabel('False Positive Rate (Fall-Out)', fontsize=16) \n",
    "    plt.ylabel('True Positive Rate (Recall)', fontsize=16)  \n",
    "    plt.grid(True)                                          \n",
    "\n",
    "plt.figure(figsize=(8, 6))                                    \n",
    "plot_roc_curve(fpr, tpr)                                              \n",
    "plt.show()"
   ]
  },
  {
   "cell_type": "markdown",
   "metadata": {},
   "source": [
    "A good classifier stays as far away from that line as possible (toward the top-left corner), which is obviously our model is not achieving."
   ]
  },
  {
   "cell_type": "code",
   "execution_count": 107,
   "metadata": {},
   "outputs": [
    {
     "data": {
      "text/plain": [
       "0.8466962792530811"
      ]
     },
     "execution_count": 107,
     "metadata": {},
     "output_type": "execute_result"
    }
   ],
   "source": [
    "from sklearn.metrics import roc_auc_score\n",
    "\n",
    "roc_auc_score(y_train, y_scores)"
   ]
  },
  {
   "cell_type": "markdown",
   "metadata": {},
   "source": [
    "### RandomForestClassifier"
   ]
  },
  {
   "cell_type": "code",
   "execution_count": 108,
   "metadata": {},
   "outputs": [],
   "source": [
    "from sklearn.ensemble import RandomForestClassifier"
   ]
  },
  {
   "cell_type": "code",
   "execution_count": 109,
   "metadata": {},
   "outputs": [
    {
     "data": {
      "text/plain": [
       "RandomForestClassifier(bootstrap=True, ccp_alpha=0.0, class_weight=None,\n",
       "                       criterion='gini', max_depth=None, max_features='auto',\n",
       "                       max_leaf_nodes=None, max_samples=None,\n",
       "                       min_impurity_decrease=0.0, min_impurity_split=None,\n",
       "                       min_samples_leaf=1, min_samples_split=2,\n",
       "                       min_weight_fraction_leaf=0.0, n_estimators=100,\n",
       "                       n_jobs=None, oob_score=False, random_state=None,\n",
       "                       verbose=0, warm_start=False)"
      ]
     },
     "execution_count": 109,
     "metadata": {},
     "output_type": "execute_result"
    }
   ],
   "source": [
    "forest_clf = RandomForestClassifier()\n",
    "\n",
    "forest_clf.fit(xtrain, ytrain)"
   ]
  },
  {
   "cell_type": "code",
   "execution_count": 110,
   "metadata": {},
   "outputs": [
    {
     "data": {
      "text/plain": [
       "0.8156424581005587"
      ]
     },
     "execution_count": 110,
     "metadata": {},
     "output_type": "execute_result"
    }
   ],
   "source": [
    "forest_y_pred = forest_clf.predict(X_val)\n",
    "\n",
    "accuracy_score(y_val, forest_y_pred)"
   ]
  },
  {
   "cell_type": "markdown",
   "metadata": {},
   "source": [
    "81.56% It's better than our previous model. But would we get this on our test test, that's the question."
   ]
  },
  {
   "cell_type": "markdown",
   "metadata": {},
   "source": [
    "### Error Analysis for Random Forest Classifier"
   ]
  },
  {
   "cell_type": "code",
   "execution_count": 113,
   "metadata": {},
   "outputs": [
    {
     "data": {
      "text/plain": [
       "array([[463,  86],\n",
       "       [100, 242]], dtype=int64)"
      ]
     },
     "execution_count": 113,
     "metadata": {},
     "output_type": "execute_result"
    }
   ],
   "source": [
    "y_train_pred = cross_val_predict(forest_clf, X_train, y_train, cv=3)\n",
    "\n",
    "conf_mt = confusion_matrix(y_train, y_train_pred)\n",
    "conf_mt"
   ]
  },
  {
   "cell_type": "code",
   "execution_count": 114,
   "metadata": {},
   "outputs": [
    {
     "data": {
      "image/png": "[encoded data removed]",
      "text/plain": [
       "<Figure size 288x288 with 1 Axes>"
      ]
     },
     "metadata": {
      "needs_background": "light"
     },
     "output_type": "display_data"
    }
   ],
   "source": [
    "plt.matshow(conf_mt, cmap=plt.cm.gray)\n",
    "plt.show()"
   ]
  },
  {
   "cell_type": "code",
   "execution_count": 124,
   "metadata": {},
   "outputs": [],
   "source": [
    "y_probas_forest = cross_val_predict(forest_clf, X_train, y_train, cv=3,\n",
    "                                    method=\"predict_proba\")"
   ]
  },
  {
   "cell_type": "code",
   "execution_count": 125,
   "metadata": {},
   "outputs": [],
   "source": [
    "y_scores_forest = y_probas_forest[:, 1] # score = proba of positive class\n",
    "fpr_forest, tpr_forest, thresholds_forest = roc_curve(y_train,y_scores_forest)"
   ]
  },
  {
   "cell_type": "code",
   "execution_count": 127,
   "metadata": {
    "scrolled": false
   },
   "outputs": [
    {
     "data": {
      "image/png": "[encoded data removed]",
      "text/plain": [
       "<Figure size 576x432 with 1 Axes>"
      ]
     },
     "metadata": {
      "needs_background": "light"
     },
     "output_type": "display_data"
    }
   ],
   "source": [
    "recall_for_forest = tpr_forest[np.argmax(fpr_forest >= fpr_90)]\n",
    "\n",
    "plt.figure(figsize=(8, 6))\n",
    "plt.plot(fpr, tpr, \"b:\", linewidth=2, label=\"Logistic Regression\")\n",
    "plot_roc_curve(fpr_forest, tpr_forest, \"Random Forest\")\n",
    "plt.grid(True)\n",
    "plt.legend(loc=\"lower right\", fontsize=16)\n",
    "plt.show()"
   ]
  },
  {
   "cell_type": "code",
   "execution_count": 128,
   "metadata": {},
   "outputs": [
    {
     "data": {
      "text/plain": [
       "0.8418762449536106"
      ]
     },
     "execution_count": 128,
     "metadata": {},
     "output_type": "execute_result"
    }
   ],
   "source": [
    "roc_auc_score(y_train, y_scores_forest)"
   ]
  },
  {
   "cell_type": "markdown",
   "metadata": {},
   "source": [
    "Area under the curve of Random Forest Classifier is better than Logistic Regression but just a little bit."
   ]
  },
  {
   "cell_type": "code",
   "execution_count": 129,
   "metadata": {},
   "outputs": [
    {
     "data": {
      "text/plain": [
       "0.7378048780487805"
      ]
     },
     "execution_count": 129,
     "metadata": {},
     "output_type": "execute_result"
    }
   ],
   "source": [
    "precision_score(y_train, y_train_pred)"
   ]
  },
  {
   "cell_type": "code",
   "execution_count": 130,
   "metadata": {},
   "outputs": [
    {
     "data": {
      "text/plain": [
       "0.7076023391812866"
      ]
     },
     "execution_count": 130,
     "metadata": {},
     "output_type": "execute_result"
    }
   ],
   "source": [
    "recall_score(y_train, y_train_pred)"
   ]
  },
  {
   "cell_type": "code",
   "execution_count": 131,
   "metadata": {},
   "outputs": [
    {
     "data": {
      "text/plain": [
       "0.7223880597014926"
      ]
     },
     "execution_count": 131,
     "metadata": {},
     "output_type": "execute_result"
    }
   ],
   "source": [
    "f1_score(y_train, y_train_pred)"
   ]
  },
  {
   "cell_type": "markdown",
   "metadata": {},
   "source": [
    "So, the precision and recall are pretty close, and still we are doing just a little better than Logistic Regression."
   ]
  },
  {
   "cell_type": "code",
   "execution_count": 111,
   "metadata": {},
   "outputs": [],
   "source": [
    "X_test = pd.read_csv('test.csv')\n",
    "X_test['Family'] = X_test['SibSp'] + X_test['Parch'] + 1\n",
    "X_test1 = preprocess_pipeline.fit_transform(X_test)"
   ]
  },
  {
   "cell_type": "code",
   "execution_count": 95,
   "metadata": {},
   "outputs": [
    {
     "data": {
      "text/plain": [
       "array([[ 0.38623105, -0.49741333, -0.5534426 , ...,  0.        ,\n",
       "         1.        ,  0.        ],\n",
       "       [ 1.37137004, -0.51227801,  0.10564289, ...,  1.        ,\n",
       "         0.        ,  0.        ],\n",
       "       [ 2.55353683, -0.46410047, -0.5534426 , ...,  0.        ,\n",
       "         1.        ,  0.        ],\n",
       "       ...,\n",
       "       [ 0.70147553, -0.50779638, -0.5534426 , ...,  0.        ,\n",
       "         1.        ,  0.        ],\n",
       "       [-0.20485235, -0.49345515, -0.5534426 , ...,  0.        ,\n",
       "         1.        ,  0.        ],\n",
       "       [-0.20485235, -0.23695704,  0.76472838, ...,  1.        ,\n",
       "         1.        ,  1.        ]])"
      ]
     },
     "execution_count": 95,
     "metadata": {},
     "output_type": "execute_result"
    }
   ],
   "source": [
    "X_test1"
   ]
  },
  {
   "cell_type": "code",
   "execution_count": 97,
   "metadata": {},
   "outputs": [],
   "source": [
    "forest_y_test_pred = forest_clf.predict(X_test1)"
   ]
  },
  {
   "cell_type": "code",
   "execution_count": 98,
   "metadata": {},
   "outputs": [],
   "source": [
    "my_submission = pd.DataFrame({'PassengerId': X_test.PassengerId, 'Survived': forest_y_test_pred})\n",
    "# you could use any filename. We choose submission here\n",
    "my_submission.to_csv('submission.csv', index=False)"
   ]
  },
  {
   "cell_type": "markdown",
   "metadata": {},
   "source": [
    "Let's split this data set into train and test first as in previous scenario, I was getting 84% cross_val_score here but only 77% on test set after Kaggle submission. So, I will try to tune the each model's parameter using Grid Search now and see if I can do any better.\n",
    "\n",
    "If you have any ideas to better my model, do let me know in the comments and please upvote my work, thanks!"
   ]
  }
 ],
 "metadata": {
  "kernelspec": {
   "display_name": "Python 3",
   "language": "python",
   "name": "python3"
  },
  "language_info": {
   "codemirror_mode": {
    "name": "ipython",
    "version": 3
   },
   "file_extension": ".py",
   "mimetype": "text/x-python",
   "name": "python",
   "nbconvert_exporter": "python",
   "pygments_lexer": "ipython3",
   "version": "3.7.6"
  }
 },
 "nbformat": 4,
 "nbformat_minor": 4
}
